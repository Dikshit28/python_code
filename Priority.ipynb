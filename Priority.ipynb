{
 "cells": [
  {
   "cell_type": "code",
   "execution_count": 24,
   "id": "548d192d",
   "metadata": {},
   "outputs": [
    {
     "name": "stdout",
     "output_type": "stream",
     "text": [
      "Order in which processes gets executed: 1 3 2 \n",
      "Processes    Burst Time    Waiting Time    Turn-Around Time\n",
      "    1 \t\t 10 \t\t 0 \t\t 10\n",
      "    3 \t\t 8 \t\t 10 \t\t 18\n",
      "    2 \t\t 5 \t\t 18 \t\t 23\n",
      "Average waiting time = 9.33333 \n",
      "Average turn around time =  17.0\n"
     ]
    }
   ],
   "source": [
    "def findWaitingTime(processes, n, wt):  \n",
    "    wt[0] = 0\n",
    "  \n",
    "    # calculating waiting time  \n",
    "    for i in range(1, n):  \n",
    "        wt[i] = processes[i - 1][1] + wt[i - 1]\n",
    "        \n",
    "def findTurnAroundTime(processes, n, wt, tat):  \n",
    "      \n",
    "    # Calculating turnaround time by \n",
    "    # adding bt[i] + wt[i]  \n",
    "    for i in range(n): \n",
    "        tat[i] = processes[i][1] + wt[i]\n",
    "        \n",
    "def findavgTime(processes, n):  \n",
    "    wt = [0] * n \n",
    "    tat = [0] * n  \n",
    "    findWaitingTime(processes, n, wt)   \n",
    "    findTurnAroundTime(processes, n, wt, tat)\n",
    "    print()\n",
    "    print(\"Processes    Burst Time    Waiting\",\"Time    Turn-Around Time\") \n",
    "    total_wt = 0\n",
    "    total_tat = 0\n",
    "    for i in range(n): \n",
    "  \n",
    "        total_wt = total_wt + wt[i]  \n",
    "        total_tat = total_tat + tat[i]\n",
    "        print(\"   \", processes[i][0], \"\\t\\t\",processes[i][1], \"\\t\\t\",wt[i], \"\\t\\t\", tat[i]) \n",
    "  \n",
    "    print(\"Average waiting time = %.5f \"%(total_wt /n)) \n",
    "    print(\"Average turn around time = \", total_tat / n)  \n",
    "    \n",
    "def priorityScheduling(proc, n): \n",
    "      \n",
    "    proc = sorted(proc, key = lambda proc:proc[2],reverse = True);  \n",
    "  \n",
    "    print(\"Order in which processes gets executed\",end=\": \") \n",
    "    for i in proc: \n",
    "        print(i[0], end = \" \") \n",
    "    findavgTime(proc, n)  \n",
    "\n",
    "if __name__ ==\"__main__\": \n",
    "      \n",
    "    # [ Process id, Burst time, Priority ]\n",
    "    proc = [[1, 10, 1],  \n",
    "            [2, 5, 0],  \n",
    "            [3, 8, 1]] \n",
    "    n = 3\n",
    "    priorityScheduling(proc, n)"
   ]
  },
  {
   "cell_type": "code",
   "execution_count": null,
   "id": "a3f7bf93",
   "metadata": {},
   "outputs": [],
   "source": []
  }
 ],
 "metadata": {
  "kernelspec": {
   "display_name": "Python 3 (ipykernel)",
   "language": "python",
   "name": "python3"
  },
  "language_info": {
   "codemirror_mode": {
    "name": "ipython",
    "version": 3
   },
   "file_extension": ".py",
   "mimetype": "text/x-python",
   "name": "python",
   "nbconvert_exporter": "python",
   "pygments_lexer": "ipython3",
   "version": "3.9.7"
  }
 },
 "nbformat": 4,
 "nbformat_minor": 5
}
