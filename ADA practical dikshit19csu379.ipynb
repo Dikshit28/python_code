{
 "cells": [
  {
   "cell_type": "code",
   "execution_count": 12,
   "id": "b4a73f12",
   "metadata": {},
   "outputs": [],
   "source": [
    "def QuickSort(arr):\n",
    "    n = len(arr)\n",
    "    \n",
    "    if n < 2:\n",
    "        return arr\n",
    "    \n",
    "    cur_pos = 0\n",
    "\n",
    "    for i in range(1, n):\n",
    "        if arr[i] <= arr[0]:\n",
    "            cur_pos += 1\n",
    "            temp = arr[i]\n",
    "            arr[i] = arr[cur_pos]\n",
    "            arr[cur_pos] = temp\n",
    "\n",
    "    temp = arr[0]\n",
    "    arr[0] = arr[cur_pos] \n",
    "    arr[cur_pos] = temp\n",
    "    \n",
    "    left = QuickSort(arr[0:cur_pos])\n",
    "    right = QuickSort(arr[cur_pos+1:n])\n",
    "\n",
    "    arr = left + [arr[cur_pos]] + right\n",
    "    \n",
    "    return arr\n"
   ]
  },
  {
   "cell_type": "code",
   "execution_count": 13,
   "id": "d7dc7aa0",
   "metadata": {},
   "outputs": [
    {
     "name": "stdout",
     "output_type": "stream",
     "text": [
      "5 6 8 2 4 3 7 9 6 5 4\n",
      "OG Array:  [5, 6, 8, 2, 4, 3, 7, 9, 6, 5, 4]\n",
      "Final Array:  [2, 3, 4, 4, 5, 5, 6, 6, 7, 8, 9]\n"
     ]
    }
   ],
   "source": [
    "arr=input().split()\n",
    "arr=list(map(int, arr))\n",
    "print(\"OG Array: \",arr)\n",
    "print(\"Final Array: \",QuickSort(arr))"
   ]
  },
  {
   "cell_type": "markdown",
   "id": "80c47b96",
   "metadata": {},
   "source": [
    "# Best case - O(n log(n))    \n",
    "\n",
    "# Worst case - O(n^2)"
   ]
  },
  {
   "cell_type": "code",
   "execution_count": null,
   "id": "3e4ab92d",
   "metadata": {},
   "outputs": [],
   "source": []
  }
 ],
 "metadata": {
  "kernelspec": {
   "display_name": "Python 3",
   "language": "python",
   "name": "python3"
  },
  "language_info": {
   "codemirror_mode": {
    "name": "ipython",
    "version": 3
   },
   "file_extension": ".py",
   "mimetype": "text/x-python",
   "name": "python",
   "nbconvert_exporter": "python",
   "pygments_lexer": "ipython3",
   "version": "3.9.1"
  }
 },
 "nbformat": 4,
 "nbformat_minor": 5
}
