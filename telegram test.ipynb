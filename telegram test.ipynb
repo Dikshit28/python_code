{
 "cells": [
  {
   "cell_type": "code",
   "execution_count": 2,
   "metadata": {},
   "outputs": [
    {
     "name": "stderr",
     "output_type": "stream",
     "text": [
      "2021-03-26 13:34:37,434 - apscheduler.scheduler - INFO - Scheduler started\n",
      "2021-03-26 13:35:40,256 - telegram.ext.updater - INFO - Received signal 2 (SIGINT), stopping...\n",
      "2021-03-26 13:35:40,257 - apscheduler.scheduler - INFO - Scheduler has been shut down\n"
     ]
    }
   ],
   "source": [
    "from telegram.ext import Updater, CommandHandler, MessageHandler, Filters\n",
    "import logging\n",
    "from selenium import webdriver\n",
    "from selenium.webdriver.common.keys import Keys\n",
    "from selenium.webdriver.common.by import By\n",
    "from selenium.webdriver.support.ui import WebDriverWait\n",
    "from selenium.webdriver.support import expected_conditions as EC\n",
    "\n",
    "# Logging\n",
    "logging.basicConfig(format='%(asctime)s - %(name)s - %(levelname)s - %(message)s',\n",
    "                     level=logging.INFO)\n",
    "driver_path = \"C:/Program Files/BraveSoftware/Brave-Browser/Application/chromedriver.exe\"\n",
    "brave_path = \"C:/Program Files/BraveSoftware/Brave-Browser/Application/brave.exe\"\n",
    "\n",
    "option = webdriver.ChromeOptions()\n",
    "option.binary_location = brave_path\n",
    "\n",
    "# Command Handlers. Usually take two arguments: bot and update. \n",
    "def start(update, context):\n",
    "    context.bot.send_message(chat_id=update.message.chat_id, text=\"Welcome! Pls send '/read + url of the article' to obtain Outline.com link\")\n",
    "\n",
    "def read(update, context):\n",
    "    # Processing Outline\n",
    "    browser = webdriver.Chrome(executable_path=driver_path, options=option)\n",
    "    browser.get('https://www.outline.com')\n",
    "    linkbar = browser.find_element_by_id('source')\n",
    "    linkbar.send_keys(context.args) # pass in the link from the argument\n",
    "    linkbar.send_keys(Keys.ENTER)\n",
    "    time.sleep(10)\n",
    "    # send the link back\n",
    "    context.bot.send_message(chat_id=update.message.chat_id, text=browser.current_url)\n",
    "    \n",
    "def main():\n",
    "    # Create updater and pass in Bot's auth key. \n",
    "    updater = Updater(token='1499954995:AAFGlqP8E3PYA_vCACIDcgVdJwgaeFlnABA', use_context=True)\n",
    "    # Get dispatcher to register handlers\n",
    "    dispatcher = updater.dispatcher\n",
    "    # answer commands\n",
    "    dispatcher.add_handler(CommandHandler('start', start))\n",
    "    dispatcher.add_handler(CommandHandler('read', read))\n",
    "    # start the bot\n",
    "    updater.start_polling()\n",
    "    # Stop\n",
    "    updater.idle()\n",
    "\n",
    "if __name__ == '__main__':\n",
    "    main()"
   ]
  },
  {
   "cell_type": "code",
   "execution_count": null,
   "metadata": {},
   "outputs": [],
   "source": []
  }
 ],
 "metadata": {
  "kernelspec": {
   "display_name": "Python 3",
   "language": "python",
   "name": "python3"
  },
  "language_info": {
   "codemirror_mode": {
    "name": "ipython",
    "version": 3
   },
   "file_extension": ".py",
   "mimetype": "text/x-python",
   "name": "python",
   "nbconvert_exporter": "python",
   "pygments_lexer": "ipython3",
   "version": "3.9.1"
  }
 },
 "nbformat": 4,
 "nbformat_minor": 4
}