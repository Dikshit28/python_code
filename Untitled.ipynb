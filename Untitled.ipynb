{
 "cells": [
  {
   "cell_type": "code",
   "execution_count": null,
   "metadata": {},
   "outputs": [],
   "source": [
    "from tkinter import *\n",
    "root=Tk()\n",
    "from PyDictionary import PyDictionary\n",
    "import pyttsx3 as tts\n",
    "import speech_recognition as sr\n",
    "import os\n",
    "root.title(\"Audinary\")\n",
    "def resource_path(relative_path):\n",
    "    \"\"\" Get absolute path to resource, works for dev and for PyInstaller \"\"\"\n",
    "    try:\n",
    "        # PyInstaller creates a temp folder and stores path in _MEIPASS\n",
    "        base_path = sys._MEIPASS\n",
    "    except Exception:\n",
    "        base_path = os.path.abspath(\".\")\n",
    "\n",
    "    return os.path.join(base_path, relative_path)\n",
    "\n",
    "engine = tts.init()\n",
    "\n",
    "def ger():\n",
    "    speaker(\"Say the word\")\n",
    "    r= sr.Recognizer()\n",
    "    with sr.Microphone() as source:\n",
    "        audio = r.listen(source)\n",
    "    try:\n",
    "        text = r.recognize_google(audio)\n",
    "        searcher(text)\n",
    "    except Exception as e:\n",
    "        print(e)\n",
    "\n",
    "def speaker(text):\n",
    "    engine.say(text)\n",
    "    engine.runAndWait()\n",
    "\n",
    "def searcher(search):\n",
    "    result = PyDictionary.meaning(search)['Noun'][0]\n",
    "    speech=\"HEAR CAREFULLY!!!  \",search,\" is \",result\n",
    "    speaker(speech)\n",
    "\n",
    "b=Button(root,justify = CENTER,command=ger)\n",
    "\n",
    "b.pack()\n",
    "root.mainloop()"
   ]
  },
  {
   "cell_type": "code",
   "execution_count": null,
   "metadata": {},
   "outputs": [],
   "source": []
  }
 ],
 "metadata": {
  "kernelspec": {
   "display_name": "Python 3",
   "language": "python",
   "name": "python3"
  }
 },
 "nbformat": 4,
 "nbformat_minor": 4
}
