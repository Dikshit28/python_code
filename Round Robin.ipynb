{
 "cells": [
  {
   "cell_type": "markdown",
   "id": "6d2b4d4c",
   "metadata": {},
   "source": [
    "<center><h1> Program for Round Robin scheduling algo </h1></center>\n"
   ]
  },
  {
   "cell_type": "markdown",
   "id": "a5bebb4d",
   "metadata": {},
   "source": [
    "### Waiting Time"
   ]
  },
  {
   "cell_type": "code",
   "execution_count": 55,
   "id": "ab28361d",
   "metadata": {},
   "outputs": [],
   "source": [
    "def findWaitingTimeGantt(processes, n, bt,wt, quantum):\n",
    "    rem_bt = [0] * n\n",
    " \n",
    "    for i in range(n):\n",
    "        rem_bt[i] = bt[i]\n",
    "    t = 0\n",
    "    gantt={}\n",
    "    while(True):\n",
    "        check = True\n",
    " \n",
    "        for i in range(n):\n",
    "             \n",
    "            if (rem_bt[i] > 0) :\n",
    "                check = False \n",
    "                gantt[t]=i+1\n",
    "                if (rem_bt[i] > quantum) :\n",
    "                 \n",
    "                    t += quantum\n",
    " \n",
    "                    rem_bt[i] -= quantum\n",
    "                 \n",
    "                else:\n",
    "                 \n",
    "                    t = t + rem_bt[i]\n",
    " \n",
    "                    wt[i] = t - bt[i]\n",
    " \n",
    "                    rem_bt[i] = 0\n",
    "                 \n",
    "        if (check == True):\n",
    "            for key in gantt:\n",
    "                print(\"Time\",key,\":\",\"Process\",gantt[key])\n",
    "            print(\"Time\",t,\":\",\"Processes end\")\n",
    "            break"
   ]
  },
  {
   "cell_type": "markdown",
   "id": "c70cb43a",
   "metadata": {},
   "source": [
    "### Turn around time and Average Wait time and turn around time"
   ]
  },
  {
   "cell_type": "code",
   "execution_count": 56,
   "id": "ff49a286",
   "metadata": {},
   "outputs": [],
   "source": [
    "def findavgTimeGantt(processes, n, bt, quantum):\n",
    "    wt = [0] * n\n",
    "    tat = [0] * n\n",
    " \n",
    "    findWaitingTimeGantt(processes, n, bt,\n",
    "                         wt, quantum)\n",
    " \n",
    " \n",
    "    print(\"Processes    Burst Time     Waiting\",\n",
    "                     \"Time    Turn-Around Time\")\n",
    "    total_wt = 0\n",
    "    total_tat = 0\n",
    "    for i in range(n):\n",
    "        tat[i] = bt[i] + wt[i]\n",
    "        total_wt = total_wt + wt[i]\n",
    "        total_tat = total_tat + tat[i]\n",
    "        print(\" \", i + 1, \"\\t\\t\", bt[i],\n",
    "              \"\\t\\t\", wt[i], \"\\t\\t\", tat[i])\n",
    " \n",
    "    print(\"\\nAverage waiting time =\",(total_wt /n) )\n",
    "    print(\"Average turn around time = \",(total_tat / n))"
   ]
  },
  {
   "cell_type": "markdown",
   "id": "078c02ff",
   "metadata": {},
   "source": [
    "### Code Runner"
   ]
  },
  {
   "cell_type": "code",
   "execution_count": 57,
   "id": "ec0ce817",
   "metadata": {},
   "outputs": [
    {
     "name": "stdout",
     "output_type": "stream",
     "text": [
      "Time 0 : Process 1\n",
      "Time 2 : Process 2\n",
      "Time 4 : Process 3\n",
      "Time 6 : Process 1\n",
      "Time 8 : Process 2\n",
      "Time 10 : Process 3\n",
      "Time 12 : Process 1\n",
      "Time 14 : Process 2\n",
      "Time 15 : Process 3\n",
      "Time 17 : Process 1\n",
      "Time 19 : Process 3\n",
      "Time 21 : Process 1\n",
      "Time 23 : Processes end\n",
      "Processes    Burst Time     Waiting Time    Turn-Around Time\n",
      "  1 \t\t 10 \t\t 13 \t\t 23\n",
      "  2 \t\t 5 \t\t 10 \t\t 15\n",
      "  3 \t\t 8 \t\t 13 \t\t 21\n",
      "\n",
      "Average waiting time = 12.0\n",
      "Average turn around time =  19.666666666666668\n"
     ]
    }
   ],
   "source": [
    "proc = [1, 2, 3]\n",
    "n = 3\n",
    "\n",
    "burst_time = [10, 5, 8]\n",
    "\n",
    "quantum = 2;\n",
    "findavgTimeGantt(proc, n, burst_time, quantum)"
   ]
  }
 ],
 "metadata": {
  "kernelspec": {
   "display_name": "Python 3 (ipykernel)",
   "language": "python",
   "name": "python3"
  },
  "language_info": {
   "codemirror_mode": {
    "name": "ipython",
    "version": 3
   },
   "file_extension": ".py",
   "mimetype": "text/x-python",
   "name": "python",
   "nbconvert_exporter": "python",
   "pygments_lexer": "ipython3",
   "version": "3.9.1"
  }
 },
 "nbformat": 4,
 "nbformat_minor": 5
}
