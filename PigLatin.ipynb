{
 "cells": [
  {
   "cell_type": "code",
   "execution_count": 10,
   "metadata": {},
   "outputs": [],
   "source": [
    "def pigLatin(sentence):\n",
    "    n=[]\n",
    "    k=sentence.split()\n",
    "    print(k)\n",
    "    for i in k:\n",
    "        s=i[1:]+i[0].lower()+\"ay\"\n",
    "        n.append(s.capitalize())\n",
    "    print(' '.join(map(str, n)))"
   ]
  },
  {
   "cell_type": "code",
   "execution_count": 11,
   "metadata": {},
   "outputs": [
    {
     "name": "stdout",
     "output_type": "stream",
     "text": [
      "['The', 'quick', 'brown', 'fox']\n",
      "Hetay Uickqay Rownbay Oxfay\n"
     ]
    }
   ],
   "source": [
    "pigLatin('The quick brown fox')"
   ]
  },
  {
   "cell_type": "code",
   "execution_count": 14,
   "metadata": {},
   "outputs": [],
   "source": [
    "def english(sentence):\n",
    "    n=[]\n",
    "    k=sentence.split()\n",
    "    print(k)\n",
    "    for i in k:\n",
    "        s=i[-3]+i[:-3]\n",
    "        n.append(s.capitalize())\n",
    "    print(' '.join(map(str, n)))"
   ]
  },
  {
   "cell_type": "code",
   "execution_count": 15,
   "metadata": {},
   "outputs": [
    {
     "name": "stdout",
     "output_type": "stream",
     "text": [
      "['Hetay', 'Uickqay', 'Rownbay', 'Oxfay']\n",
      "The Quick Brown Fox\n"
     ]
    }
   ],
   "source": [
    "english(\"Hetay Uickqay Rownbay Oxfay\")"
   ]
  },
  {
   "cell_type": "code",
   "execution_count": null,
   "metadata": {},
   "outputs": [],
   "source": []
  }
 ],
 "metadata": {
  "kernelspec": {
   "display_name": "Python 3",
   "language": "python",
   "name": "python3"
  },
  "language_info": {
   "codemirror_mode": {
    "name": "ipython",
    "version": 3
   },
   "file_extension": ".py",
   "mimetype": "text/x-python",
   "name": "python",
   "nbconvert_exporter": "python",
   "pygments_lexer": "ipython3",
   "version": "3.9.1"
  }
 },
 "nbformat": 4,
 "nbformat_minor": 4
}
