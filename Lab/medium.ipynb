{
 "cells": [
  {
   "cell_type": "code",
   "execution_count": 7,
   "metadata": {},
   "outputs": [],
   "source": [
    "from selenium import webdriver\n",
    "from selenium.webdriver.common.keys import Keys\n",
    "from selenium.webdriver.common.by import By\n",
    "from selenium.webdriver.support.ui import WebDriverWait\n",
    "from selenium.webdriver.support import expected_conditions as EC\n",
    "import time\n",
    "import warnings\n",
    "warnings.filterwarnings('ignore')"
   ]
  },
  {
   "cell_type": "code",
   "execution_count": 8,
   "metadata": {},
   "outputs": [],
   "source": [
    "def opener():\n",
    "    driver_path = \"C:/Program Files/BraveSoftware/Brave-Browser/Application/chromedriver.exe\"\n",
    "    brave_path = \"C:/Program Files/BraveSoftware/Brave-Browser/Application/brave.exe\"\n",
    "\n",
    "    option = webdriver.ChromeOptions()\n",
    "    option.binary_location = brave_path\n",
    "    # option.add_argument(\"--incognito\") #OPTIONAL\n",
    "    #option.add_argument(\"--headless\") #OPTIONAL\n",
    "\n",
    "    # Create new Instance of Chrome\n",
    "    browser = webdriver.Chrome(executable_path=driver_path, chrome_options=option)\n",
    "    browser.get(\"https://medium.com/better-programming\")\n",
    "    time.sleep(5)\n",
    "    return browser"
   ]
  },
  {
   "cell_type": "code",
   "execution_count": 9,
   "metadata": {},
   "outputs": [],
   "source": [
    "def scrape(browser,count=1):\n",
    "    file=open('output.txt','a')\n",
    "    while(count<100):\n",
    "        try:\n",
    "            path=f'/html/body/div/div/div[3]/div/div/main/div/div[2]/div/article[{count}]/div/div/div/div/div/div[2]/div/div[1]/div/div/div/div/div[1]/div[1]/a/div[1]/h2'\n",
    "            count+=1\n",
    "            element = WebDriverWait(browser, 10).until(EC.presence_of_element_located((By.XPATH, path)))\n",
    "            title=browser.find_element_by_xpath(path).text\n",
    "            file.write(title+'\\n')\n",
    "        except:\n",
    "            scroll(browser)\n",
    "    file.close()"
   ]
  },
  {
   "cell_type": "code",
   "execution_count": 10,
   "metadata": {},
   "outputs": [],
   "source": [
    "def scroll(browser):\n",
    "    html=browser.find_element_by_tag_name('html')\n",
    "    html.send_keys(Keys.END)\n",
    "    time.sleep(5)"
   ]
  },
  {
   "cell_type": "code",
   "execution_count": 12,
   "metadata": {},
   "outputs": [
    {
     "name": "stdout",
     "output_type": "stream",
     "text": [
      "error\n",
      "error\n",
      "error\n",
      "error\n",
      "error\n",
      "error\n",
      "error\n",
      "error\n",
      "error\n"
     ]
    }
   ],
   "source": [
    "browser=opener()\n",
    "scrape(browser)\n",
    "browser.close()"
   ]
  },
  {
   "cell_type": "code",
   "execution_count": 7,
   "metadata": {},
   "outputs": [
    {
     "name": "stderr",
     "output_type": "stream",
     "text": [
      "No configs specified for inline runner\n"
     ]
    },
    {
     "name": "stdout",
     "output_type": "stream",
     "text": [
      " and automate a kubernetes interfacing application in go 1\n",
      " and docker  asynchronous communication between microservices 1\n",
      " and how to use them 1\n",
      " and implementation 1\n",
      " and more 4\n",
      " and python 2\n",
      " and scalability: pick only 2! 1\n",
      " and typeorm 1\n",
      " before exiting 2\n",
      " feather.js 2\n",
      " minio 2\n",
      " nft art 2\n",
      " react 18 2\n",
      " security 1\n",
      " spring 1\n",
      " sqlite 1\n",
      " test 1\n",
      " use cases 1\n",
      " why to 1\n",
      "10 cool tips for writing robust bash scripts 1\n",
      "3 alternatives for regular custom classes in python 1\n",
      "3 best practices to make cloud migration easier 1\n",
      "3 literacy tests for hiring data engineers 1\n",
      "3 ways to rotate objects in scenekit 2\n",
      "5 nestjs techniques to build efficient and maintainable apps 1\n",
      "5 new hooks in react 18 1\n",
      "6 operating system emulators written entirely in javascript 2\n",
      "7 annoying things about jetpack compose according to me 1\n",
      "a deep dive into go concurrency 1\n",
      "a distributed system interview question: how to avoid read inconsistency during a transaction 1\n",
      "a do-it-yourself implementation of the golang middleware 1\n",
      "adding a minimalistic reactjs ui to your kubernetes application 1\n",
      "advanced string formatting in python 1\n",
      "an easy to use guide for twitter search api 2\n",
      "aws: creating a vpc with an auto-scaling group using t2.micro instances 2\n",
      "bps daily digest: game tutorials 2\n",
      "bps daily reads: a wwdc 2022 wishlist 2\n",
      "build a python web application to convert a video to a gif using streamlit 1\n",
      "build 1\n",
      "building a rest api with feathers.js and sqlite 1\n",
      "building a slack app with native sfdc integration 1\n",
      "building an e-commerce api using nestjs 1\n",
      "create nft art with artificial intelligence using python 2\n",
      "dash is deeper than dashboards 1\n",
      "demystifying error handling in rust 1\n",
      "empowered lifecycle-aware viewmodel for android 1\n",
      "exploring the api-first design pattern 1\n",
      "generating class diagrams for .net core 2\n",
      "handling transactions in typeorm and nest.js with ease 1\n",
      "how does shallow comparison work in react? 1\n",
      "how i built a basic salesforce mobile app with lightning app builder 1\n",
      "how i built a hotel platform with unity3d and aws 1\n",
      "how suspense works in react 18 1\n",
      "how to build a thriving relationship with your manager 1\n",
      "how to build comparable classes in python 1\n",
      "how to create a realtime chat app with flutter and node.js 1\n",
      "how to create a superuser in mysql 1\n",
      "how to create your own writing assistant app using python 1\n",
      "how to guide the compiler to speed up your code 2\n",
      "how to keep your terraform code clean  the sustainable way 1\n",
      "how to process notifications with kafka 2\n",
      "how to run self-hosted renovate bots 1\n",
      "how to upload files and images in your django application 1\n",
      "how to use go with mongodb 2\n",
      "http/2 and grpc: the de facto standard for microservices communication 1\n",
      "implementing a basic http server using go 1\n",
      "implementing an http proxy for rest api in next.js 1\n",
      "implementing dynamic localization on android 1\n",
      "improving query performance by 10000x 1\n",
      "integrating stripes product api into your rails api 1\n",
      "introduction to feature toggling types 1\n",
      "javascript spread and rest operators: when to 1\n",
      "kafka with java 1\n",
      "lambda vs. step functions: the battle of cost and performance 2\n",
      "learn object-oriented programming through r 1\n",
      "lightweight and type-safe localisation in react 1\n",
      "meet dtale  a python library to analyze data interactively like excel 1\n",
      "monitoring kafka applications  implementing healthchecks and tracking lag 1\n",
      "my top 3 wishes for wwdc 2022 1\n",
      "python 3.11 is coming! heres how it fares against python 3.10 2\n",
      "raspberry pi gpio  introduction to programming broadcom bcm2835 arm peripherals 1\n",
      "raspberry pi gpio blinking led in golang and c 1\n",
      "ruby tip: how to finish a method after an interrupt 2\n",
      "running airflow using kubernetes executor and kubernetes pod operator with istio 1\n",
      "rxjs declarative pattern in angular 1\n",
      "send custom mac system notifications using python 1\n",
      "serving flutter web applications with python-flask 1\n",
      "simple api in go with fiber (2022) 1\n",
      "solana programming primer 1\n",
      "speed 1\n",
      "start building a 3d chess game using scenekit and swiftui 1\n",
      "stop using json web tokens for authentication (the wrong way). 1\n",
      "swift 5.7: unwrapping optionals gets an improvement 2\n",
      "the black swan events in distributed systems 1\n",
      "the making of a carplay audio application 1\n",
      "the multiple facets of leadership 1\n",
      "the one quality that sets senior engineers apart from everyone else 1\n",
      "the power of memento design pattern in javascript 2\n",
      "the state design pattern in javascript 1\n",
      "trace context propagation with opentelemetry 1\n",
      "understanding smart pointers in c++ 2\n",
      "use perflint  a performance linter for python 1\n",
      "what is the microtask queue and how does it work? 1\n",
      "why do some class constructors call the super() method? 2\n",
      "why flutter is going to be a pivotal moment for app development 1\n",
      "why is flutter fast? part 2: layered architecture 1\n",
      "why you should learn vim-keybindings even if you dont use vim 1\n",
      "windows users rejoice! theres a native redis with acl and tsl support ready for use now 1\n",
      "youre never done. by definition. 2\n"
     ]
    }
   ],
   "source": [
    "from pigcount import WordCount\n",
    "mr_job = WordCount(args=['output.txt'])\n",
    "with mr_job.make_runner() as runner:\n",
    "    runner.run()\n",
    "    for key, value in mr_job.parse_output(runner.cat_output()):\n",
    "        print(key, value)"
   ]
  }
 ],
 "metadata": {
  "interpreter": {
   "hash": "17d3c47e01c8d2d87d9e93381cd0429c120a0f22dbe405c98032296d31d00ceb"
  },
  "kernelspec": {
   "display_name": "Python 3.9.7 64-bit",
   "language": "python",
   "name": "python3"
  },
  "language_info": {
   "codemirror_mode": {
    "name": "ipython",
    "version": 3
   },
   "file_extension": ".py",
   "mimetype": "text/x-python",
   "name": "python",
   "nbconvert_exporter": "python",
   "pygments_lexer": "ipython3",
   "version": "3.9.7"
  },
  "orig_nbformat": 4
 },
 "nbformat": 4,
 "nbformat_minor": 2
}
