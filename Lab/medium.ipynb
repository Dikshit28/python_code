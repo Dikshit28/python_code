{
 "cells": [
  {
   "cell_type": "code",
   "execution_count": 1,
   "metadata": {},
   "outputs": [],
   "source": [
    "from selenium import webdriver\n",
    "from selenium.webdriver.common.keys import Keys\n",
    "from selenium.webdriver.common.by import By\n",
    "from selenium.webdriver.support.ui import WebDriverWait\n",
    "from selenium.webdriver.support import expected_conditions as EC\n",
    "import time\n",
    "import warnings\n",
    "warnings.filterwarnings('ignore')"
   ]
  },
  {
   "cell_type": "code",
   "execution_count": 2,
   "metadata": {},
   "outputs": [],
   "source": [
    "def opener():\n",
    "    driver_path = \"C:/Program Files/BraveSoftware/Brave-Browser/Application/chromedriver.exe\"\n",
    "    brave_path = \"C:/Program Files/BraveSoftware/Brave-Browser/Application/brave.exe\"\n",
    "\n",
    "    option = webdriver.ChromeOptions()\n",
    "    option.binary_location = brave_path\n",
    "    # option.add_argument(\"--incognito\") #OPTIONAL\n",
    "    #option.add_argument(\"--headless\") #OPTIONAL\n",
    "\n",
    "    # Create new Instance of Chrome\n",
    "    browser = webdriver.Chrome(executable_path=driver_path, chrome_options=option)\n",
    "    browser.get(\"https://medium.com/better-programming\")\n",
    "    time.sleep(5)\n",
    "    return browser"
   ]
  },
  {
   "cell_type": "code",
   "execution_count": 3,
   "metadata": {},
   "outputs": [],
   "source": [
    "def scrape(browser,count=1):\n",
    "    file=open('output.txt','w+')\n",
    "    while(count<100):\n",
    "        try:\n",
    "            path=f'/html/body/div/div/div[3]/div/div/main/div/div[2]/div/article[{count}]/div/div/div/div/div/div[2]/div/div[1]/div/div/div/div/div[1]/div[1]/a/div[1]/h2'\n",
    "            count+=1\n",
    "            element = WebDriverWait(browser, 10).until(EC.presence_of_element_located((By.XPATH, path)))\n",
    "            title=browser.find_element_by_xpath(path).text\n",
    "            file.write(title+'\\n')\n",
    "        except:\n",
    "            scroll(browser)\n",
    "    file.close()"
   ]
  },
  {
   "cell_type": "code",
   "execution_count": 4,
   "metadata": {},
   "outputs": [],
   "source": [
    "def scroll(browser):\n",
    "    html=browser.find_element_by_tag_name('html')\n",
    "    html.send_keys(Keys.END)\n",
    "    time.sleep(5)"
   ]
  },
  {
   "cell_type": "code",
   "execution_count": 5,
   "metadata": {},
   "outputs": [],
   "source": [
    "browser=opener()\n",
    "scrape(browser)\n",
    "browser.close()"
   ]
  },
  {
   "cell_type": "code",
   "execution_count": 1,
   "metadata": {},
   "outputs": [
    {
     "name": "stderr",
     "output_type": "stream",
     "text": [
      "No configs specified for inline runner\n"
     ]
    },
    {
     "name": "stdout",
     "output_type": "stream",
     "text": [
      "[('to', 29), ('and', 25), ('in', 22), ('how', 20), ('with', 17), ('the', 15), ('for', 13), ('python', 12), ('using', 10), ('api', 7), ('use', 7), ('your', 7), ('an', 6), ('app', 6), ('application', 5), ('build', 5), ('go', 5), ('is', 5), ('of', 5), ('react', 5), ('why', 5), ('building', 4), ('create', 4), ('flutter', 4), ('implementing', 4), ('javascript', 4), ('kubernetes', 4), ('pattern', 4), ('18', 3), ('2022', 3), ('design', 3), ('kafka', 3), ('nestjs', 3), ('performance', 3), ('programming', 3), ('rest', 3), ('system', 3), ('web', 3), ('2', 2), ('android', 2), ('applications', 2), ('art', 2), ('aws', 2), ('basic', 2), ('bps', 2), ('built', 2), ('by', 2), ('class', 2), ('classes', 2), ('code', 2), ('communication', 2), ('custom', 2), ('daily', 2), ('data', 2), ('distributed', 2), ('does', 2), ('engineers', 2), ('game', 2), ('golang', 2), ('gpio', 2), ('guide', 2), ('handling', 2), ('http', 2), ('implementation', 2), ('into', 2), ('introduction', 2), ('it', 2), ('learn', 2), ('method', 2), ('microservices', 2), ('more', 2), ('native', 2), ('nft', 2), ('notifications', 2), ('pi', 2), ('raspberry', 2), ('scenekit', 2), ('speed', 2), ('sqlite', 2), ('typeorm', 2), ('way', 2), ('work', 2), ('writing', 2), ('wwdc', 2), ('you', 2), ('10', 1), ('10000x', 1), ('310', 1), ('311', 1), ('3d', 1), ('57', 1), ('about', 1), ('according', 1), ('acl', 1), ('adding', 1), ('advanced', 1), ('after', 1), ('against', 1), ('airflow', 1), ('alternatives', 1), ('analyze', 1), ('angular', 1), ('annoying', 1), ('apart', 1), ('apifirst', 1), ('apps', 1), ('architecture', 1), ('arm', 1), ('artificial', 1), ('assistant', 1), ('asynchronous', 1), ('audio', 1), ('authentication', 1), ('automate', 1), ('autoscaling', 1), ('avoid', 1), ('bash', 1), ('battle', 1), ('bcm2835', 1), ('be', 1), ('before', 1), ('best', 1), ('between', 1), ('black', 1), ('blinking', 1), ('bots', 1), ('broadcom', 1), ('builder', 1), ('c', 1), ('call', 1), ('carplay', 1), ('cases', 1), ('chat', 1), ('chess', 1), ('clean', 1), ('cloud', 1), ('coming', 1), ('comparable', 1), ('comparison', 1), ('compiler', 1), ('compose', 1), ('concurrency', 1), ('constructors', 1), ('context', 1), ('convert', 1), ('cool', 1), ('core', 1), ('cost', 1), ('creating', 1), ('dash', 1), ('dashboards', 1), ('de', 1), ('declarative', 1), ('deep', 1), ('deeper', 1), ('definition', 1), ('demystifying', 1), ('development', 1), ('diagrams', 1), ('digest', 1), ('dive', 1), ('django', 1), ('do', 1), ('docker', 1), ('doityourself', 1), ('done', 1), ('dont', 1), ('dtale', 1), ('during', 1), ('dynamic', 1), ('ease', 1), ('easier', 1), ('easy', 1), ('ecommerce', 1), ('efficient', 1), ('else', 1), ('empowered', 1), ('emulators', 1), ('entirely', 1), ('error', 1), ('even', 1), ('events', 1), ('everyone', 1), ('excel', 1), ('executor', 1), ('exiting', 1), ('exploring', 1), ('facets', 1), ('facto', 1), ('fares', 1), ('fast', 1), ('featherjs', 1), ('feathersjs', 1), ('feature', 1), ('fiber', 1), ('files', 1), ('finish', 1), ('formatting', 1), ('from', 1), ('functions', 1), ('generating', 1), ('gets', 1), ('gif', 1), ('going', 1), ('group', 1), ('grpc', 1), ('healthchecks', 1), ('heres', 1), ('hiring', 1), ('hooks', 1), ('hotel', 1), ('http2', 1), ('if', 1), ('images', 1), ('improvement', 1), ('improving', 1), ('inconsistency', 1), ('instances', 1), ('integrating', 1), ('integration', 1), ('intelligence', 1), ('interactively', 1), ('interfacing', 1), ('interrupt', 1), ('interview', 1), ('istio', 1), ('java', 1), ('jetpack', 1), ('json', 1), ('keep', 1), ('lag', 1), ('lambda', 1), ('layered', 1), ('leadership', 1), ('led', 1), ('library', 1), ('lifecycleaware', 1), ('lightning', 1), ('lightweight', 1), ('like', 1), ('linter', 1), ('literacy', 1), ('localisation', 1), ('localization', 1), ('mac', 1), ('maintainable', 1), ('make', 1), ('making', 1), ('manager', 1), ('me', 1), ('meet', 1), ('memento', 1), ('microtask', 1), ('middleware', 1), ('migration', 1), ('minimalistic', 1), ('minio', 1), ('mobile', 1), ('moment', 1), ('mongodb', 1), ('monitoring', 1), ('multiple', 1), ('my', 1), ('mysql', 1), ('net', 1), ('never', 1), ('new', 1), ('nextjs', 1), ('nodejs', 1), ('now', 1), ('objectoriented', 1), ('objects', 1), ('on', 1), ('one', 1), ('only', 1), ('opentelemetry', 1), ('operating', 1), ('operator', 1), ('operators', 1), ('optionals', 1), ('own', 1), ('part', 1), ('perflint', 1), ('peripherals', 1), ('pick', 1), ('pivotal', 1), ('platform', 1), ('pod', 1), ('pointers', 1), ('power', 1), ('practices', 1), ('primer', 1), ('process', 1), ('product', 1), ('propagation', 1), ('proxy', 1), ('pythonflask', 1), ('quality', 1), ('query', 1), ('question', 1), ('queue', 1), ('rails', 1), ('reactjs', 1), ('read', 1), ('reads', 1), ('ready', 1), ('realtime', 1), ('redis', 1), ('regular', 1), ('rejoice', 1), ('relationship', 1), ('renovate', 1), ('robust', 1), ('rotate', 1), ('ruby', 1), ('run', 1), ('running', 1), ('rust', 1), ('rxjs', 1), ('salesforce', 1), ('scalability', 1), ('scripts', 1), ('search', 1), ('security', 1), ('selfhosted', 1), ('send', 1), ('senior', 1), ('server', 1), ('serving', 1), ('sets', 1), ('sfdc', 1), ('shallow', 1), ('should', 1), ('simple', 1), ('slack', 1), ('smart', 1), ('solana', 1), ('some', 1), ('spread', 1), ('spring', 1), ('standard', 1), ('start', 1), ('state', 1), ('step', 1), ('stop', 1), ('streamlit', 1), ('string', 1), ('stripes', 1), ('super', 1), ('superuser', 1), ('support', 1), ('suspense', 1), ('sustainable', 1), ('swan', 1), ('swift', 1), ('swiftui', 1), ('systems', 1), ('t2micro', 1), ('techniques', 1), ('terraform', 1), ('test', 1), ('tests', 1), ('than', 1), ('that', 1), ('them', 1), ('theres', 1), ('things', 1), ('thriving', 1), ('through', 1), ('tip', 1), ('tips', 1), ('toggling', 1), ('tokens', 1), ('top', 1), ('trace', 1), ('tracking', 1), ('transaction', 1), ('transactions', 1), ('tsl', 1), ('tutorials', 1), ('twitter', 1), ('types', 1), ('typesafe', 1), ('ui', 1), ('understanding', 1), ('unity3d', 1), ('unwrapping', 1), ('up', 1), ('upload', 1), ('users', 1), ('video', 1), ('viewmodel', 1), ('vim', 1), ('vimkeybindings', 1), ('vpc', 1), ('vs', 1), ('ways', 1), ('what', 1), ('when', 1), ('windows', 1), ('wishes', 1), ('wishlist', 1), ('works', 1), ('written', 1), ('wrong', 1), ('youre', 1)]\n"
     ]
    }
   ],
   "source": [
    "from pigcount import WordCount\n",
    "mr_job = WordCount(args=['output.txt'])\n",
    "counts=[]\n",
    "with mr_job.make_runner() as runner:\n",
    "    runner.run()\n",
    "    for key, value in mr_job.parse_output(runner.cat_output()):\n",
    "        counts.append((key,value))\n",
    "counts.sort(key = lambda x: x[1], reverse=True)\n",
    "print(counts)"
   ]
  },
  {
   "cell_type": "code",
   "execution_count": 2,
   "metadata": {},
   "outputs": [
    {
     "name": "stdout",
     "output_type": "stream",
     "text": [
      "['anet', 'aaxiom', 'a0system', 'a', 'a', 'abap', 'abc', 'abcalgol', 'abset', 'absys', 'acc', 'accent', 'acedasl', 'acl2', 'actiii', 'action', 'actionscript', 'ada', 'adenine', 'agda', 'agilentvee', 'agora', 'aimms', 'alef', 'alf', 'algol58', 'algol60', 'algol68', 'algolw', 'alice', 'alma0', 'ambienttalk', 'amigae', 'amos', 'ampl', 'apexsalesforcecom', 'apl', 'appinventorforandroidsvisualblocklanguage', 'applescript', 'arc', 'arexx', 'argus', 'aspectj', 'assemblylanguage', 'ats', 'atejipx', 'autohotkey', 'autocoder', 'autoit', 'autolispvisuallisp', 'averest', 'awk', 'axum', 'b', 'babbage', 'bash', 'basic', 'bc', 'bcpl', 'beanshell', 'batchwindowsdos', 'bertrand', 'beta', 'bigwig', 'bistro', 'bitc', 'bliss', 'blockly', 'bloop', 'blue', 'boo', 'boomerang', 'bourneshellincluding', 'bashand', 'ksh', 'brew', 'bpel', 'c', 'c', 'câisoiec14882', 'câisoiec23270', 'cal', 'cachãobjectscript', 'cshell', 'caml', 'cayenne', 'cduce', 'cecil', 'cel', 'cesil', 'ceylon', 'cfengine', 'cfml', 'cg', 'ch', 'chapel', 'chain', 'charity', 'charm', 'chef', 'chill', 'chip8', 'chomski', 'chuck', 'cics', 'cilk', 'citrineprogramminglanguage', 'clibm', 'claire', 'clarion', 'clean', 'clipper', 'clist', 'clojure', 'clu', 'cms2', 'cobolâisoiec1989', 'cobra', 'code', 'coffeescript', 'coldfusion', 'comal', 'combinedprogramminglanguagecpl', 'comit', 'commonintermediatelanguagecil', 'commonlispalsoknownascl', 'compass', 'componentpascal', 'constrainthandlingruleschr', 'converge', 'cool', 'coq', 'coral66', 'corn', 'corvision', 'cowsel', 'cpl', 'cryptol', 'csh', 'csound', 'csp', 'cuda', 'curl', 'curry', 'cyclone', 'cython', 'd', 'dasldatapointsadvancedsystemslanguage', 'dasldistributedapplicationspecificationlanguage', 'dart', 'dataflex', 'datalog', 'datatrieve', 'dbase', 'dc', 'dcl', 'deeselformerlyg', 'delphi', 'dinkc', 'dibol', 'dog', 'draco', 'drakon', 'dylan', 'dynamo', 'e', 'e', 'ease', 'easypli', 'easyprogramminglanguage', 'easytrieveplus', 'ecmascript', 'edinburghimp', 'egl', 'eiffel', 'elan', 'elixir', 'elm', 'emacslisp', 'emerald', 'epigram', 'epl', 'erlang', 'es', 'escher', 'espol', 'esterel', 'etoys', 'euclid', 'euler', 'euphoria', 'euslisprobotprogramminglanguage', 'cmsexecexec', 'exec2', 'executableuml', 'f', 'f', 'factor', 'falcon', 'fantom', 'faust', 'ffp', 'fjãlnir', 'fl', 'flavors', 'flex', 'floop', 'flowmatic', 'focal', 'focus', 'foil', 'formac', 'formula', 'forth', 'fortranâisoiec1539', 'fortress', 'foxbase', 'foxpro', 'fp', 'fpr', 'franzlisp', 'frege', 'fscript', 'g', 'gamemakerlanguage', 'gamemonkeyscript', 'gams', 'gap', 'gcode', 'genie', 'gdl', 'gj', 'george', 'glsl', 'gnue', 'gm', 'go', 'go', 'goal', 'gãdel', 'godiva', 'golo', 'gomgoodoldmad', 'googleappsscript', 'gosu', 'gotran', 'gpss', 'graphtalk', 'grass', 'groovy', 'hack', 'hals', 'hamiltoncshell', 'harbour', 'hartmannpipelines', 'haskell', 'haxe', 'highlevelassembly', 'hlsl', 'hop', 'hopscotch', 'hope', 'hugo', 'hume', 'hypertalk', 'ibmbasicassemblylanguage', 'ibmhascript', 'ibminformix4gl', 'ibmrpg', 'ici', 'icon', 'id', 'idl', 'idris', 'imp', 'inform', 'io', 'ioke', 'ipl', 'iptscrae', 'islisp', 'ispf', 'iswim', 'j', 'j', 'j', 'jade', 'jako', 'jal', 'janusconcurrentconstraintprogramminglanguage', 'janustimereversiblecomputingprogramminglanguage', 'jass', 'java', 'javascript', 'jcl', 'jean', 'joinjava', 'joss', 'joule', 'jovial', 'joy', 'jscript', 'jscriptnet', 'javafxscript', 'julia', 'jython', 'k', 'kaleidoscope', 'karel', 'karel', 'kee', 'kixtart', 'klerermaysystem', 'kif', 'kojo', 'kotlin', 'krc', 'krl', 'kukarobotlanguage', 'krypton', 'ksh', 'l', 'lnet', 'labview', 'ladder', 'lagoona', 'lansa', 'lasso', 'latex', 'lava', 'lc3', 'leda', 'legoscript', 'lil', 'lilypond', 'limbo', 'limnor', 'linc', 'lingo', 'lis', 'lisa', 'lisaac', 'lispâisoiec13816', 'litec', 'lithe', 'littleb', 'logo', 'logtalk', 'lotusscript', 'lpc', 'lse', 'lsl', 'livecode', 'livescript', 'lua', 'lucid', 'lustre', 'lyapas', 'lynx', 'm2001', 'marscodeprogramminglanguage', 'm4', 'm', 'machinecode', 'madmichiganalgorithmdecoder', 'madi', 'magik', 'magma', 'make', 'maple', 'mappernowpartofbis', 'markivnowvisionbuilder', 'mary', 'masmmicrosoftassemblyx86', 'mathmatic', 'mathematica', 'matlab', 'maximaseealso', 'macsyma', 'maxmaxmspâgraphicalprogrammingenvironment', 'maxscriptinternallanguage3dstudiomax', 'mayamel', 'mdl', 'mercury', 'mesa', 'metacard', 'metafont', 'microcode', 'microscript', 'miis', 'millscript', 'mimic', 'mirah', 'miranda', 'mivascript', 'ml', 'moby', 'model204', 'modelica', 'modula', 'modula2', 'modula3', 'mohol', 'moo', 'mortran', 'mouse', 'mpd', 'cil', 'msl', 'mumps', 'mysticprogramminglanguagempl', 'nasm', 'napier88', 'neko', 'nemerle', 'nesc', 'nesl', 'netdata', 'netlogo', 'netrexx', 'newlisp', 'newp', 'newspeak', 'newtonscript', 'ngl', 'nial', 'nice', 'nickle', 'nim', 'npl', 'notexactlycnxc', 'notquitecnqc', 'nsis', 'nu', 'nwscript', 'nxtg', 'oxml', 'oak', 'oberon', 'obj2', 'objectlisp', 'objectlogo', 'objectrexx', 'objectpascal', 'objectivec', 'objectivej', 'obliq', 'ocaml', 'occam', 'occamï', 'octave', 'omnimark', 'onyx', 'opa', 'opal', 'opencl', 'openedgeabl', 'opl', 'ops5', 'optimj', 'orc', 'orcamodula2', 'oriel', 'orwell', 'oxygene', 'oz', 'pâ²â²', 'p', 'parasailprogramminglanguage', 'parigp', 'pascalâiso7185', 'pcastl', 'pcf', 'pearl', 'peoplecode', 'perl', 'pdl', 'perl6', 'pharo', 'php', 'phrogram', 'pico', 'picolisp', 'pict', 'pike', 'pikt', 'pilot', 'pipelines', 'pizza', 'pl11', 'pl0', 'plb', 'plc', 'pliâiso6160', 'plm', 'plp', 'plsql', 'pl360', 'planc', 'plankalkã¼l', 'planner', 'plex', 'plexil', 'plus', 'pop11', 'postscript', 'portable', 'powerhouse', 'powerbuilderâ4glguiapplcationgeneratorfromsybase', 'powershell', 'ppl', 'processing', 'processingjs', 'prograph', 'proiv', 'prolog', 'promal', 'promela', 'prosemodelinglanguage', 'protel', 'providex', 'proc', 'pure', 'python', 'qequationalprogramminglanguage', 'qprogramminglanguagefromkxsystems', 'qalb', 'qtscript', 'quakec', 'qpl', 'r', 'r', 'racket', 'rapid', 'rapira', 'ratfiv', 'ratfor', 'rc', 'rebol', 'red', 'redcode', 'refal', 'reia', 'revolution', 'rexx', 'rlab', 'roop', 'rpg', 'rpl', 'rsl', 'rtl2', 'ruby', 'runescript', 'rust', 's', 's2', 's3', 'slang', 'splus', 'sac', 'sabretalk', 'sail', 'salsa', 'sam76', 'sas', 'sasl', 'sather', 'sawzall', 'sbl', 'scala', 'scheme', 'scilab', 'scratch', 'scriptnet', 'sed', 'seed7', 'self', 'sensetalk', 'sequencel', 'setl', 'simpol', 'signal', 'simple', 'simscript', 'simula', 'simulink', 'sisal', 'slip', 'small', 'smalltalk', 'smallbasic', 'sml', 'snap', 'snobol', 'spitbol', 'snowball', 'sol', 'span', 'spark', 'speedcode', 'spin', 'spk', 'sps', 'sqr', 'squeak', 'squirrel', 'sr', 'ssl', 'stacklesspython', 'starlogo', 'strand', 'stata', 'stateflow', 'subtext', 'supercollider', 'supertalk', 'swiftappleprogramminglanguage', 'swiftparallelscriptinglanguage', 'sympl', 'synccharts', 'systemverilog', 't', 'tacl', 'tacpol', 'tads', 'tal', 'tcl', 'tea', 'teco', 'telcomp', 'tex', 'tex', 'tie', 'timber', 'tmg', 'tom', 'tom', 'touchdevelop', 'topspeed', 'tpu', 'trac', 'ttm', 'tsql', 'ttcn', 'turing', 'tutor', 'txl', 'typescript', 'turboc', 'ubercode', 'ucsdpascal', 'umple', 'unicon', 'uniface', 'unity', 'unixshell', 'unrealscript', 'vala', 'visualdataflex', 'visualdialogscript', 'visualfortran', 'visualfoxpro', 'visualj', 'visualj', 'visualobjects', 'visualprolog', 'vsxu', 'vvvv', 'watfiv', 'webdna', 'webql', 'whiley', 'windowspowershell', 'winbatch', 'wolframlanguage', 'wyvern', 'x', 'x', 'x10', 'xbl', 'xcexploits', 'xmosarchitecture', 'xharbour', 'xl', 'xojo', 'xotcl', 'xpl', 'xpl0', 'xquery', 'xsb', 'xsltâsee', 'xpath', 'xtend', 'yorick', 'yql', 'znotation', 'zeno', 'zopl', 'zsh', 'zpl']\n"
     ]
    }
   ],
   "source": [
    "langs=open('lang.txt','r')\n",
    "langs=langs.read().split('\\n')\n",
    "lang=[]\n",
    "for i in langs:\n",
    "    i=i.split(',')[0]\n",
    "    lang.append(''.join(char for char in i if char.isalnum()).lower())\n",
    "print(lang)"
   ]
  },
  {
   "cell_type": "code",
   "execution_count": 3,
   "metadata": {},
   "outputs": [],
   "source": [
    "lang_count=[]\n",
    "for i in counts:\n",
    "    if i[0] in lang:\n",
    "        lang_count.append(i)"
   ]
  },
  {
   "cell_type": "code",
   "execution_count": 4,
   "metadata": {},
   "outputs": [
    {
     "data": {
      "image/png": "[encoded data removed]",
      "text/plain": [
       "<Figure size 864x432 with 1 Axes>"
      ]
     },
     "metadata": {
      "needs_background": "light"
     },
     "output_type": "display_data"
    }
   ],
   "source": [
    "import matplotlib.pyplot as plt\n",
    "#create a bar chart using lang_count\n",
    "plt.figure(figsize=(12,6))\n",
    "plt.bar(range(len(lang_count)), [i[1] for i in lang_count], align='center')\n",
    "plt.xticks(range(len(lang_count)), [i[0] for i in lang_count], rotation=90)\n",
    "plt.show()"
   ]
  }
 ],
 "metadata": {
  "interpreter": {
   "hash": "17d3c47e01c8d2d87d9e93381cd0429c120a0f22dbe405c98032296d31d00ceb"
  },
  "kernelspec": {
   "display_name": "Python 3.9.7 64-bit",
   "language": "python",
   "name": "python3"
  },
  "language_info": {
   "codemirror_mode": {
    "name": "ipython",
    "version": 3
   },
   "file_extension": ".py",
   "mimetype": "text/x-python",
   "name": "python",
   "nbconvert_exporter": "python",
   "pygments_lexer": "ipython3",
   "version": "3.9.7"
  },
  "orig_nbformat": 4
 },
 "nbformat": 4,
 "nbformat_minor": 2
}
