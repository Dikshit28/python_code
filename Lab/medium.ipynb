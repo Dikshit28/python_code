{
 "cells": [
  {
   "cell_type": "code",
   "execution_count": 1,
   "metadata": {},
   "outputs": [],
   "source": [
    "from selenium import webdriver\n",
    "from selenium.webdriver.common.keys import Keys\n",
    "from selenium.webdriver.common.by import By\n",
    "from selenium.webdriver.support.ui import WebDriverWait\n",
    "from selenium.webdriver.support import expected_conditions as EC\n",
    "import time\n",
    "import warnings\n",
    "warnings.filterwarnings('ignore')"
   ]
  },
  {
   "cell_type": "code",
   "execution_count": 2,
   "metadata": {},
   "outputs": [],
   "source": [
    "def opener():\n",
    "    driver_path = \"C:/Program Files/BraveSoftware/Brave-Browser/Application/chromedriver.exe\"\n",
    "    brave_path = \"C:/Program Files/BraveSoftware/Brave-Browser/Application/brave.exe\"\n",
    "\n",
    "    option = webdriver.ChromeOptions()\n",
    "    option.binary_location = brave_path\n",
    "    # option.add_argument(\"--incognito\") #OPTIONAL\n",
    "    #option.add_argument(\"--headless\") #OPTIONAL\n",
    "\n",
    "    # Create new Instance of Chrome\n",
    "    browser = webdriver.Chrome(executable_path=driver_path, chrome_options=option)\n",
    "    browser.get(\"https://medium.com/better-programming\")\n",
    "    time.sleep(5)\n",
    "    return browser"
   ]
  },
  {
   "cell_type": "code",
   "execution_count": 3,
   "metadata": {},
   "outputs": [],
   "source": [
    "def scrape(browser,count=1):\n",
    "    file=open('output.txt','w+')\n",
    "    while(count<100):\n",
    "        try:\n",
    "            path=f'/html/body/div/div/div[3]/div/div/main/div/div[2]/div/article[{count}]/div/div/div/div/div/div[2]/div/div[1]/div/div/div/div/div[1]/div[1]/a/div[1]/h2'\n",
    "            count+=1\n",
    "            element = WebDriverWait(browser, 10).until(EC.presence_of_element_located((By.XPATH, path)))\n",
    "            title=browser.find_element_by_xpath(path).text\n",
    "            file.write(title+'\\n')\n",
    "        except:\n",
    "            scroll(browser)\n",
    "    file.close()"
   ]
  },
  {
   "cell_type": "code",
   "execution_count": 4,
   "metadata": {},
   "outputs": [],
   "source": [
    "def scroll(browser):\n",
    "    html=browser.find_element_by_tag_name('html')\n",
    "    html.send_keys(Keys.END)\n",
    "    time.sleep(5)"
   ]
  },
  {
   "cell_type": "code",
   "execution_count": 5,
   "metadata": {},
   "outputs": [],
   "source": [
    "browser=opener()\n",
    "scrape(browser)\n",
    "browser.close()"
   ]
  },
  {
   "cell_type": "code",
   "execution_count": 6,
   "metadata": {},
   "outputs": [
    {
     "name": "stderr",
     "output_type": "stream",
     "text": [
      "No configs specified for inline runner\n"
     ]
    },
    {
     "name": "stdout",
     "output_type": "stream",
     "text": [
      "[('to', 35), ('in', 26), ('with', 24), ('and', 22), ('how', 19), ('using', 14), ('your', 14), ('the', 13), ('for', 12), ('an', 11), ('python', 11), ('code', 9), ('aws', 8), ('design', 8), ('more', 8), ('build', 7), ('ios', 7), ('use', 7), ('bps', 6), ('daily', 6), ('digest', 6), ('from', 6), ('on', 6), ('of', 5), ('architecture', 4), ('data', 4), ('django', 4), ('it', 4), ('lambda', 4), ('pattern', 4), ('api', 3), ('application', 3), ('apps', 3), ('contract', 3), ('create', 3), ('flutter', 3), ('go', 3), ('is', 3), ('javascript', 3), ('nodejs', 3), ('smart', 3), ('swift', 3), ('uitabbar', 3), ('up', 3), ('why', 3), ('writing', 3), ('all', 2), ('analysis', 2), ('app', 2), ('art', 2), ('at', 2), ('autoscaling', 2), ('backend', 2), ('building', 2), ('clean', 2), ('creating', 2), ('discord', 2), ('dribbblelike', 2), ('elastic', 2), ('ethereum', 2), ('format', 2), ('game', 2), ('games', 2), ('generics', 2), ('guide', 2), ('halide', 2), ('hard', 2), ('implement', 2), ('instead', 2), ('interview', 2), ('know', 2), ('lines', 2), ('look', 2), ('machine', 2), ('microservices', 2), ('mongodb', 2), ('my', 2), ('nft', 2), ('pandas', 2), ('php', 2), ('precommit', 2), ('problems', 2), ('pysketch', 2), ('questions', 2), ('react', 2), ('s3', 2), ('simple', 2), ('software', 2), ('solana', 2), ('storage', 2), ('store', 2), ('swiftui', 2), ('system', 2), ('techniques', 2), ('them', 2), ('this', 2), ('vpc', 2), ('web3js', 2), ('website', 2), ('when', 2), ('11', 1), ('18', 1), ('30', 1), ('311', 1), ('4', 1), ('400', 1), ('about', 1), ('ace', 1), ('additional', 1), ('after', 1), ('against', 1), ('agilethinking', 1), ('airflow', 1), ('alternative', 1), ('amazing', 1), ('analytical', 1), ('android', 1), ('answers', 1), ('apart', 1), ('apiplatform', 1), ('arcade', 1), ('are', 1), ('assess', 1), ('association', 1), ('augly', 1), ('augmentation', 1), ('autocomplete', 1), ('automatically', 1), ('autoscalable', 1), ('away', 1), ('be', 1), ('been', 1), ('beginners', 1), ('better', 1), ('bindings', 1), ('block', 1), ('blockchain', 1), ('blocks', 1), ('bot', 1), ('bots', 1), ('breakdowns', 1), ('bring', 1), ('browser', 1), ('bundling', 1), ('but', 1), ('button', 1), ('buttons', 1), ('calls', 1), ('camera', 1), ('case', 1), ('cases', 1), ('cdk', 1), ('central', 1), ('cheat', 1), ('check', 1), ('class', 1), ('classes', 1), ('cli', 1), ('coachitis', 1), ('codebase', 1), ('coding', 1), ('compiler', 1), ('components', 1), ('composables', 1), ('compose', 1), ('computer', 1), ('consistent', 1), ('consume', 1), ('containing', 1), ('contextless', 1), ('convert', 1), ('core', 1), ('countable', 1), ('culturally', 1), ('custom', 1), ('dark', 1), ('dataframes', 1), ('demystifying', 1), ('deploy', 1), ('develop', 1), ('developers', 1), ('development', 1), ('diagrams', 1), ('different', 1), ('directly', 1), ('do', 1), ('docker', 1), ('dockerize', 1), ('dont', 1), ('dropdown', 1), ('easily', 1), ('ecommerce', 1), ('edit', 1), ('elasticsearch', 1), ('electron', 1), ('email', 1), ('encoding', 1), ('engineer', 1), ('entirely', 1), ('episode', 1), ('errors', 1), ('event', 1), ('everything', 1), ('existence', 1), ('experience', 1), ('extending', 1), ('faced', 1), ('falls', 1), ('fast', 1), ('faster', 1), ('feature', 1), ('file', 1), ('files', 1), ('find', 1), ('fine', 1), ('fire', 1), ('firebase', 1), ('first', 1), ('fits', 1), ('fix', 1), ('floating', 1), ('fly', 1), ('forest', 1), ('fun', 1), ('function', 1), ('gateway', 1), ('generating', 1), ('generators', 1), ('get', 1), ('getting', 1), ('git', 1), ('goals', 1), ('going', 1), ('golang', 1), ('googled', 1), ('got', 1), ('governance', 1), ('gpt3', 1), ('gpt4', 1), ('group', 1), ('harder', 1), ('has', 1), ('here', 1), ('highlevel', 1), ('highperformance', 1), ('hooks', 1), ('http', 1), ('if', 1), ('images', 1), ('instance', 1), ('instances', 1), ('interact', 1), ('ipad', 1), ('its', 1), ('jest', 1), ('jetpack', 1), ('just', 1), ('keep', 1), ('keyvalueobserver', 1), ('killer', 1), ('kvo', 1), ('launchdarkly', 1), ('layered', 1), ('leaks', 1), ('lets', 1), ('library', 1), ('lifecycleaware', 1), ('linux', 1), ('loaded', 1), ('lofty', 1), ('login', 1), ('loops', 1), ('maintainable', 1), ('making', 1), ('managing', 1), ('me', 1), ('meets', 1), ('memory', 1), ('metaplex', 1), ('minireact', 1), ('mint', 1), ('mistake', 1), ('ml', 1), ('mlops', 1), ('mock', 1), ('modelkit', 1), ('models', 1), ('moved', 1), ('movie', 1), ('musks', 1), ('mysql', 1), ('net', 1), ('next', 1), ('nfts', 1), ('notswiftui', 1), ('now', 1), ('offlinefirst', 1), ('online', 1), ('optimization', 1), ('options', 1), ('our', 1), ('outbox', 1), ('package', 1), ('paper', 1), ('parcel', 1), ('patterns', 1), ('peers', 1), ('pepsi', 1), ('perform', 1), ('performance', 1), ('perspective', 1), ('phaser', 1), ('pilot', 1), ('pipelines', 1), ('possible', 1), ('postgres', 1), ('power', 1), ('production', 1), ('productionready', 1), ('project', 1), ('quality', 1), ('question', 1), ('quick', 1), ('rails', 1), ('readable', 1), ('refactoring', 1), ('released', 1), ('remix', 1), ('repositories', 1), ('results', 1), ('retro', 1), ('reviews', 1), ('rock', 1), ('ruby', 1), ('rust', 1), ('safety', 1), ('salesforce', 1), ('scalable', 1), ('scenekit', 1), ('science', 1), ('scissors', 1), ('scratch', 1), ('search', 1), ('searchable', 1), ('separated', 1), ('serve', 1), ('serverless', 1), ('services', 1), ('setup', 1), ('sheet', 1), ('shell', 1), ('slack', 1), ('small', 1), ('snowflake', 1), ('so', 1), ('sold', 1), ('solidity', 1), ('solutions', 1), ('solve', 1), ('some', 1), ('spectator', 1), ('speed', 1), ('spritekit', 1), ('sqlite', 1), ('started', 1), ('state', 1), ('stop', 1), ('storing', 1), ('strategy', 1), ('structs', 1), ('subclassing', 1), ('survive', 1), ('svend3r', 1), ('symfony', 1), ('syntax', 1), ('t2micro', 1), ('taming', 1), ('tauri', 1), ('team', 1), ('teams', 1), ('technically', 1), ('telling', 1), ('terraform', 1), ('test', 1), ('their', 1), ('things', 1), ('those', 1), ('tidy', 1), ('tips', 1), ('toggling', 1), ('tune', 1), ('tutorials', 1), ('twitter', 1), ('type', 1), ('typescript', 1), ('ui', 1), ('under', 1), ('understanding', 1), ('unity', 1), ('unleash', 1), ('upload', 1), ('upserting', 1), ('url', 1), ('users', 1), ('uses', 1), ('v2', 1), ('validation', 1), ('vapor', 1), ('verification', 1), ('videos', 1), ('viewinspector', 1), ('views', 1), ('virtual', 1), ('vs', 1), ('vue', 1), ('vuejs', 1), ('was', 1), ('ways', 1), ('webpack', 1), ('widget', 1), ('wild', 1), ('will', 1), ('wins', 1), ('within', 1), ('without', 1), ('wordle', 1), ('workflow', 1), ('works', 1)]\n"
     ]
    }
   ],
   "source": [
    "from pigcount import WordCount\n",
    "mr_job = WordCount(args=['output.txt'])\n",
    "counts=[]\n",
    "with mr_job.make_runner() as runner:\n",
    "    runner.run()\n",
    "    for key, value in mr_job.parse_output(runner.cat_output()):\n",
    "        counts.append((key,value))\n",
    "counts.sort(key = lambda x: x[1], reverse=True)\n",
    "print(counts)"
   ]
  },
  {
   "cell_type": "code",
   "execution_count": 7,
   "metadata": {},
   "outputs": [
    {
     "name": "stdout",
     "output_type": "stream",
     "text": [
      "['anet', 'aaxiom', 'a0system', 'a', 'a', 'abap', 'abc', 'abcalgol', 'abset', 'absys', 'acc', 'accent', 'acedasl', 'acl2', 'actiii', 'action', 'actionscript', 'ada', 'adenine', 'agda', 'agilentvee', 'agora', 'aimms', 'alef', 'alf', 'algol58', 'algol60', 'algol68', 'algolw', 'alice', 'alma0', 'ambienttalk', 'amigae', 'amos', 'ampl', 'apexsalesforcecom', 'apl', 'appinventorforandroidsvisualblocklanguage', 'applescript', 'arc', 'arexx', 'argus', 'aspectj', 'assemblylanguage', 'ats', 'atejipx', 'autohotkey', 'autocoder', 'autoit', 'autolispvisuallisp', 'averest', 'awk', 'axum', 'b', 'babbage', 'bash', 'basic', 'bc', 'bcpl', 'beanshell', 'batchwindowsdos', 'bertrand', 'beta', 'bigwig', 'bistro', 'bitc', 'bliss', 'blockly', 'bloop', 'blue', 'boo', 'boomerang', 'bourneshellincluding', 'bashand', 'ksh', 'brew', 'bpel', 'c', 'c', 'câisoiec14882', 'câisoiec23270', 'cal', 'cachãobjectscript', 'cshell', 'caml', 'cayenne', 'cduce', 'cecil', 'cel', 'cesil', 'ceylon', 'cfengine', 'cfml', 'cg', 'ch', 'chapel', 'chain', 'charity', 'charm', 'chef', 'chill', 'chip8', 'chomski', 'chuck', 'cics', 'cilk', 'citrineprogramminglanguage', 'clibm', 'claire', 'clarion', 'clean', 'clipper', 'clist', 'clojure', 'clu', 'cms2', 'cobolâisoiec1989', 'cobra', 'code', 'coffeescript', 'coldfusion', 'comal', 'combinedprogramminglanguagecpl', 'comit', 'commonintermediatelanguagecil', 'commonlispalsoknownascl', 'compass', 'componentpascal', 'constrainthandlingruleschr', 'converge', 'cool', 'coq', 'coral66', 'corn', 'corvision', 'cowsel', 'cpl', 'cryptol', 'csh', 'csound', 'csp', 'cuda', 'curl', 'curry', 'cyclone', 'cython', 'd', 'dasldatapointsadvancedsystemslanguage', 'dasldistributedapplicationspecificationlanguage', 'dart', 'dataflex', 'datalog', 'datatrieve', 'dbase', 'dc', 'dcl', 'deeselformerlyg', 'delphi', 'dinkc', 'dibol', 'dog', 'draco', 'drakon', 'dylan', 'dynamo', 'e', 'e', 'ease', 'easypli', 'easyprogramminglanguage', 'easytrieveplus', 'ecmascript', 'edinburghimp', 'egl', 'eiffel', 'elan', 'elixir', 'elm', 'emacslisp', 'emerald', 'epigram', 'epl', 'erlang', 'es', 'escher', 'espol', 'esterel', 'etoys', 'euclid', 'euler', 'euphoria', 'euslisprobotprogramminglanguage', 'cmsexecexec', 'exec2', 'executableuml', 'f', 'f', 'factor', 'falcon', 'fantom', 'faust', 'ffp', 'fjãlnir', 'fl', 'flavors', 'flex', 'floop', 'flowmatic', 'focal', 'focus', 'foil', 'formac', 'formula', 'forth', 'fortranâisoiec1539', 'fortress', 'foxbase', 'foxpro', 'fp', 'fpr', 'franzlisp', 'frege', 'fscript', 'g', 'gamemakerlanguage', 'gamemonkeyscript', 'gams', 'gap', 'gcode', 'genie', 'gdl', 'gj', 'george', 'glsl', 'gnue', 'gm', 'go', 'go', 'goal', 'gãdel', 'godiva', 'golo', 'gomgoodoldmad', 'googleappsscript', 'gosu', 'gotran', 'gpss', 'graphtalk', 'grass', 'groovy', 'hack', 'hals', 'hamiltoncshell', 'harbour', 'hartmannpipelines', 'haskell', 'haxe', 'highlevelassembly', 'hlsl', 'hop', 'hopscotch', 'hope', 'hugo', 'hume', 'hypertalk', 'ibmbasicassemblylanguage', 'ibmhascript', 'ibminformix4gl', 'ibmrpg', 'ici', 'icon', 'id', 'idl', 'idris', 'imp', 'inform', 'io', 'ioke', 'ipl', 'iptscrae', 'islisp', 'ispf', 'iswim', 'j', 'j', 'j', 'jade', 'jako', 'jal', 'janusconcurrentconstraintprogramminglanguage', 'janustimereversiblecomputingprogramminglanguage', 'jass', 'java', 'javascript', 'jcl', 'jean', 'joinjava', 'joss', 'joule', 'jovial', 'joy', 'jscript', 'jscriptnet', 'javafxscript', 'julia', 'jython', 'k', 'kaleidoscope', 'karel', 'karel', 'kee', 'kixtart', 'klerermaysystem', 'kif', 'kojo', 'kotlin', 'krc', 'krl', 'kukarobotlanguage', 'krypton', 'ksh', 'l', 'lnet', 'labview', 'ladder', 'lagoona', 'lansa', 'lasso', 'latex', 'lava', 'lc3', 'leda', 'legoscript', 'lil', 'lilypond', 'limbo', 'limnor', 'linc', 'lingo', 'lis', 'lisa', 'lisaac', 'lispâisoiec13816', 'litec', 'lithe', 'littleb', 'logo', 'logtalk', 'lotusscript', 'lpc', 'lse', 'lsl', 'livecode', 'livescript', 'lua', 'lucid', 'lustre', 'lyapas', 'lynx', 'm2001', 'marscodeprogramminglanguage', 'm4', 'm', 'machinecode', 'madmichiganalgorithmdecoder', 'madi', 'magik', 'magma', 'make', 'maple', 'mappernowpartofbis', 'markivnowvisionbuilder', 'mary', 'masmmicrosoftassemblyx86', 'mathmatic', 'mathematica', 'matlab', 'maximaseealso', 'macsyma', 'maxmaxmspâgraphicalprogrammingenvironment', 'maxscriptinternallanguage3dstudiomax', 'mayamel', 'mdl', 'mercury', 'mesa', 'metacard', 'metafont', 'microcode', 'microscript', 'miis', 'millscript', 'mimic', 'mirah', 'miranda', 'mivascript', 'ml', 'moby', 'model204', 'modelica', 'modula', 'modula2', 'modula3', 'mohol', 'moo', 'mortran', 'mouse', 'mpd', 'cil', 'msl', 'mumps', 'mysticprogramminglanguagempl', 'nasm', 'napier88', 'neko', 'nemerle', 'nesc', 'nesl', 'netdata', 'netlogo', 'netrexx', 'newlisp', 'newp', 'newspeak', 'newtonscript', 'ngl', 'nial', 'nice', 'nickle', 'nim', 'npl', 'notexactlycnxc', 'notquitecnqc', 'nsis', 'nu', 'nwscript', 'nxtg', 'oxml', 'oak', 'oberon', 'obj2', 'objectlisp', 'objectlogo', 'objectrexx', 'objectpascal', 'objectivec', 'objectivej', 'obliq', 'ocaml', 'occam', 'occamï', 'octave', 'omnimark', 'onyx', 'opa', 'opal', 'opencl', 'openedgeabl', 'opl', 'ops5', 'optimj', 'orc', 'orcamodula2', 'oriel', 'orwell', 'oxygene', 'oz', 'pâ²â²', 'p', 'parasailprogramminglanguage', 'parigp', 'pascalâiso7185', 'pcastl', 'pcf', 'pearl', 'peoplecode', 'perl', 'pdl', 'perl6', 'pharo', 'php', 'phrogram', 'pico', 'picolisp', 'pict', 'pike', 'pikt', 'pilot', 'pipelines', 'pizza', 'pl11', 'pl0', 'plb', 'plc', 'pliâiso6160', 'plm', 'plp', 'plsql', 'pl360', 'planc', 'plankalkã¼l', 'planner', 'plex', 'plexil', 'plus', 'pop11', 'postscript', 'portable', 'powerhouse', 'powerbuilderâ4glguiapplcationgeneratorfromsybase', 'powershell', 'ppl', 'processing', 'processingjs', 'prograph', 'proiv', 'prolog', 'promal', 'promela', 'prosemodelinglanguage', 'protel', 'providex', 'proc', 'pure', 'python', 'qequationalprogramminglanguage', 'qprogramminglanguagefromkxsystems', 'qalb', 'qtscript', 'quakec', 'qpl', 'r', 'r', 'racket', 'rapid', 'rapira', 'ratfiv', 'ratfor', 'rc', 'rebol', 'red', 'redcode', 'refal', 'reia', 'revolution', 'rexx', 'rlab', 'roop', 'rpg', 'rpl', 'rsl', 'rtl2', 'ruby', 'runescript', 'rust', 's', 's2', 's3', 'slang', 'splus', 'sac', 'sabretalk', 'sail', 'salsa', 'sam76', 'sas', 'sasl', 'sather', 'sawzall', 'sbl', 'scala', 'scheme', 'scilab', 'scratch', 'scriptnet', 'sed', 'seed7', 'self', 'sensetalk', 'sequencel', 'setl', 'simpol', 'signal', 'simple', 'simscript', 'simula', 'simulink', 'sisal', 'slip', 'small', 'smalltalk', 'smallbasic', 'sml', 'snap', 'snobol', 'spitbol', 'snowball', 'sol', 'span', 'spark', 'speedcode', 'spin', 'spk', 'sps', 'sqr', 'squeak', 'squirrel', 'sr', 'ssl', 'stacklesspython', 'starlogo', 'strand', 'stata', 'stateflow', 'subtext', 'supercollider', 'supertalk', 'swiftappleprogramminglanguage', 'swiftparallelscriptinglanguage', 'sympl', 'synccharts', 'systemverilog', 't', 'tacl', 'tacpol', 'tads', 'tal', 'tcl', 'tea', 'teco', 'telcomp', 'tex', 'tex', 'tie', 'timber', 'tmg', 'tom', 'tom', 'touchdevelop', 'topspeed', 'tpu', 'trac', 'ttm', 'tsql', 'ttcn', 'turing', 'tutor', 'txl', 'typescript', 'turboc', 'ubercode', 'ucsdpascal', 'umple', 'unicon', 'uniface', 'unity', 'unixshell', 'unrealscript', 'vala', 'visualdataflex', 'visualdialogscript', 'visualfortran', 'visualfoxpro', 'visualj', 'visualj', 'visualobjects', 'visualprolog', 'vsxu', 'vvvv', 'watfiv', 'webdna', 'webql', 'whiley', 'windowspowershell', 'winbatch', 'wolframlanguage', 'wyvern', 'x', 'x', 'x10', 'xbl', 'xcexploits', 'xmosarchitecture', 'xharbour', 'xl', 'xojo', 'xotcl', 'xpl', 'xpl0', 'xquery', 'xsb', 'xsltâsee', 'xpath', 'xtend', 'yorick', 'yql', 'znotation', 'zeno', 'zopl', 'zsh', 'zpl']\n"
     ]
    }
   ],
   "source": [
    "langs=open('lang.txt','r')\n",
    "langs=langs.read().split('\\n')\n",
    "lang=[]\n",
    "for i in langs:\n",
    "    i=i.split(',')[0]\n",
    "    lang.append(''.join(char for char in i if char.isalnum()).lower())\n",
    "print(lang)"
   ]
  },
  {
   "cell_type": "code",
   "execution_count": 8,
   "metadata": {},
   "outputs": [],
   "source": [
    "lang_count=[]\n",
    "for i in counts:\n",
    "    if i[0] in lang:\n",
    "        lang_count.append(i)"
   ]
  },
  {
   "cell_type": "code",
   "execution_count": 9,
   "metadata": {},
   "outputs": [
    {
     "data": {
      "image/png": "[encoded data removed]",
      "text/plain": [
       "<Figure size 864x432 with 1 Axes>"
      ]
     },
     "metadata": {
      "needs_background": "light"
     },
     "output_type": "display_data"
    }
   ],
   "source": [
    "import matplotlib.pyplot as plt\n",
    "#create a bar chart using lang_count\n",
    "plt.figure(figsize=(12,6))\n",
    "plt.bar(range(len(lang_count)), [i[1] for i in lang_count], align='center')\n",
    "plt.xticks(range(len(lang_count)), [i[0] for i in lang_count], rotation=90)\n",
    "plt.show()"
   ]
  }
 ],
 "metadata": {
  "interpreter": {
   "hash": "17d3c47e01c8d2d87d9e93381cd0429c120a0f22dbe405c98032296d31d00ceb"
  },
  "kernelspec": {
   "display_name": "Python 3.9.7 64-bit",
   "language": "python",
   "name": "python3"
  },
  "language_info": {
   "codemirror_mode": {
    "name": "ipython",
    "version": 3
   },
   "file_extension": ".py",
   "mimetype": "text/x-python",
   "name": "python",
   "nbconvert_exporter": "python",
   "pygments_lexer": "ipython3",
   "version": "3.9.7"
  },
  "orig_nbformat": 4
 },
 "nbformat": 4,
 "nbformat_minor": 2
}
