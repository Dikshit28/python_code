{
 "cells": [
  {
   "cell_type": "code",
   "execution_count": 1,
   "metadata": {},
   "outputs": [],
   "source": [
    "from selenium import webdriver\n",
    "from selenium.webdriver.common.keys import Keys\n",
    "from selenium.webdriver.common.by import By\n",
    "from selenium.webdriver.support.ui import WebDriverWait\n",
    "from selenium.webdriver.support import expected_conditions as EC\n",
    "import time\n",
    "import warnings\n",
    "warnings.filterwarnings('ignore')"
   ]
  },
  {
   "cell_type": "code",
   "execution_count": 2,
   "metadata": {},
   "outputs": [],
   "source": [
    "def opener():\n",
    "    driver_path = \"C:/Program Files/BraveSoftware/Brave-Browser/Application/chromedriver.exe\"\n",
    "    brave_path = \"C:/Program Files/BraveSoftware/Brave-Browser/Application/brave.exe\"\n",
    "\n",
    "    option = webdriver.ChromeOptions()\n",
    "    option.binary_location = brave_path\n",
    "    # option.add_argument(\"--incognito\") #OPTIONAL\n",
    "    #option.add_argument(\"--headless\") #OPTIONAL\n",
    "\n",
    "    # Create new Instance of Chrome\n",
    "    browser = webdriver.Chrome(executable_path=driver_path, chrome_options=option)\n",
    "    browser.get(\"https://medium.com/better-programming\")\n",
    "    time.sleep(5)\n",
    "    return browser"
   ]
  },
  {
   "cell_type": "code",
   "execution_count": 3,
   "metadata": {},
   "outputs": [],
   "source": [
    "def scrape(browser,count=1):\n",
    "    file=open('output.txt','a')\n",
    "    while(count<100):\n",
    "        try:\n",
    "            path=f'/html/body/div/div/div[3]/div/div/main/div/div[2]/div/article[{count}]/div/div/div/div/div/div[2]/div/div[1]/div/div/div/div/div[1]/div[1]/a/div[1]/h2'\n",
    "            count+=1\n",
    "            element = WebDriverWait(browser, 10).until(EC.presence_of_element_located((By.XPATH, path)))\n",
    "            title=browser.find_element_by_xpath(path).text\n",
    "            file.write(title+'\\n')\n",
    "        except:\n",
    "            scroll(browser)\n",
    "    file.close()"
   ]
  },
  {
   "cell_type": "code",
   "execution_count": 4,
   "metadata": {},
   "outputs": [],
   "source": [
    "def scroll(browser):\n",
    "    html=browser.find_element_by_tag_name('html')\n",
    "    html.send_keys(Keys.END)\n",
    "    time.sleep(5)"
   ]
  },
  {
   "cell_type": "code",
   "execution_count": 5,
   "metadata": {},
   "outputs": [],
   "source": [
    "browser=opener()\n",
    "scrape(browser)\n",
    "browser.close()"
   ]
  },
  {
   "cell_type": "code",
   "execution_count": 9,
   "metadata": {},
   "outputs": [
    {
     "name": "stderr",
     "output_type": "stream",
     "text": [
      "No configs specified for inline runner\n"
     ]
    },
    {
     "name": "stdout",
     "output_type": "stream",
     "text": [
      "[('and', 25), ('how', 20), ('with', 17), ('the', 15), ('for', 13), ('python', 12), ('using', 10), ('api', 7), ('use', 7), ('your', 7), ('app', 6), ('application', 5), ('build', 5), ('react', 5), ('why', 5), ('building', 4), ('create', 4), ('flutter', 4), ('implementing', 4), ('javascript', 4), ('kubernetes', 4), ('pattern', 4), ('2022', 3), ('design', 3), ('kafka', 3), ('nestjs', 3), ('performance', 3), ('programming', 3), ('rest', 3), ('system', 3), ('web', 3), ('android', 2), ('applications', 2), ('art', 2), ('aws', 2), ('basic', 2), ('bps', 2), ('built', 2), ('class', 2), ('classes', 2), ('code', 2), ('communication', 2), ('custom', 2), ('daily', 2), ('data', 2), ('distributed', 2), ('does', 2), ('engineers', 2), ('game', 2), ('golang', 2), ('gpio', 2), ('guide', 2), ('handling', 2), ('http', 2), ('implementation', 2), ('into', 2), ('introduction', 2), ('learn', 2), ('method', 2), ('microservices', 2), ('more', 2), ('native', 2), ('nft', 2), ('notifications', 2), ('raspberry', 2), ('scenekit', 2), ('speed', 2), ('sqlite', 2), ('to', 2), ('typeorm', 2), ('way', 2), ('work', 2), ('writing', 2), ('wwdc', 2), ('you', 2), ('10000x', 1), ('18', 1), ('310', 1), ('311', 1), ('57', 1), ('about', 1), ('according', 1), ('acl', 1), ('adding', 1), ('advanced', 1), ('after', 1), ('against', 1), ('airflow', 1), ('alternatives', 1), ('analyze', 1), ('angular', 1), ('annoying', 1), ('apart', 1), ('apifirst', 1), ('apps', 1), ('architecture', 1), ('arm', 1), ('artificial', 1), ('assistant', 1), ('asynchronous', 1), ('audio', 1), ('authentication', 1), ('automate', 1), ('autoscaling', 1), ('avoid', 1), ('bash', 1), ('battle', 1), ('bcm2835', 1), ('before', 1), ('best', 1), ('between', 1), ('black', 1), ('blinking', 1), ('bots', 1), ('broadcom', 1), ('builder', 1), ('c', 1), ('call', 1), ('carplay', 1), ('cases', 1), ('chat', 1), ('chess', 1), ('clean', 1), ('cloud', 1), ('coming', 1), ('comparable', 1), ('comparison', 1), ('compiler', 1), ('compose', 1), ('concurrency', 1), ('constructors', 1), ('context', 1), ('convert', 1), ('cool', 1), ('core', 1), ('cost', 1), ('creating', 1), ('dash', 1), ('dashboards', 1), ('declarative', 1), ('deep', 1), ('deeper', 1), ('definition', 1), ('demystifying', 1), ('development', 1), ('diagrams', 1), ('digest', 1), ('dive', 1), ('django', 1), ('docker', 1), ('doityourself', 1), ('done', 1), ('dont', 1), ('dtale', 1), ('during', 1), ('dynamic', 1), ('ease', 1), ('easier', 1), ('easy', 1), ('ecommerce', 1), ('efficient', 1), ('else', 1), ('empowered', 1), ('emulators', 1), ('entirely', 1), ('error', 1), ('even', 1), ('events', 1), ('everyone', 1), ('excel', 1), ('executor', 1), ('exiting', 1), ('exploring', 1), ('facets', 1), ('facto', 1), ('fares', 1), ('fast', 1), ('featherjs', 1), ('feathersjs', 1), ('feature', 1), ('fiber', 1), ('files', 1), ('finish', 1), ('formatting', 1), ('from', 1), ('functions', 1), ('generating', 1), ('gets', 1), ('gif', 1), ('going', 1), ('group', 1), ('grpc', 1), ('healthchecks', 1), ('heres', 1), ('hiring', 1), ('hooks', 1), ('hotel', 1), ('http2', 1), ('images', 1), ('improvement', 1), ('improving', 1), ('inconsistency', 1), ('instances', 1), ('integrating', 1), ('integration', 1), ('intelligence', 1), ('interactively', 1), ('interfacing', 1), ('interrupt', 1), ('interview', 1), ('istio', 1), ('java', 1), ('jetpack', 1), ('json', 1), ('keep', 1), ('lag', 1), ('lambda', 1), ('layered', 1), ('leadership', 1), ('led', 1), ('library', 1), ('lifecycleaware', 1), ('lightning', 1), ('lightweight', 1), ('like', 1), ('linter', 1), ('literacy', 1), ('localisation', 1), ('localization', 1), ('mac', 1), ('maintainable', 1), ('make', 1), ('making', 1), ('manager', 1), ('meet', 1), ('memento', 1), ('microtask', 1), ('middleware', 1), ('migration', 1), ('minimalistic', 1), ('minio', 1), ('mobile', 1), ('moment', 1), ('mongodb', 1), ('monitoring', 1), ('multiple', 1), ('mysql', 1), ('net', 1), ('never', 1), ('new', 1), ('nextjs', 1), ('nodejs', 1), ('now', 1), ('objectoriented', 1), ('objects', 1), ('one', 1), ('only', 1), ('opentelemetry', 1), ('operating', 1), ('operator', 1), ('operators', 1), ('optionals', 1), ('own', 1), ('part', 1), ('perflint', 1), ('peripherals', 1), ('pick', 1), ('pivotal', 1), ('platform', 1), ('pod', 1), ('pointers', 1), ('power', 1), ('practices', 1), ('primer', 1), ('process', 1), ('product', 1), ('propagation', 1), ('proxy', 1), ('pythonflask', 1), ('quality', 1), ('query', 1), ('question', 1), ('queue', 1), ('rails', 1), ('reactjs', 1), ('read', 1), ('reads', 1), ('ready', 1), ('realtime', 1), ('redis', 1), ('regular', 1), ('rejoice', 1), ('relationship', 1), ('renovate', 1), ('robust', 1), ('rotate', 1), ('ruby', 1), ('run', 1), ('running', 1), ('rust', 1), ('rxjs', 1), ('salesforce', 1), ('scalability', 1), ('scripts', 1), ('search', 1), ('security', 1), ('selfhosted', 1), ('send', 1), ('senior', 1), ('server', 1), ('serving', 1), ('sets', 1), ('sfdc', 1), ('shallow', 1), ('should', 1), ('simple', 1), ('slack', 1), ('smart', 1), ('solana', 1), ('some', 1), ('spread', 1), ('spring', 1), ('standard', 1), ('start', 1), ('state', 1), ('step', 1), ('stop', 1), ('streamlit', 1), ('string', 1), ('stripes', 1), ('super', 1), ('superuser', 1), ('support', 1), ('suspense', 1), ('sustainable', 1), ('swan', 1), ('swift', 1), ('swiftui', 1), ('systems', 1), ('t2micro', 1), ('techniques', 1), ('terraform', 1), ('test', 1), ('tests', 1), ('than', 1), ('that', 1), ('them', 1), ('theres', 1), ('things', 1), ('thriving', 1), ('through', 1), ('tip', 1), ('tips', 1), ('toggling', 1), ('tokens', 1), ('top', 1), ('trace', 1), ('tracking', 1), ('transaction', 1), ('transactions', 1), ('tsl', 1), ('tutorials', 1), ('twitter', 1), ('types', 1), ('typesafe', 1), ('understanding', 1), ('unity3d', 1), ('unwrapping', 1), ('upload', 1), ('users', 1), ('video', 1), ('viewmodel', 1), ('vim', 1), ('vimkeybindings', 1), ('vpc', 1), ('vs', 1), ('ways', 1), ('what', 1), ('when', 1), ('windows', 1), ('wishes', 1), ('wishlist', 1), ('works', 1), ('written', 1), ('wrong', 1), ('youre', 1)]\n"
     ]
    }
   ],
   "source": [
    "from pigcount import WordCount\n",
    "mr_job = WordCount(args=['output.txt'])\n",
    "counts=[]\n",
    "with mr_job.make_runner() as runner:\n",
    "    runner.run()\n",
    "    for key, value in mr_job.parse_output(runner.cat_output()):\n",
    "        counts.append((key,value))\n",
    "counts.sort(key = lambda x: x[1], reverse=True)\n",
    "print(counts)"
   ]
  }
 ],
 "metadata": {
  "interpreter": {
   "hash": "17d3c47e01c8d2d87d9e93381cd0429c120a0f22dbe405c98032296d31d00ceb"
  },
  "kernelspec": {
   "display_name": "Python 3.9.7 64-bit",
   "language": "python",
   "name": "python3"
  },
  "language_info": {
   "codemirror_mode": {
    "name": "ipython",
    "version": 3
   },
   "file_extension": ".py",
   "mimetype": "text/x-python",
   "name": "python",
   "nbconvert_exporter": "python",
   "pygments_lexer": "ipython3",
   "version": "3.9.7"
  },
  "orig_nbformat": 4
 },
 "nbformat": 4,
 "nbformat_minor": 2
}
