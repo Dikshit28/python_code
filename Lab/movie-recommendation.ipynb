{
 "cells": [
  {
   "cell_type": "code",
   "execution_count": 1,
   "id": "c88f4a7b",
   "metadata": {},
   "outputs": [],
   "source": [
    "import numpy as np\n",
    "import pandas as pd\n",
    "import matplotlib.pyplot as plt\n",
    "import seaborn as sns\n",
    "%matplotlib inline"
   ]
  },
  {
   "cell_type": "code",
   "execution_count": 2,
   "id": "dcdc9fc0",
   "metadata": {},
   "outputs": [
    {
     "data": {
      "text/html": [
       "<div>\n",
       "<style scoped>\n",
       "    .dataframe tbody tr th:only-of-type {\n",
       "        vertical-align: middle;\n",
       "    }\n",
       "\n",
       "    .dataframe tbody tr th {\n",
       "        vertical-align: top;\n",
       "    }\n",
       "\n",
       "    .dataframe thead th {\n",
       "        text-align: right;\n",
       "    }\n",
       "</style>\n",
       "<table border=\"1\" class=\"dataframe\">\n",
       "  <thead>\n",
       "    <tr style=\"text-align: right;\">\n",
       "      <th></th>\n",
       "      <th>Title</th>\n",
       "      <th>Date_of_Release</th>\n",
       "      <th>Genre</th>\n",
       "      <th>Crew_dir</th>\n",
       "      <th>Cast_stars</th>\n",
       "      <th>Plot_summary</th>\n",
       "      <th>Age_of_content</th>\n",
       "      <th>Votes</th>\n",
       "      <th>ImDBRating</th>\n",
       "    </tr>\n",
       "  </thead>\n",
       "  <tbody>\n",
       "    <tr>\n",
       "      <th>0</th>\n",
       "      <td>3 Idiots</td>\n",
       "      <td>2009</td>\n",
       "      <td>Comedy, Drama</td>\n",
       "      <td>Rajkumar Hirani</td>\n",
       "      <td>Aamir Khan, Madhavan, Mona Singh, Sharman Joshi</td>\n",
       "      <td>Two friends are searching for their long lost ...</td>\n",
       "      <td>12</td>\n",
       "      <td>366038</td>\n",
       "      <td>8.4</td>\n",
       "    </tr>\n",
       "    <tr>\n",
       "      <th>1</th>\n",
       "      <td>Taare Zameen Par</td>\n",
       "      <td>2007</td>\n",
       "      <td>Drama, Family</td>\n",
       "      <td>s:Aamir Khan, Amole Gupte</td>\n",
       "      <td>Darsheel Safary, Aamir Khan, Tisca Chopra, Vip...</td>\n",
       "      <td>An eight-year-old boy is thought to be a lazy ...</td>\n",
       "      <td>14</td>\n",
       "      <td>179838</td>\n",
       "      <td>8.4</td>\n",
       "    </tr>\n",
       "    <tr>\n",
       "      <th>2</th>\n",
       "      <td>PK</td>\n",
       "      <td>2014</td>\n",
       "      <td>Comedy, Drama, Musical</td>\n",
       "      <td>Rajkumar Hirani</td>\n",
       "      <td>Aamir Khan, Anushka Sharma, Sanjay Dutt, Boman...</td>\n",
       "      <td>An alien on Earth loses the only device he can...</td>\n",
       "      <td>7</td>\n",
       "      <td>171776</td>\n",
       "      <td>8.1</td>\n",
       "    </tr>\n",
       "    <tr>\n",
       "      <th>3</th>\n",
       "      <td>Radhe</td>\n",
       "      <td>2021</td>\n",
       "      <td>Action, Crime, Thriller</td>\n",
       "      <td>Prabhu Deva</td>\n",
       "      <td>Salman Khan, Disha Patani, Randeep Hooda, Jack...</td>\n",
       "      <td>After taking the dreaded gangster Gani Bhai, A...</td>\n",
       "      <td>0</td>\n",
       "      <td>171349</td>\n",
       "      <td>1.8</td>\n",
       "    </tr>\n",
       "    <tr>\n",
       "      <th>4</th>\n",
       "      <td>Dangal</td>\n",
       "      <td>2016</td>\n",
       "      <td>Action, Biography, Drama</td>\n",
       "      <td>Nitesh Tiwari</td>\n",
       "      <td>Aamir Khan, Sakshi Tanwar, Fatima Sana Shaikh,...</td>\n",
       "      <td>Former wrestler Mahavir Singh Phogat and his t...</td>\n",
       "      <td>5</td>\n",
       "      <td>170210</td>\n",
       "      <td>8.4</td>\n",
       "    </tr>\n",
       "  </tbody>\n",
       "</table>\n",
       "</div>"
      ],
      "text/plain": [
       "              Title  Date_of_Release                                 Genre  \\\n",
       "0          3 Idiots             2009             Comedy, Drama               \n",
       "1  Taare Zameen Par             2007             Drama, Family               \n",
       "2                PK             2014    Comedy, Drama, Musical               \n",
       "3             Radhe             2021   Action, Crime, Thriller               \n",
       "4            Dangal             2016  Action, Biography, Drama               \n",
       "\n",
       "                    Crew_dir  \\\n",
       "0            Rajkumar Hirani   \n",
       "1  s:Aamir Khan, Amole Gupte   \n",
       "2            Rajkumar Hirani   \n",
       "3                Prabhu Deva   \n",
       "4              Nitesh Tiwari   \n",
       "\n",
       "                                          Cast_stars  \\\n",
       "0    Aamir Khan, Madhavan, Mona Singh, Sharman Joshi   \n",
       "1  Darsheel Safary, Aamir Khan, Tisca Chopra, Vip...   \n",
       "2  Aamir Khan, Anushka Sharma, Sanjay Dutt, Boman...   \n",
       "3  Salman Khan, Disha Patani, Randeep Hooda, Jack...   \n",
       "4  Aamir Khan, Sakshi Tanwar, Fatima Sana Shaikh,...   \n",
       "\n",
       "                                        Plot_summary  Age_of_content   Votes  \\\n",
       "0  Two friends are searching for their long lost ...              12  366038   \n",
       "1  An eight-year-old boy is thought to be a lazy ...              14  179838   \n",
       "2  An alien on Earth loses the only device he can...               7  171776   \n",
       "3  After taking the dreaded gangster Gani Bhai, A...               0  171349   \n",
       "4  Former wrestler Mahavir Singh Phogat and his t...               5  170210   \n",
       "\n",
       "   ImDBRating  \n",
       "0         8.4  \n",
       "1         8.4  \n",
       "2         8.1  \n",
       "3         1.8  \n",
       "4         8.4  "
      ]
     },
     "execution_count": 2,
     "metadata": {},
     "output_type": "execute_result"
    }
   ],
   "source": [
    "df= pd.read_csv('../Top3000_imdb_indian_movies.csv')\n",
    "df.head()"
   ]
  },
  {
   "cell_type": "code",
   "execution_count": 3,
   "id": "6d7010e9",
   "metadata": {},
   "outputs": [
    {
     "data": {
      "text/html": [
       "<div>\n",
       "<style scoped>\n",
       "    .dataframe tbody tr th:only-of-type {\n",
       "        vertical-align: middle;\n",
       "    }\n",
       "\n",
       "    .dataframe tbody tr th {\n",
       "        vertical-align: top;\n",
       "    }\n",
       "\n",
       "    .dataframe thead th {\n",
       "        text-align: right;\n",
       "    }\n",
       "</style>\n",
       "<table border=\"1\" class=\"dataframe\">\n",
       "  <thead>\n",
       "    <tr style=\"text-align: right;\">\n",
       "      <th></th>\n",
       "      <th>Title</th>\n",
       "      <th>Date_of_Release</th>\n",
       "      <th>Genre</th>\n",
       "      <th>Crew_dir</th>\n",
       "      <th>Cast_stars</th>\n",
       "      <th>Plot_summary</th>\n",
       "      <th>Age_of_content</th>\n",
       "      <th>Votes</th>\n",
       "      <th>ImDBRating</th>\n",
       "    </tr>\n",
       "  </thead>\n",
       "  <tbody>\n",
       "    <tr>\n",
       "      <th>2994</th>\n",
       "      <td>Waqt Ki Awaz</td>\n",
       "      <td>1988</td>\n",
       "      <td>Action, Crime, Drama</td>\n",
       "      <td>K. Bapaiah</td>\n",
       "      <td>Vikas Anand, Asrani, Mithun Chakraborty, Moush...</td>\n",
       "      <td>Wealthy Lata I. Prasad refuses to obey her wid...</td>\n",
       "      <td>33</td>\n",
       "      <td>105</td>\n",
       "      <td>6.3</td>\n",
       "    </tr>\n",
       "    <tr>\n",
       "      <th>2995</th>\n",
       "      <td>Ilzaam</td>\n",
       "      <td>1986</td>\n",
       "      <td>Drama, Family</td>\n",
       "      <td>Shibu Mitra</td>\n",
       "      <td>Shashi Kapoor, Shatrughan Sinha, Raj Kiran, An...</td>\n",
       "      <td>Ajay is a street dancer and while people are w...</td>\n",
       "      <td>35</td>\n",
       "      <td>105</td>\n",
       "      <td>5.9</td>\n",
       "    </tr>\n",
       "    <tr>\n",
       "      <th>2996</th>\n",
       "      <td>Jheel Ke Us Paar</td>\n",
       "      <td>1973</td>\n",
       "      <td>Drama, Romance</td>\n",
       "      <td>Bhappi Sonie</td>\n",
       "      <td>Dharmendra, Mumtaz, Prem Chopra, Mehmood Jr.</td>\n",
       "      <td>Kulwant Rai's horse carriage runs over a child...</td>\n",
       "      <td>48</td>\n",
       "      <td>105</td>\n",
       "      <td>7.2</td>\n",
       "    </tr>\n",
       "    <tr>\n",
       "      <th>2997</th>\n",
       "      <td>Ashad Ka Ek Din</td>\n",
       "      <td>1971</td>\n",
       "      <td>Biography, Drama</td>\n",
       "      <td>Mani Kaul</td>\n",
       "      <td>Aruna Irani, Arun Khopkar, Rekha Sabnis, Om Sh...</td>\n",
       "      <td>Aashad Ka Ek Din is an adaptation of the play ...</td>\n",
       "      <td>50</td>\n",
       "      <td>105</td>\n",
       "      <td>7.4</td>\n",
       "    </tr>\n",
       "    <tr>\n",
       "      <th>2998</th>\n",
       "      <td>Around the World</td>\n",
       "      <td>1967</td>\n",
       "      <td>Comedy, Romance</td>\n",
       "      <td>Pachhi</td>\n",
       "      <td>Raj Kapoor, Rajshree, Ameeta, Mehmood</td>\n",
       "      <td>Raj Singh is the nephew and heir apparent of m...</td>\n",
       "      <td>54</td>\n",
       "      <td>105</td>\n",
       "      <td>6.2</td>\n",
       "    </tr>\n",
       "  </tbody>\n",
       "</table>\n",
       "</div>"
      ],
      "text/plain": [
       "                 Title  Date_of_Release                             Genre  \\\n",
       "2994      Waqt Ki Awaz             1988  Action, Crime, Drama               \n",
       "2995            Ilzaam             1986         Drama, Family               \n",
       "2996  Jheel Ke Us Paar             1973        Drama, Romance               \n",
       "2997   Ashad Ka Ek Din             1971      Biography, Drama               \n",
       "2998  Around the World             1967       Comedy, Romance               \n",
       "\n",
       "          Crew_dir                                         Cast_stars  \\\n",
       "2994    K. Bapaiah  Vikas Anand, Asrani, Mithun Chakraborty, Moush...   \n",
       "2995   Shibu Mitra  Shashi Kapoor, Shatrughan Sinha, Raj Kiran, An...   \n",
       "2996  Bhappi Sonie       Dharmendra, Mumtaz, Prem Chopra, Mehmood Jr.   \n",
       "2997     Mani Kaul  Aruna Irani, Arun Khopkar, Rekha Sabnis, Om Sh...   \n",
       "2998        Pachhi              Raj Kapoor, Rajshree, Ameeta, Mehmood   \n",
       "\n",
       "                                           Plot_summary  Age_of_content  \\\n",
       "2994  Wealthy Lata I. Prasad refuses to obey her wid...              33   \n",
       "2995  Ajay is a street dancer and while people are w...              35   \n",
       "2996  Kulwant Rai's horse carriage runs over a child...              48   \n",
       "2997  Aashad Ka Ek Din is an adaptation of the play ...              50   \n",
       "2998  Raj Singh is the nephew and heir apparent of m...              54   \n",
       "\n",
       "      Votes  ImDBRating  \n",
       "2994    105         6.3  \n",
       "2995    105         5.9  \n",
       "2996    105         7.2  \n",
       "2997    105         7.4  \n",
       "2998    105         6.2  "
      ]
     },
     "execution_count": 3,
     "metadata": {},
     "output_type": "execute_result"
    }
   ],
   "source": [
    "df.tail()"
   ]
  },
  {
   "cell_type": "code",
   "execution_count": 4,
   "id": "dcde3b06",
   "metadata": {},
   "outputs": [
    {
     "name": "stdout",
     "output_type": "stream",
     "text": [
      "<class 'pandas.core.frame.DataFrame'>\n",
      "RangeIndex: 2999 entries, 0 to 2998\n",
      "Data columns (total 9 columns):\n",
      " #   Column           Non-Null Count  Dtype  \n",
      "---  ------           --------------  -----  \n",
      " 0   Title            2999 non-null   object \n",
      " 1   Date_of_Release  2999 non-null   int64  \n",
      " 2   Genre            2999 non-null   object \n",
      " 3   Crew_dir         2994 non-null   object \n",
      " 4   Cast_stars       2999 non-null   object \n",
      " 5   Plot_summary     2999 non-null   object \n",
      " 6   Age_of_content   2999 non-null   int64  \n",
      " 7   Votes            2999 non-null   int64  \n",
      " 8   ImDBRating       2999 non-null   float64\n",
      "dtypes: float64(1), int64(3), object(5)\n",
      "memory usage: 211.0+ KB\n"
     ]
    }
   ],
   "source": [
    "df.info()"
   ]
  },
  {
   "cell_type": "code",
   "execution_count": 5,
   "id": "948a6981",
   "metadata": {},
   "outputs": [
    {
     "data": {
      "text/plain": [
       "array(['Comedy, Drama            ', 'Drama, Family            ',\n",
       "       'Comedy, Drama, Musical            ', ...,\n",
       "       'Drama, Romance            ', 'Biography, Drama            ',\n",
       "       'Comedy, Romance            '], dtype=object)"
      ]
     },
     "execution_count": 5,
     "metadata": {},
     "output_type": "execute_result"
    }
   ],
   "source": [
    "genre=df['Genre'].values\n",
    "genre"
   ]
  },
  {
   "cell_type": "code",
   "execution_count": 6,
   "id": "304b5c55",
   "metadata": {},
   "outputs": [
    {
     "name": "stdout",
     "output_type": "stream",
     "text": [
      "['Comedy', 'Drama', 'Family', 'Musical', 'Action', 'Crime', 'Thriller', 'Biography', 'Romance', 'Sport', 'Music', 'Adventure', 'Mystery', 'History', 'Horror', 'Fantasy', 'War', 'Sci-Fi', 'Animation', 'Western', '****'] 21\n"
     ]
    }
   ],
   "source": [
    "types=[]\n",
    "for i in genre:\n",
    "    for j in i.split(','):\n",
    "        if j.strip() not in types:\n",
    "            types.append(j.strip())\n",
    "print(types,len(types))"
   ]
  },
  {
   "cell_type": "code",
   "execution_count": 7,
   "id": "ac4c022d",
   "metadata": {},
   "outputs": [
    {
     "name": "stdout",
     "output_type": "stream",
     "text": [
      "2999 21\n"
     ]
    }
   ],
   "source": [
    "dic={}\n",
    "target=[]\n",
    "for i in genre:\n",
    "    for j in types:\n",
    "        dic[j]=0\n",
    "    i=str(i)\n",
    "    for p in i.split(','):\n",
    "        p=p.strip()\n",
    "        dic[p]+=1\n",
    "    target.append(list(dic.values()))\n",
    "print(len(target),len(target[0]))"
   ]
  },
  {
   "cell_type": "code",
   "execution_count": 8,
   "id": "5a103821",
   "metadata": {},
   "outputs": [
    {
     "name": "stdout",
     "output_type": "stream",
     "text": [
      "[[1 1 0 ... 0 0 0]\n",
      " [0 1 1 ... 0 0 0]\n",
      " [1 1 0 ... 0 0 0]\n",
      " ...\n",
      " [0 1 0 ... 0 0 0]\n",
      " [0 1 0 ... 0 0 0]\n",
      " [1 0 0 ... 0 0 0]]\n"
     ]
    }
   ],
   "source": [
    "X=np.array(target)\n",
    "print(X)"
   ]
  },
  {
   "cell_type": "code",
   "execution_count": 9,
   "id": "f9af59a3",
   "metadata": {},
   "outputs": [],
   "source": [
    "from scipy.spatial import distance\n",
    "def finder(name,count):\n",
    "    title=df['Title'].values\n",
    "    title=[i.lower() for i in title]\n",
    "    counter=-1\n",
    "    for i in range(len(title)):\n",
    "        if name in title[i]:\n",
    "            counter=i\n",
    "            break\n",
    "    rec=[]\n",
    "    if counter==-1:\n",
    "        print(\"No recommendations found\")\n",
    "        return None\n",
    "    else:\n",
    "        for i in range(len(target)):\n",
    "            if counter==i:\n",
    "                continue\n",
    "            else:\n",
    "                if len(rec)<count:\n",
    "                    rec.append([distance.euclidean(target[i], target[counter]),target[i],i])\n",
    "                else:\n",
    "                    rec.sort()\n",
    "                    if distance.euclidean(target[i], target[counter])<rec[-1][0]:\n",
    "                        rec[-1]=[distance.euclidean(target[i], target[counter]),target[i],i]\n",
    "    names=df['Title'].values\n",
    "    rec_names=[names[i] for i in [i[2] for i in rec]]\n",
    "    return rec_names"
   ]
  },
  {
   "cell_type": "code",
   "execution_count": 16,
   "id": "fea882e8",
   "metadata": {},
   "outputs": [
    {
     "name": "stdout",
     "output_type": "stream",
     "text": [
      "Title: Barfi! | Release Year: 2012 | Ratings: 8.1\n",
      "Title: Dil Chahta Hai | Release Year: 2001 | Ratings: 8.1\n",
      "Title: Jab We Met | Release Year: 2007 | Ratings: 7.9\n",
      "Title: Lage Raho Munna Bhai | Release Year: 2006 | Ratings: 8.0\n",
      "Title: Chhichhore | Release Year: 2019 | Ratings: 8.3\n",
      "Title: Wake Up Sid | Release Year: 2009 | Ratings: 7.6\n",
      "Title: Dev.D | Release Year: 2009 | Ratings: 8.0\n",
      "Title: Tanu Weds Manu Returns | Release Year: 2015 | Ratings: 7.6\n",
      "Title: Jaane Tu... Ya Jaane Na | Release Year: 2008 | Ratings: 7.5\n",
      "Title: Zero | Release Year: 2018 | Ratings: 5.4\n"
     ]
    }
   ],
   "source": [
    "ans=finder(input(\"Enter a movie name: \").lower(),int(input(\"Enter the number of recommendations: \")))\n",
    "if ans:\n",
    "    for i in ans:\n",
    "        print('Title: '+str(i)+' | Release Year: '+str(df[df['Title']==i]['Date_of_Release'].values[0])+' | Ratings: '+str(df[df['Title']==i]['ImDBRating'].values[0]))"
   ]
  }
 ],
 "metadata": {
  "kernelspec": {
   "display_name": "Python 3 (ipykernel)",
   "language": "python",
   "name": "python3"
  },
  "language_info": {
   "codemirror_mode": {
    "name": "ipython",
    "version": 3
   },
   "file_extension": ".py",
   "mimetype": "text/x-python",
   "name": "python",
   "nbconvert_exporter": "python",
   "pygments_lexer": "ipython3",
   "version": "3.9.7"
  }
 },
 "nbformat": 4,
 "nbformat_minor": 5
}
