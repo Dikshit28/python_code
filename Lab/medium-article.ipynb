{
 "cells": [
  {
   "cell_type": "code",
   "execution_count": 1,
   "metadata": {},
   "outputs": [],
   "source": [
    "from selenium import webdriver\n",
    "from selenium.webdriver.common.keys import Keys\n",
    "from selenium.webdriver.common.by import By\n",
    "from selenium.webdriver.support.ui import WebDriverWait\n",
    "from selenium.webdriver.support import expected_conditions as EC\n",
    "import time\n",
    "import warnings\n",
    "warnings.filterwarnings('ignore')"
   ]
  },
  {
   "cell_type": "code",
   "execution_count": 2,
   "metadata": {},
   "outputs": [],
   "source": [
    "def opener():\n",
    "    driver_path = \"C:/Program Files/BraveSoftware/Brave-Browser/Application/chromedriver.exe\"\n",
    "    brave_path = \"C:/Program Files/BraveSoftware/Brave-Browser/Application/brave.exe\"\n",
    "\n",
    "    option = webdriver.ChromeOptions()\n",
    "    option.binary_location = brave_path\n",
    "    # option.add_argument(\"--incognito\") #OPTIONAL\n",
    "    #option.add_argument(\"--headless\") #OPTIONAL\n",
    "\n",
    "    # Create new Instance of Chrome\n",
    "    browser = webdriver.Chrome(executable_path=driver_path, chrome_options=option)\n",
    "    browser.get(\"https://medium.com/better-programming\")\n",
    "    time.sleep(5)\n",
    "    return browser"
   ]
  },
  {
   "cell_type": "code",
   "execution_count": 3,
   "metadata": {},
   "outputs": [],
   "source": [
    "def scrape(browser,count=1):\n",
    "    file=open('output-article.txt','w+')\n",
    "    while(count<100):\n",
    "        try:\n",
    "            path=f'/html/body/div/div/div[3]/div/div/main/div/div[2]/div/article[{count}]/div/div/div/div/div/div[2]/div/div[1]/div/div/div/div/div[1]/div[1]/a'\n",
    "            count+=1\n",
    "            element = WebDriverWait(browser, 10).until(EC.presence_of_element_located((By.XPATH, path)))\n",
    "            title=browser.find_element_by_xpath(path).get_attribute('href')\n",
    "            file.write(title+'\\n')\n",
    "        except:\n",
    "            scroll(browser)\n",
    "    file.close()"
   ]
  },
  {
   "cell_type": "code",
   "execution_count": 4,
   "metadata": {},
   "outputs": [],
   "source": [
    "def scroll(browser):\n",
    "    html=browser.find_element_by_tag_name('html')\n",
    "    html.send_keys(Keys.END)\n",
    "    time.sleep(5)"
   ]
  },
  {
   "cell_type": "code",
   "execution_count": 9,
   "metadata": {},
   "outputs": [
    {
     "ename": "SessionNotCreatedException",
     "evalue": "Message: session not created\nfrom disconnected: received Inspector.detached event\n  (Session info: chrome=100.0.4896.127)\nStacktrace:\nBacktrace:\n\tOrdinal0 [0x00FE7413+2389011]\n\tOrdinal0 [0x00F79F61+1941345]\n\tOrdinal0 [0x00E6C658+837208]\n\tOrdinal0 [0x00E5E87E+780414]\n\tOrdinal0 [0x00E5E46F+779375]\n\tOrdinal0 [0x00E5DA86+776838]\n\tOrdinal0 [0x00E5C995+772501]\n\tOrdinal0 [0x00E5CE6D+773741]\n\tOrdinal0 [0x00E5C5B5+771509]\n\tOrdinal0 [0x00E68363+820067]\n\tOrdinal0 [0x00E5C565+771429]\n\tOrdinal0 [0x00E5D668+775784]\n\tOrdinal0 [0x00E5C995+772501]\n\tOrdinal0 [0x00E5CE6D+773741]\n\tOrdinal0 [0x00E5C5B5+771509]\n\tOrdinal0 [0x00E66053+811091]\n\tOrdinal0 [0x00E5C565+771429]\n\tOrdinal0 [0x00E5D668+775784]\n\tOrdinal0 [0x00E5C995+772501]\n\tOrdinal0 [0x00E5CE6D+773741]\n\tOrdinal0 [0x00E5C5B5+771509]\n\tOrdinal0 [0x00E63EC9+802505]\n\tOrdinal0 [0x00E5C565+771429]\n\tOrdinal0 [0x00E5D668+775784]\n\tOrdinal0 [0x00E5C995+772501]\n\tOrdinal0 [0x00E5CF98+774040]\n\tOrdinal0 [0x00E5CF28+773928]\n\tOrdinal0 [0x00E62C56+797782]\n\tOrdinal0 [0x00E62B90+797584]\n\tOrdinal0 [0x00E5C565+771429]\n\tOrdinal0 [0x00E5D668+775784]\n\tOrdinal0 [0x00E5C995+772501]\n\tOrdinal0 [0x00E5CE6D+773741]\n\tOrdinal0 [0x00E5C5B5+771509]\n\tOrdinal0 [0x00E57E2D+753197]\n\tOrdinal0 [0x00E5C565+771429]\n\tOrdinal0 [0x00E5C2F0+770800]\n\tOrdinal0 [0x00E5C039+770105]\n\tOrdinal0 [0x00E6D9D0+842192]\n\tOrdinal0 [0x00EB9D15+1154325]\n\tOrdinal0 [0x00EB88DA+1149146]\n\tOrdinal0 [0x00EB3F66+1130342]\n\tOrdinal0 [0x00E8E546+976198]\n\tOrdinal0 [0x00E8F456+980054]\n\tGetHandleVerifier [0x01199632+1727522]\n\tGetHandleVerifier [0x0124BA4D+2457661]\n\tGetHandleVerifier [0x0107EB81+569713]\n\tGetHandleVerifier [0x0107DD76+566118]\n\tOrdinal0 [0x00F80B2B+1968939]\n\tOrdinal0 [0x00F85988+1989000]\n\tOrdinal0 [0x00F85A75+1989237]\n\tOrdinal0 [0x00F8ECB1+2026673]\n\tBaseThreadInitThunk [0x75D66739+25]\n\tRtlGetFullPathName_UEx [0x77508E7F+1215]\n\tRtlGetFullPathName_UEx [0x77508E4D+1165]\n",
     "output_type": "error",
     "traceback": [
      "\u001b[1;31m---------------------------------------------------------------------------\u001b[0m",
      "\u001b[1;31mSessionNotCreatedException\u001b[0m                Traceback (most recent call last)",
      "\u001b[1;32m~\\AppData\\Local\\Temp/ipykernel_7980/1540604330.py\u001b[0m in \u001b[0;36m<module>\u001b[1;34m\u001b[0m\n\u001b[1;32m----> 1\u001b[1;33m \u001b[0mbrowser\u001b[0m\u001b[1;33m=\u001b[0m\u001b[0mopener\u001b[0m\u001b[1;33m(\u001b[0m\u001b[1;33m)\u001b[0m\u001b[1;33m\u001b[0m\u001b[1;33m\u001b[0m\u001b[0m\n\u001b[0m\u001b[0;32m      2\u001b[0m \u001b[0mscrape\u001b[0m\u001b[1;33m(\u001b[0m\u001b[0mbrowser\u001b[0m\u001b[1;33m)\u001b[0m\u001b[1;33m\u001b[0m\u001b[1;33m\u001b[0m\u001b[0m\n\u001b[0;32m      3\u001b[0m \u001b[0mbrowser\u001b[0m\u001b[1;33m.\u001b[0m\u001b[0mclose\u001b[0m\u001b[1;33m(\u001b[0m\u001b[1;33m)\u001b[0m\u001b[1;33m\u001b[0m\u001b[1;33m\u001b[0m\u001b[0m\n",
      "\u001b[1;32m~\\AppData\\Local\\Temp/ipykernel_7980/919300531.py\u001b[0m in \u001b[0;36mopener\u001b[1;34m()\u001b[0m\n\u001b[0;32m      9\u001b[0m \u001b[1;33m\u001b[0m\u001b[0m\n\u001b[0;32m     10\u001b[0m     \u001b[1;31m# Create new Instance of Chrome\u001b[0m\u001b[1;33m\u001b[0m\u001b[1;33m\u001b[0m\u001b[0m\n\u001b[1;32m---> 11\u001b[1;33m     \u001b[0mbrowser\u001b[0m \u001b[1;33m=\u001b[0m \u001b[0mwebdriver\u001b[0m\u001b[1;33m.\u001b[0m\u001b[0mChrome\u001b[0m\u001b[1;33m(\u001b[0m\u001b[0mexecutable_path\u001b[0m\u001b[1;33m=\u001b[0m\u001b[0mdriver_path\u001b[0m\u001b[1;33m,\u001b[0m \u001b[0mchrome_options\u001b[0m\u001b[1;33m=\u001b[0m\u001b[0moption\u001b[0m\u001b[1;33m)\u001b[0m\u001b[1;33m\u001b[0m\u001b[1;33m\u001b[0m\u001b[0m\n\u001b[0m\u001b[0;32m     12\u001b[0m     \u001b[0mbrowser\u001b[0m\u001b[1;33m.\u001b[0m\u001b[0mget\u001b[0m\u001b[1;33m(\u001b[0m\u001b[1;34m\"https://medium.com/better-programming\"\u001b[0m\u001b[1;33m)\u001b[0m\u001b[1;33m\u001b[0m\u001b[1;33m\u001b[0m\u001b[0m\n\u001b[0;32m     13\u001b[0m     \u001b[0mtime\u001b[0m\u001b[1;33m.\u001b[0m\u001b[0msleep\u001b[0m\u001b[1;33m(\u001b[0m\u001b[1;36m5\u001b[0m\u001b[1;33m)\u001b[0m\u001b[1;33m\u001b[0m\u001b[1;33m\u001b[0m\u001b[0m\n",
      "\u001b[1;32m~\\AppData\\Roaming\\Python\\Python39\\site-packages\\selenium\\webdriver\\chrome\\webdriver.py\u001b[0m in \u001b[0;36m__init__\u001b[1;34m(self, executable_path, port, options, service_args, desired_capabilities, service_log_path, chrome_options, service, keep_alive)\u001b[0m\n\u001b[0;32m     67\u001b[0m             \u001b[0mservice\u001b[0m \u001b[1;33m=\u001b[0m \u001b[0mService\u001b[0m\u001b[1;33m(\u001b[0m\u001b[0mexecutable_path\u001b[0m\u001b[1;33m,\u001b[0m \u001b[0mport\u001b[0m\u001b[1;33m,\u001b[0m \u001b[0mservice_args\u001b[0m\u001b[1;33m,\u001b[0m \u001b[0mservice_log_path\u001b[0m\u001b[1;33m)\u001b[0m\u001b[1;33m\u001b[0m\u001b[1;33m\u001b[0m\u001b[0m\n\u001b[0;32m     68\u001b[0m \u001b[1;33m\u001b[0m\u001b[0m\n\u001b[1;32m---> 69\u001b[1;33m         super(WebDriver, self).__init__(DesiredCapabilities.CHROME['browserName'], \"goog\",\n\u001b[0m\u001b[0;32m     70\u001b[0m                                         \u001b[0mport\u001b[0m\u001b[1;33m,\u001b[0m \u001b[0moptions\u001b[0m\u001b[1;33m,\u001b[0m\u001b[1;33m\u001b[0m\u001b[1;33m\u001b[0m\u001b[0m\n\u001b[0;32m     71\u001b[0m                                         \u001b[0mservice_args\u001b[0m\u001b[1;33m,\u001b[0m \u001b[0mdesired_capabilities\u001b[0m\u001b[1;33m,\u001b[0m\u001b[1;33m\u001b[0m\u001b[1;33m\u001b[0m\u001b[0m\n",
      "\u001b[1;32m~\\AppData\\Roaming\\Python\\Python39\\site-packages\\selenium\\webdriver\\chromium\\webdriver.py\u001b[0m in \u001b[0;36m__init__\u001b[1;34m(self, browser_name, vendor_prefix, port, options, service_args, desired_capabilities, service_log_path, service, keep_alive)\u001b[0m\n\u001b[0;32m     91\u001b[0m \u001b[1;33m\u001b[0m\u001b[0m\n\u001b[0;32m     92\u001b[0m         \u001b[1;32mtry\u001b[0m\u001b[1;33m:\u001b[0m\u001b[1;33m\u001b[0m\u001b[1;33m\u001b[0m\u001b[0m\n\u001b[1;32m---> 93\u001b[1;33m             RemoteWebDriver.__init__(\n\u001b[0m\u001b[0;32m     94\u001b[0m                 \u001b[0mself\u001b[0m\u001b[1;33m,\u001b[0m\u001b[1;33m\u001b[0m\u001b[1;33m\u001b[0m\u001b[0m\n\u001b[0;32m     95\u001b[0m                 command_executor=ChromiumRemoteConnection(\n",
      "\u001b[1;32m~\\AppData\\Roaming\\Python\\Python39\\site-packages\\selenium\\webdriver\\remote\\webdriver.py\u001b[0m in \u001b[0;36m__init__\u001b[1;34m(self, command_executor, desired_capabilities, browser_profile, proxy, keep_alive, file_detector, options)\u001b[0m\n\u001b[0;32m    264\u001b[0m         \u001b[0mself\u001b[0m\u001b[1;33m.\u001b[0m\u001b[0mfile_detector\u001b[0m \u001b[1;33m=\u001b[0m \u001b[0mfile_detector\u001b[0m \u001b[1;32mor\u001b[0m \u001b[0mLocalFileDetector\u001b[0m\u001b[1;33m(\u001b[0m\u001b[1;33m)\u001b[0m\u001b[1;33m\u001b[0m\u001b[1;33m\u001b[0m\u001b[0m\n\u001b[0;32m    265\u001b[0m         \u001b[0mself\u001b[0m\u001b[1;33m.\u001b[0m\u001b[0mstart_client\u001b[0m\u001b[1;33m(\u001b[0m\u001b[1;33m)\u001b[0m\u001b[1;33m\u001b[0m\u001b[1;33m\u001b[0m\u001b[0m\n\u001b[1;32m--> 266\u001b[1;33m         \u001b[0mself\u001b[0m\u001b[1;33m.\u001b[0m\u001b[0mstart_session\u001b[0m\u001b[1;33m(\u001b[0m\u001b[0mcapabilities\u001b[0m\u001b[1;33m,\u001b[0m \u001b[0mbrowser_profile\u001b[0m\u001b[1;33m)\u001b[0m\u001b[1;33m\u001b[0m\u001b[1;33m\u001b[0m\u001b[0m\n\u001b[0m\u001b[0;32m    267\u001b[0m \u001b[1;33m\u001b[0m\u001b[0m\n\u001b[0;32m    268\u001b[0m     \u001b[1;32mdef\u001b[0m \u001b[0m__repr__\u001b[0m\u001b[1;33m(\u001b[0m\u001b[0mself\u001b[0m\u001b[1;33m)\u001b[0m\u001b[1;33m:\u001b[0m\u001b[1;33m\u001b[0m\u001b[1;33m\u001b[0m\u001b[0m\n",
      "\u001b[1;32m~\\AppData\\Roaming\\Python\\Python39\\site-packages\\selenium\\webdriver\\remote\\webdriver.py\u001b[0m in \u001b[0;36mstart_session\u001b[1;34m(self, capabilities, browser_profile)\u001b[0m\n\u001b[0;32m    355\u001b[0m         parameters = {\"capabilities\": w3c_caps,\n\u001b[0;32m    356\u001b[0m                       \"desiredCapabilities\": capabilities}\n\u001b[1;32m--> 357\u001b[1;33m         \u001b[0mresponse\u001b[0m \u001b[1;33m=\u001b[0m \u001b[0mself\u001b[0m\u001b[1;33m.\u001b[0m\u001b[0mexecute\u001b[0m\u001b[1;33m(\u001b[0m\u001b[0mCommand\u001b[0m\u001b[1;33m.\u001b[0m\u001b[0mNEW_SESSION\u001b[0m\u001b[1;33m,\u001b[0m \u001b[0mparameters\u001b[0m\u001b[1;33m)\u001b[0m\u001b[1;33m\u001b[0m\u001b[1;33m\u001b[0m\u001b[0m\n\u001b[0m\u001b[0;32m    358\u001b[0m         \u001b[1;32mif\u001b[0m \u001b[1;34m'sessionId'\u001b[0m \u001b[1;32mnot\u001b[0m \u001b[1;32min\u001b[0m \u001b[0mresponse\u001b[0m\u001b[1;33m:\u001b[0m\u001b[1;33m\u001b[0m\u001b[1;33m\u001b[0m\u001b[0m\n\u001b[0;32m    359\u001b[0m             \u001b[0mresponse\u001b[0m \u001b[1;33m=\u001b[0m \u001b[0mresponse\u001b[0m\u001b[1;33m[\u001b[0m\u001b[1;34m'value'\u001b[0m\u001b[1;33m]\u001b[0m\u001b[1;33m\u001b[0m\u001b[1;33m\u001b[0m\u001b[0m\n",
      "\u001b[1;32m~\\AppData\\Roaming\\Python\\Python39\\site-packages\\selenium\\webdriver\\remote\\webdriver.py\u001b[0m in \u001b[0;36mexecute\u001b[1;34m(self, driver_command, params)\u001b[0m\n\u001b[0;32m    416\u001b[0m         \u001b[0mresponse\u001b[0m \u001b[1;33m=\u001b[0m \u001b[0mself\u001b[0m\u001b[1;33m.\u001b[0m\u001b[0mcommand_executor\u001b[0m\u001b[1;33m.\u001b[0m\u001b[0mexecute\u001b[0m\u001b[1;33m(\u001b[0m\u001b[0mdriver_command\u001b[0m\u001b[1;33m,\u001b[0m \u001b[0mparams\u001b[0m\u001b[1;33m)\u001b[0m\u001b[1;33m\u001b[0m\u001b[1;33m\u001b[0m\u001b[0m\n\u001b[0;32m    417\u001b[0m         \u001b[1;32mif\u001b[0m \u001b[0mresponse\u001b[0m\u001b[1;33m:\u001b[0m\u001b[1;33m\u001b[0m\u001b[1;33m\u001b[0m\u001b[0m\n\u001b[1;32m--> 418\u001b[1;33m             \u001b[0mself\u001b[0m\u001b[1;33m.\u001b[0m\u001b[0merror_handler\u001b[0m\u001b[1;33m.\u001b[0m\u001b[0mcheck_response\u001b[0m\u001b[1;33m(\u001b[0m\u001b[0mresponse\u001b[0m\u001b[1;33m)\u001b[0m\u001b[1;33m\u001b[0m\u001b[1;33m\u001b[0m\u001b[0m\n\u001b[0m\u001b[0;32m    419\u001b[0m             response['value'] = self._unwrap_value(\n\u001b[0;32m    420\u001b[0m                 response.get('value', None))\n",
      "\u001b[1;32m~\\AppData\\Roaming\\Python\\Python39\\site-packages\\selenium\\webdriver\\remote\\errorhandler.py\u001b[0m in \u001b[0;36mcheck_response\u001b[1;34m(self, response)\u001b[0m\n\u001b[0;32m    241\u001b[0m                 \u001b[0malert_text\u001b[0m \u001b[1;33m=\u001b[0m \u001b[0mvalue\u001b[0m\u001b[1;33m[\u001b[0m\u001b[1;34m'alert'\u001b[0m\u001b[1;33m]\u001b[0m\u001b[1;33m.\u001b[0m\u001b[0mget\u001b[0m\u001b[1;33m(\u001b[0m\u001b[1;34m'text'\u001b[0m\u001b[1;33m)\u001b[0m\u001b[1;33m\u001b[0m\u001b[1;33m\u001b[0m\u001b[0m\n\u001b[0;32m    242\u001b[0m             \u001b[1;32mraise\u001b[0m \u001b[0mexception_class\u001b[0m\u001b[1;33m(\u001b[0m\u001b[0mmessage\u001b[0m\u001b[1;33m,\u001b[0m \u001b[0mscreen\u001b[0m\u001b[1;33m,\u001b[0m \u001b[0mstacktrace\u001b[0m\u001b[1;33m,\u001b[0m \u001b[0malert_text\u001b[0m\u001b[1;33m)\u001b[0m  \u001b[1;31m# type: ignore[call-arg]  # mypy is not smart enough here\u001b[0m\u001b[1;33m\u001b[0m\u001b[1;33m\u001b[0m\u001b[0m\n\u001b[1;32m--> 243\u001b[1;33m         \u001b[1;32mraise\u001b[0m \u001b[0mexception_class\u001b[0m\u001b[1;33m(\u001b[0m\u001b[0mmessage\u001b[0m\u001b[1;33m,\u001b[0m \u001b[0mscreen\u001b[0m\u001b[1;33m,\u001b[0m \u001b[0mstacktrace\u001b[0m\u001b[1;33m)\u001b[0m\u001b[1;33m\u001b[0m\u001b[1;33m\u001b[0m\u001b[0m\n\u001b[0m\u001b[0;32m    244\u001b[0m \u001b[1;33m\u001b[0m\u001b[0m\n\u001b[0;32m    245\u001b[0m     \u001b[1;32mdef\u001b[0m \u001b[0m_value_or_default\u001b[0m\u001b[1;33m(\u001b[0m\u001b[0mself\u001b[0m\u001b[1;33m,\u001b[0m \u001b[0mobj\u001b[0m\u001b[1;33m:\u001b[0m \u001b[0mMapping\u001b[0m\u001b[1;33m[\u001b[0m\u001b[0m_KT\u001b[0m\u001b[1;33m,\u001b[0m \u001b[0m_VT\u001b[0m\u001b[1;33m]\u001b[0m\u001b[1;33m,\u001b[0m \u001b[0mkey\u001b[0m\u001b[1;33m:\u001b[0m \u001b[0m_KT\u001b[0m\u001b[1;33m,\u001b[0m \u001b[0mdefault\u001b[0m\u001b[1;33m:\u001b[0m \u001b[0m_VT\u001b[0m\u001b[1;33m)\u001b[0m \u001b[1;33m->\u001b[0m \u001b[0m_VT\u001b[0m\u001b[1;33m:\u001b[0m\u001b[1;33m\u001b[0m\u001b[1;33m\u001b[0m\u001b[0m\n",
      "\u001b[1;31mSessionNotCreatedException\u001b[0m: Message: session not created\nfrom disconnected: received Inspector.detached event\n  (Session info: chrome=100.0.4896.127)\nStacktrace:\nBacktrace:\n\tOrdinal0 [0x00FE7413+2389011]\n\tOrdinal0 [0x00F79F61+1941345]\n\tOrdinal0 [0x00E6C658+837208]\n\tOrdinal0 [0x00E5E87E+780414]\n\tOrdinal0 [0x00E5E46F+779375]\n\tOrdinal0 [0x00E5DA86+776838]\n\tOrdinal0 [0x00E5C995+772501]\n\tOrdinal0 [0x00E5CE6D+773741]\n\tOrdinal0 [0x00E5C5B5+771509]\n\tOrdinal0 [0x00E68363+820067]\n\tOrdinal0 [0x00E5C565+771429]\n\tOrdinal0 [0x00E5D668+775784]\n\tOrdinal0 [0x00E5C995+772501]\n\tOrdinal0 [0x00E5CE6D+773741]\n\tOrdinal0 [0x00E5C5B5+771509]\n\tOrdinal0 [0x00E66053+811091]\n\tOrdinal0 [0x00E5C565+771429]\n\tOrdinal0 [0x00E5D668+775784]\n\tOrdinal0 [0x00E5C995+772501]\n\tOrdinal0 [0x00E5CE6D+773741]\n\tOrdinal0 [0x00E5C5B5+771509]\n\tOrdinal0 [0x00E63EC9+802505]\n\tOrdinal0 [0x00E5C565+771429]\n\tOrdinal0 [0x00E5D668+775784]\n\tOrdinal0 [0x00E5C995+772501]\n\tOrdinal0 [0x00E5CF98+774040]\n\tOrdinal0 [0x00E5CF28+773928]\n\tOrdinal0 [0x00E62C56+797782]\n\tOrdinal0 [0x00E62B90+797584]\n\tOrdinal0 [0x00E5C565+771429]\n\tOrdinal0 [0x00E5D668+775784]\n\tOrdinal0 [0x00E5C995+772501]\n\tOrdinal0 [0x00E5CE6D+773741]\n\tOrdinal0 [0x00E5C5B5+771509]\n\tOrdinal0 [0x00E57E2D+753197]\n\tOrdinal0 [0x00E5C565+771429]\n\tOrdinal0 [0x00E5C2F0+770800]\n\tOrdinal0 [0x00E5C039+770105]\n\tOrdinal0 [0x00E6D9D0+842192]\n\tOrdinal0 [0x00EB9D15+1154325]\n\tOrdinal0 [0x00EB88DA+1149146]\n\tOrdinal0 [0x00EB3F66+1130342]\n\tOrdinal0 [0x00E8E546+976198]\n\tOrdinal0 [0x00E8F456+980054]\n\tGetHandleVerifier [0x01199632+1727522]\n\tGetHandleVerifier [0x0124BA4D+2457661]\n\tGetHandleVerifier [0x0107EB81+569713]\n\tGetHandleVerifier [0x0107DD76+566118]\n\tOrdinal0 [0x00F80B2B+1968939]\n\tOrdinal0 [0x00F85988+1989000]\n\tOrdinal0 [0x00F85A75+1989237]\n\tOrdinal0 [0x00F8ECB1+2026673]\n\tBaseThreadInitThunk [0x75D66739+25]\n\tRtlGetFullPathName_UEx [0x77508E7F+1215]\n\tRtlGetFullPathName_UEx [0x77508E4D+1165]\n"
     ]
    }
   ],
   "source": [
    "browser=opener()\n",
    "scrape(browser)\n",
    "browser.close()"
   ]
  },
  {
   "cell_type": "code",
   "execution_count": null,
   "metadata": {},
   "outputs": [],
   "source": [
    "def sample(browser):\n",
    "    path=f'/html/body/div/div/div[3]/div/div/main/div/div[2]/div/article[1]/div/div/div/div/div/div[2]/div/div[1]/div/div/div/div/div[1]/div[1]/a'\n",
    "    element = WebDriverWait(browser, 10).until(EC.presence_of_element_located((By.XPATH, path)))\n",
    "    title=browser.find_element_by_xpath(path).get_attribute('href')\n",
    "    print(title)"
   ]
  },
  {
   "cell_type": "code",
   "execution_count": null,
   "metadata": {},
   "outputs": [],
   "source": [
    "#browser=opener()\n",
    "#sample(browser)\n",
    "#browser.close()"
   ]
  }
 ],
 "metadata": {
  "interpreter": {
   "hash": "17d3c47e01c8d2d87d9e93381cd0429c120a0f22dbe405c98032296d31d00ceb"
  },
  "kernelspec": {
   "display_name": "Python 3.9.7 64-bit",
   "language": "python",
   "name": "python3"
  },
  "language_info": {
   "codemirror_mode": {
    "name": "ipython",
    "version": 3
   },
   "file_extension": ".py",
   "mimetype": "text/x-python",
   "name": "python",
   "nbconvert_exporter": "python",
   "pygments_lexer": "ipython3",
   "version": "3.9.7"
  },
  "orig_nbformat": 4
 },
 "nbformat": 4,
 "nbformat_minor": 2
}
