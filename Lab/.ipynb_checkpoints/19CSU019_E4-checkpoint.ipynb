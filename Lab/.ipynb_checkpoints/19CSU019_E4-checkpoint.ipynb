{
 "cells": [
  {
   "cell_type": "markdown",
   "id": "fa0cb407",
   "metadata": {},
   "source": [
    "## PCA PROGRAM"
   ]
  },
  {
   "cell_type": "code",
   "execution_count": 2,
   "id": "8f5eef6a",
   "metadata": {},
   "outputs": [],
   "source": [
    "import pandas as pd\n",
    "from sklearn.preprocessing import StandardScaler"
   ]
  },
  {
   "cell_type": "code",
   "execution_count": 3,
   "id": "b5baf539",
   "metadata": {},
   "outputs": [],
   "source": [
    "dataset=pd.read_csv(\"stcp-Rdataset-Diet.csv\")"
   ]
  },
  {
   "cell_type": "code",
   "execution_count": 4,
   "id": "9648fb57",
   "metadata": {},
   "outputs": [],
   "source": [
    "x=dataset[[\"Person\",\"gender\",\"Age\",\"Height\",\"pre.weight\",\"Diet\"]]\n",
    "y=dataset[[\"weight6weeks\"]]"
   ]
  },
  {
   "cell_type": "code",
   "execution_count": 5,
   "id": "cd5147d4",
   "metadata": {},
   "outputs": [],
   "source": [
    "x=StandardScaler().fit_transform(x)"
   ]
  },
  {
   "cell_type": "code",
   "execution_count": 8,
   "id": "724326c2",
   "metadata": {},
   "outputs": [],
   "source": [
    "a=pd.DataFrame(x)"
   ]
  },
  {
   "cell_type": "code",
   "execution_count": 9,
   "id": "5be5cce7",
   "metadata": {},
   "outputs": [
    {
     "data": {
      "text/html": [
       "<div>\n",
       "<style scoped>\n",
       "    .dataframe tbody tr th:only-of-type {\n",
       "        vertical-align: middle;\n",
       "    }\n",
       "\n",
       "    .dataframe tbody tr th {\n",
       "        vertical-align: top;\n",
       "    }\n",
       "\n",
       "    .dataframe thead th {\n",
       "        text-align: right;\n",
       "    }\n",
       "</style>\n",
       "<table border=\"1\" class=\"dataframe\">\n",
       "  <thead>\n",
       "    <tr style=\"text-align: right;\">\n",
       "      <th></th>\n",
       "      <th>0</th>\n",
       "      <th>1</th>\n",
       "      <th>2</th>\n",
       "      <th>3</th>\n",
       "      <th>4</th>\n",
       "      <th>5</th>\n",
       "    </tr>\n",
       "  </thead>\n",
       "  <tbody>\n",
       "    <tr>\n",
       "      <th>0</th>\n",
       "      <td>-0.644021</td>\n",
       "      <td>-0.856349</td>\n",
       "      <td>0.189307</td>\n",
       "      <td>0.016020</td>\n",
       "      <td>-1.445170</td>\n",
       "      <td>-0.047619</td>\n",
       "    </tr>\n",
       "    <tr>\n",
       "      <th>1</th>\n",
       "      <td>-0.599605</td>\n",
       "      <td>-0.856349</td>\n",
       "      <td>-0.733566</td>\n",
       "      <td>0.283779</td>\n",
       "      <td>3.516038</td>\n",
       "      <td>-0.047619</td>\n",
       "    </tr>\n",
       "    <tr>\n",
       "      <th>2</th>\n",
       "      <td>-1.709986</td>\n",
       "      <td>-0.856349</td>\n",
       "      <td>-1.758980</td>\n",
       "      <td>-1.055017</td>\n",
       "      <td>-1.675924</td>\n",
       "      <td>-1.285714</td>\n",
       "    </tr>\n",
       "    <tr>\n",
       "      <th>3</th>\n",
       "      <td>-1.665570</td>\n",
       "      <td>-0.856349</td>\n",
       "      <td>0.702014</td>\n",
       "      <td>1.890333</td>\n",
       "      <td>-1.445170</td>\n",
       "      <td>-1.285714</td>\n",
       "    </tr>\n",
       "    <tr>\n",
       "      <th>4</th>\n",
       "      <td>-1.621155</td>\n",
       "      <td>-0.856349</td>\n",
       "      <td>1.624887</td>\n",
       "      <td>-0.073233</td>\n",
       "      <td>-0.983662</td>\n",
       "      <td>-1.285714</td>\n",
       "    </tr>\n",
       "    <tr>\n",
       "      <th>...</th>\n",
       "      <td>...</td>\n",
       "      <td>...</td>\n",
       "      <td>...</td>\n",
       "      <td>...</td>\n",
       "      <td>...</td>\n",
       "      <td>...</td>\n",
       "    </tr>\n",
       "    <tr>\n",
       "      <th>73</th>\n",
       "      <td>1.532325</td>\n",
       "      <td>1.167748</td>\n",
       "      <td>-0.425941</td>\n",
       "      <td>1.087056</td>\n",
       "      <td>1.208499</td>\n",
       "      <td>1.190476</td>\n",
       "    </tr>\n",
       "    <tr>\n",
       "      <th>74</th>\n",
       "      <td>1.576740</td>\n",
       "      <td>1.167748</td>\n",
       "      <td>1.009639</td>\n",
       "      <td>0.551538</td>\n",
       "      <td>1.323876</td>\n",
       "      <td>1.190476</td>\n",
       "    </tr>\n",
       "    <tr>\n",
       "      <th>75</th>\n",
       "      <td>1.621155</td>\n",
       "      <td>1.167748</td>\n",
       "      <td>-1.143731</td>\n",
       "      <td>-0.608751</td>\n",
       "      <td>1.439253</td>\n",
       "      <td>1.190476</td>\n",
       "    </tr>\n",
       "    <tr>\n",
       "      <th>76</th>\n",
       "      <td>1.665570</td>\n",
       "      <td>1.167748</td>\n",
       "      <td>0.086766</td>\n",
       "      <td>-0.340992</td>\n",
       "      <td>1.670007</td>\n",
       "      <td>1.190476</td>\n",
       "    </tr>\n",
       "    <tr>\n",
       "      <th>77</th>\n",
       "      <td>1.709986</td>\n",
       "      <td>1.167748</td>\n",
       "      <td>1.214722</td>\n",
       "      <td>0.373032</td>\n",
       "      <td>1.785384</td>\n",
       "      <td>1.190476</td>\n",
       "    </tr>\n",
       "  </tbody>\n",
       "</table>\n",
       "<p>78 rows × 6 columns</p>\n",
       "</div>"
      ],
      "text/plain": [
       "           0         1         2         3         4         5\n",
       "0  -0.644021 -0.856349  0.189307  0.016020 -1.445170 -0.047619\n",
       "1  -0.599605 -0.856349 -0.733566  0.283779  3.516038 -0.047619\n",
       "2  -1.709986 -0.856349 -1.758980 -1.055017 -1.675924 -1.285714\n",
       "3  -1.665570 -0.856349  0.702014  1.890333 -1.445170 -1.285714\n",
       "4  -1.621155 -0.856349  1.624887 -0.073233 -0.983662 -1.285714\n",
       "..       ...       ...       ...       ...       ...       ...\n",
       "73  1.532325  1.167748 -0.425941  1.087056  1.208499  1.190476\n",
       "74  1.576740  1.167748  1.009639  0.551538  1.323876  1.190476\n",
       "75  1.621155  1.167748 -1.143731 -0.608751  1.439253  1.190476\n",
       "76  1.665570  1.167748  0.086766 -0.340992  1.670007  1.190476\n",
       "77  1.709986  1.167748  1.214722  0.373032  1.785384  1.190476\n",
       "\n",
       "[78 rows x 6 columns]"
      ]
     },
     "execution_count": 9,
     "metadata": {},
     "output_type": "execute_result"
    }
   ],
   "source": [
    "a"
   ]
  },
  {
   "cell_type": "code",
   "execution_count": null,
   "id": "c0af5b54",
   "metadata": {},
   "outputs": [],
   "source": []
  }
 ],
 "metadata": {
  "kernelspec": {
   "display_name": "Python 3 (ipykernel)",
   "language": "python",
   "name": "python3"
  },
  "language_info": {
   "codemirror_mode": {
    "name": "ipython",
    "version": 3
   },
   "file_extension": ".py",
   "mimetype": "text/x-python",
   "name": "python",
   "nbconvert_exporter": "python",
   "pygments_lexer": "ipython3",
   "version": "3.9.1"
  }
 },
 "nbformat": 4,
 "nbformat_minor": 5
}
