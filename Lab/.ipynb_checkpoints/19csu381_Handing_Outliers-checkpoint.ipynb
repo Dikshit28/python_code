{
 "cells": [
  {
   "cell_type": "code",
   "execution_count": 1,
   "metadata": {
    "colab": {
     "base_uri": "https://localhost:8080/"
    },
    "id": "7rYO6t97QLFV",
    "outputId": "f489e487-3935-4093-9e26-8aba75030a81"
   },
   "outputs": [
    {
     "name": "stdout",
     "output_type": "stream",
     "text": [
      "   Monthly_fee  Number_of_seats  Number_of_classes\n",
      "0         3000              400                 30\n",
      "1         3500              250                 50\n",
      "2        10000              500                 55\n",
      "3         5000             1500                200\n"
     ]
    }
   ],
   "source": [
    "import numpy as np\n",
    "import pandas as pd\n",
    "\n",
    "# Creating DataFrame\n",
    "schools = pd.DataFrame()\n",
    "schools['Monthly_fee'] = [3000, 3500, 10000, 5000]\n",
    "schools['Number_of_seats'] = [400, 250, 500, 1500]\n",
    "schools['Number_of_classes'] = [30, 50, 55, 200]\n",
    "print(schools)"
   ]
  },
  {
   "cell_type": "code",
   "execution_count": 2,
   "metadata": {
    "colab": {
     "base_uri": "https://localhost:8080/",
     "height": 297
    },
    "id": "fHHZ6wtdQLFc",
    "outputId": "65337785-b78a-4490-d2b7-71248c84ca46"
   },
   "outputs": [
    {
     "data": {
      "text/html": [
       "<div>\n",
       "<style scoped>\n",
       "    .dataframe tbody tr th:only-of-type {\n",
       "        vertical-align: middle;\n",
       "    }\n",
       "\n",
       "    .dataframe tbody tr th {\n",
       "        vertical-align: top;\n",
       "    }\n",
       "\n",
       "    .dataframe thead th {\n",
       "        text-align: right;\n",
       "    }\n",
       "</style>\n",
       "<table border=\"1\" class=\"dataframe\">\n",
       "  <thead>\n",
       "    <tr style=\"text-align: right;\">\n",
       "      <th></th>\n",
       "      <th>Monthly_fee</th>\n",
       "      <th>Number_of_seats</th>\n",
       "      <th>Number_of_classes</th>\n",
       "    </tr>\n",
       "  </thead>\n",
       "  <tbody>\n",
       "    <tr>\n",
       "      <th>count</th>\n",
       "      <td>4.000000</td>\n",
       "      <td>4.000000</td>\n",
       "      <td>4.000000</td>\n",
       "    </tr>\n",
       "    <tr>\n",
       "      <th>mean</th>\n",
       "      <td>5375.000000</td>\n",
       "      <td>662.500000</td>\n",
       "      <td>83.750000</td>\n",
       "    </tr>\n",
       "    <tr>\n",
       "      <th>std</th>\n",
       "      <td>3198.306844</td>\n",
       "      <td>567.707378</td>\n",
       "      <td>78.249068</td>\n",
       "    </tr>\n",
       "    <tr>\n",
       "      <th>min</th>\n",
       "      <td>3000.000000</td>\n",
       "      <td>250.000000</td>\n",
       "      <td>30.000000</td>\n",
       "    </tr>\n",
       "    <tr>\n",
       "      <th>25%</th>\n",
       "      <td>3375.000000</td>\n",
       "      <td>362.500000</td>\n",
       "      <td>45.000000</td>\n",
       "    </tr>\n",
       "    <tr>\n",
       "      <th>50%</th>\n",
       "      <td>4250.000000</td>\n",
       "      <td>450.000000</td>\n",
       "      <td>52.500000</td>\n",
       "    </tr>\n",
       "    <tr>\n",
       "      <th>75%</th>\n",
       "      <td>6250.000000</td>\n",
       "      <td>750.000000</td>\n",
       "      <td>91.250000</td>\n",
       "    </tr>\n",
       "    <tr>\n",
       "      <th>max</th>\n",
       "      <td>10000.000000</td>\n",
       "      <td>1500.000000</td>\n",
       "      <td>200.000000</td>\n",
       "    </tr>\n",
       "  </tbody>\n",
       "</table>\n",
       "</div>"
      ],
      "text/plain": [
       "        Monthly_fee  Number_of_seats  Number_of_classes\n",
       "count      4.000000         4.000000           4.000000\n",
       "mean    5375.000000       662.500000          83.750000\n",
       "std     3198.306844       567.707378          78.249068\n",
       "min     3000.000000       250.000000          30.000000\n",
       "25%     3375.000000       362.500000          45.000000\n",
       "50%     4250.000000       450.000000          52.500000\n",
       "75%     6250.000000       750.000000          91.250000\n",
       "max    10000.000000      1500.000000         200.000000"
      ]
     },
     "execution_count": 2,
     "metadata": {},
     "output_type": "execute_result"
    }
   ],
   "source": [
    "schools.describe()"
   ]
  },
  {
   "cell_type": "code",
   "execution_count": 3,
   "metadata": {
    "colab": {
     "base_uri": "https://localhost:8080/"
    },
    "id": "JdZKDYU0QLFg",
    "outputId": "eedd98b7-4832-4d26-e823-137d1a483911"
   },
   "outputs": [
    {
     "name": "stdout",
     "output_type": "stream",
     "text": [
      "   Monthly_fee  Number_of_seats  Number_of_classes\n",
      "0         3000              400                 30\n",
      "1         3500              250                 50\n",
      "2        10000              500                 55\n"
     ]
    }
   ],
   "source": [
    "c = schools[schools['Number_of_classes'] < 100]\n",
    "print(c)"
   ]
  },
  {
   "cell_type": "code",
   "execution_count": 4,
   "metadata": {
    "colab": {
     "base_uri": "https://localhost:8080/"
    },
    "id": "wLsPYJR8QLFj",
    "outputId": "5f0ccfb7-fe17-45f1-96e1-1d95021ca0ef"
   },
   "outputs": [
    {
     "name": "stdout",
     "output_type": "stream",
     "text": [
      "   Monthly_fee  Number_of_seats  Number_of_classes  Outlier\n",
      "0         3000              400                 30        0\n",
      "1         3500              250                 50        0\n",
      "2        10000              500                 55        0\n",
      "3         5000             1500                200        1\n"
     ]
    }
   ],
   "source": [
    "schools['Outlier'] = np.where(schools['Number_of_classes'] < 100, 0, 1)\n",
    "\n",
    "# Show data\n",
    "print(schools)"
   ]
  },
  {
   "cell_type": "code",
   "execution_count": 5,
   "metadata": {
    "id": "MwvCxb9-QLFk"
   },
   "outputs": [],
   "source": [
    "schools['log_monthly_fee'] = [np.log(x) for x in schools['Monthly_fee']]"
   ]
  },
  {
   "cell_type": "code",
   "execution_count": 6,
   "metadata": {
    "colab": {
     "base_uri": "https://localhost:8080/"
    },
    "id": "L0oPeMRUQLFl",
    "outputId": "f92f2601-798a-40a0-c13b-6f4cd562fff9"
   },
   "outputs": [
    {
     "name": "stdout",
     "output_type": "stream",
     "text": [
      "   Monthly_fee  Number_of_seats  Number_of_classes  Outlier  log_monthly_fee\n",
      "0         3000              400                 30        0         8.006368\n",
      "1         3500              250                 50        0         8.160518\n",
      "2        10000              500                 55        0         9.210340\n",
      "3         5000             1500                200        1         8.517193\n"
     ]
    }
   ],
   "source": [
    "print(schools)"
   ]
  },
  {
   "cell_type": "code",
   "execution_count": 7,
   "metadata": {
    "colab": {
     "base_uri": "https://localhost:8080/"
    },
    "id": "LeoNAu1QQLFl",
    "outputId": "aac85a43-dea4-4053-c6a6-ec1a31ce6bbe"
   },
   "outputs": [
    {
     "name": "stdout",
     "output_type": "stream",
     "text": [
      "   Monthly_fee  Number_of_seats  Number_of_classes\n",
      "0         3000              400                 30\n",
      "1         3500              250                 50\n",
      "2        10000              500                 55\n",
      "3         5000             1500                200\n"
     ]
    }
   ],
   "source": [
    "schools = pd.DataFrame()\n",
    "schools['Monthly_fee'] = [3000, 3500, 10000, 5000]\n",
    "schools['Number_of_seats'] = [400, 250, 500, 1500]\n",
    "schools['Number_of_classes'] = [30, 50, 55, 200]\n",
    "print(schools)"
   ]
  },
  {
   "cell_type": "code",
   "execution_count": 8,
   "metadata": {
    "colab": {
     "base_uri": "https://localhost:8080/",
     "height": 297
    },
    "id": "7QtTl0RVQLFm",
    "outputId": "6eda5033-1cbc-4ca1-c5a4-b88d771e68ac"
   },
   "outputs": [
    {
     "data": {
      "text/html": [
       "<div>\n",
       "<style scoped>\n",
       "    .dataframe tbody tr th:only-of-type {\n",
       "        vertical-align: middle;\n",
       "    }\n",
       "\n",
       "    .dataframe tbody tr th {\n",
       "        vertical-align: top;\n",
       "    }\n",
       "\n",
       "    .dataframe thead th {\n",
       "        text-align: right;\n",
       "    }\n",
       "</style>\n",
       "<table border=\"1\" class=\"dataframe\">\n",
       "  <thead>\n",
       "    <tr style=\"text-align: right;\">\n",
       "      <th></th>\n",
       "      <th>Monthly_fee</th>\n",
       "      <th>Number_of_seats</th>\n",
       "      <th>Number_of_classes</th>\n",
       "    </tr>\n",
       "  </thead>\n",
       "  <tbody>\n",
       "    <tr>\n",
       "      <th>count</th>\n",
       "      <td>4.000000</td>\n",
       "      <td>4.000000</td>\n",
       "      <td>4.000000</td>\n",
       "    </tr>\n",
       "    <tr>\n",
       "      <th>mean</th>\n",
       "      <td>5375.000000</td>\n",
       "      <td>662.500000</td>\n",
       "      <td>83.750000</td>\n",
       "    </tr>\n",
       "    <tr>\n",
       "      <th>std</th>\n",
       "      <td>3198.306844</td>\n",
       "      <td>567.707378</td>\n",
       "      <td>78.249068</td>\n",
       "    </tr>\n",
       "    <tr>\n",
       "      <th>min</th>\n",
       "      <td>3000.000000</td>\n",
       "      <td>250.000000</td>\n",
       "      <td>30.000000</td>\n",
       "    </tr>\n",
       "    <tr>\n",
       "      <th>25%</th>\n",
       "      <td>3375.000000</td>\n",
       "      <td>362.500000</td>\n",
       "      <td>45.000000</td>\n",
       "    </tr>\n",
       "    <tr>\n",
       "      <th>50%</th>\n",
       "      <td>4250.000000</td>\n",
       "      <td>450.000000</td>\n",
       "      <td>52.500000</td>\n",
       "    </tr>\n",
       "    <tr>\n",
       "      <th>75%</th>\n",
       "      <td>6250.000000</td>\n",
       "      <td>750.000000</td>\n",
       "      <td>91.250000</td>\n",
       "    </tr>\n",
       "    <tr>\n",
       "      <th>max</th>\n",
       "      <td>10000.000000</td>\n",
       "      <td>1500.000000</td>\n",
       "      <td>200.000000</td>\n",
       "    </tr>\n",
       "  </tbody>\n",
       "</table>\n",
       "</div>"
      ],
      "text/plain": [
       "        Monthly_fee  Number_of_seats  Number_of_classes\n",
       "count      4.000000         4.000000           4.000000\n",
       "mean    5375.000000       662.500000          83.750000\n",
       "std     3198.306844       567.707378          78.249068\n",
       "min     3000.000000       250.000000          30.000000\n",
       "25%     3375.000000       362.500000          45.000000\n",
       "50%     4250.000000       450.000000          52.500000\n",
       "75%     6250.000000       750.000000          91.250000\n",
       "max    10000.000000      1500.000000         200.000000"
      ]
     },
     "execution_count": 8,
     "metadata": {},
     "output_type": "execute_result"
    }
   ],
   "source": [
    "schools.describe()"
   ]
  },
  {
   "cell_type": "code",
   "execution_count": 9,
   "metadata": {
    "id": "JNL0heRKQLFn"
   },
   "outputs": [],
   "source": [
    "import seaborn as sns"
   ]
  },
  {
   "cell_type": "code",
   "execution_count": 10,
   "metadata": {
    "colab": {
     "base_uri": "https://localhost:8080/",
     "height": 285
    },
    "id": "1njHduZrQLFo",
    "outputId": "9a6f6013-a9f7-489c-d1b6-e6056292b171"
   },
   "outputs": [
    {
     "data": {
      "image/png": "[encoded data removed]",
      "text/plain": [
       "<Figure size 432x288 with 1 Axes>"
      ]
     },
     "metadata": {},
     "output_type": "display_data"
    }
   ],
   "source": [
    "sns.set(style=\"whitegrid\")\n",
    "ax=sns.boxplot(x=schools['Number_of_classes'])"
   ]
  },
  {
   "cell_type": "code",
   "execution_count": 11,
   "metadata": {
    "colab": {
     "base_uri": "https://localhost:8080/"
    },
    "id": "MoZb3yhXQLFo",
    "outputId": "5239fecc-290d-4728-d066-5abeac018395"
   },
   "outputs": [
    {
     "name": "stdout",
     "output_type": "stream",
     "text": [
      "Monthly_fee          2875.00\n",
      "Number_of_seats       387.50\n",
      "Number_of_classes      46.25\n",
      "dtype: float64\n",
      "\n",
      "Monthly_fee          3375.0\n",
      "Number_of_seats       362.5\n",
      "Number_of_classes      45.0\n",
      "Name: 0.25, dtype: float64\n",
      "\n",
      "Monthly_fee          6250.00\n",
      "Number_of_seats       750.00\n",
      "Number_of_classes      91.25\n",
      "Name: 0.75, dtype: float64\n"
     ]
    }
   ],
   "source": [
    "Q1=schools.quantile(0.25)\n",
    "Q3=schools.quantile(0.75)\n",
    "IQR=Q3-Q1\n",
    "print(IQR) \n",
    "print();print(Q1);print();print(Q3)"
   ]
  },
  {
   "cell_type": "code",
   "execution_count": 12,
   "metadata": {
    "colab": {
     "base_uri": "https://localhost:8080/"
    },
    "id": "zS3LfI_LQLFp",
    "outputId": "c85d960a-c8bb-4e0f-93a9-99d80d56525b"
   },
   "outputs": [
    {
     "name": "stdout",
     "output_type": "stream",
     "text": [
      "Monthly_fee          10562.500\n",
      "Number_of_seats       1331.250\n",
      "Number_of_classes      160.625\n",
      "dtype: float64\n"
     ]
    }
   ],
   "source": [
    "print(Q3+1.5*IQR)  # Q1-1.5*IQR"
   ]
  },
  {
   "cell_type": "code",
   "execution_count": 13,
   "metadata": {
    "id": "p_KNgMdaQLFq"
   },
   "outputs": [],
   "source": [
    "def total_outliers(X,Y):\n",
    "    c=0\n",
    "    for i in X:\n",
    "        if i>Y:\n",
    "            c=c+1\n",
    "            \n",
    "    print(c)      "
   ]
  },
  {
   "cell_type": "code",
   "execution_count": 14,
   "metadata": {
    "colab": {
     "base_uri": "https://localhost:8080/"
    },
    "id": "W8-S2Fl8QLFq",
    "outputId": "d7064e13-49df-47ff-fd7a-bb720d781708"
   },
   "outputs": [
    {
     "name": "stdout",
     "output_type": "stream",
     "text": [
      "1\n"
     ]
    }
   ],
   "source": [
    "total_outliers(schools.Number_of_classes,160.625)"
   ]
  },
  {
   "cell_type": "code",
   "execution_count": 15,
   "metadata": {
    "colab": {
     "base_uri": "https://localhost:8080/"
    },
    "id": "mVoPOTZWQLFr",
    "outputId": "33b5aaaf-c070-46e2-810b-18a668d23e24"
   },
   "outputs": [
    {
     "data": {
      "text/plain": [
       "3"
      ]
     },
     "execution_count": 15,
     "metadata": {},
     "output_type": "execute_result"
    }
   ],
   "source": [
    "schools[schools.Number_of_classes<160.625].shape[0]"
   ]
  }
 ],
 "metadata": {
  "colab": {
   "name": "19csu381_Handing_Outliers.ipynb",
   "provenance": []
  },
  "kernelspec": {
   "display_name": "Python 3 (ipykernel)",
   "language": "python",
   "name": "python3"
  },
  "language_info": {
   "codemirror_mode": {
    "name": "ipython",
    "version": 3
   },
   "file_extension": ".py",
   "mimetype": "text/x-python",
   "name": "python",
   "nbconvert_exporter": "python",
   "pygments_lexer": "ipython3",
   "version": "3.9.1"
  }
 },
 "nbformat": 4,
 "nbformat_minor": 1
}
