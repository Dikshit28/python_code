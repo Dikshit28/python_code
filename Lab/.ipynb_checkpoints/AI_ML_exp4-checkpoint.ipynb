{
 "cells": [
  {
   "cell_type": "code",
   "execution_count": 19,
   "metadata": {
    "id": "mHV1boPgC-BA"
   },
   "outputs": [],
   "source": [
    "import pandas as pd\n",
    "from sklearn.decomposition import PCA\n",
    "from sklearn.linear_model import LinearRegression\n",
    "from sklearn.metrics import mean_squared_error"
   ]
  },
  {
   "cell_type": "code",
   "execution_count": 20,
   "metadata": {
    "id": "ZXhr5fXZDwRJ"
   },
   "outputs": [],
   "source": [
    "train_data = pd.read_csv('train.csv')\n",
    "test_data = pd.read_csv('test.csv')"
   ]
  },
  {
   "cell_type": "code",
   "execution_count": 21,
   "metadata": {
    "colab": {
     "base_uri": "https://localhost:8080/"
    },
    "id": "Td2CnkTZF-kp",
    "outputId": "148fb960-eea5-42b4-c1f1-093488b5c01a"
   },
   "outputs": [
    {
     "name": "stdout",
     "output_type": "stream",
     "text": [
      "   Item_Weight  ...  Outlet_Type_Supermarket Type3\n",
      "0     6.800000  ...                              0\n",
      "1    15.600000  ...                              0\n",
      "2    12.911575  ...                              1\n",
      "\n",
      "[3 rows x 36 columns]\n",
      "\n",
      "Shape of training data : (1364, 36)\n",
      "\n",
      "Shape of testing data : (341, 36)\n"
     ]
    }
   ],
   "source": [
    "print(train_data.head(3))\n",
    "\n",
    "print('\\nShape of training data :',train_data.shape)\n",
    "print('\\nShape of testing data :',test_data.shape)"
   ]
  },
  {
   "cell_type": "code",
   "execution_count": 22,
   "metadata": {
    "id": "j0rfHr4LF_Ps"
   },
   "outputs": [],
   "source": [
    "train_x = train_data.drop(columns=['Item_Outlet_Sales'],axis=1)\n",
    "train_y = train_data['Item_Outlet_Sales']"
   ]
  },
  {
   "cell_type": "code",
   "execution_count": 23,
   "metadata": {
    "id": "plwHNDWKGHWw"
   },
   "outputs": [],
   "source": [
    "test_x = test_data.drop(columns=['Item_Outlet_Sales'],axis=1)\n",
    "test_y = test_data['Item_Outlet_Sales']"
   ]
  },
  {
   "cell_type": "code",
   "execution_count": 24,
   "metadata": {
    "colab": {
     "base_uri": "https://localhost:8080/"
    },
    "id": "VCFsp8KOGI27",
    "outputId": "e2af460e-14df-4a30-e074-2f293b67d851"
   },
   "outputs": [
    {
     "name": "stdout",
     "output_type": "stream",
     "text": [
      "\n",
      "Training model with 35 dimensions.\n"
     ]
    }
   ],
   "source": [
    "print('\\nTraining model with {} dimensions.'.format(train_x.shape[1]))"
   ]
  },
  {
   "cell_type": "code",
   "execution_count": 25,
   "metadata": {
    "colab": {
     "base_uri": "https://localhost:8080/"
    },
    "id": "9ZPI710bGKxd",
    "outputId": "67d0b0eb-67c2-4400-cd8f-221db81dc273"
   },
   "outputs": [
    {
     "data": {
      "text/plain": [
       "LinearRegression(copy_X=True, fit_intercept=True, n_jobs=None, normalize=False)"
      ]
     },
     "execution_count": 25,
     "metadata": {},
     "output_type": "execute_result"
    }
   ],
   "source": [
    "model = LinearRegression()\n",
    "\n",
    "model.fit(train_x,train_y)"
   ]
  },
  {
   "cell_type": "code",
   "execution_count": 26,
   "metadata": {
    "colab": {
     "base_uri": "https://localhost:8080/"
    },
    "id": "-8xBUHd3GMps",
    "outputId": "b01beda8-fdb1-495e-8123-b38d09969ff0"
   },
   "outputs": [
    {
     "name": "stdout",
     "output_type": "stream",
     "text": [
      "\n",
      "RMSE on train dataset :  1135.8159344155245\n"
     ]
    }
   ],
   "source": [
    "predict_train = model.predict(train_x)\n",
    "\n",
    "rmse_train = mean_squared_error(train_y,predict_train)**(0.5)\n",
    "print('\\nRMSE on train dataset : ', rmse_train)"
   ]
  },
  {
   "cell_type": "code",
   "execution_count": 27,
   "metadata": {
    "id": "68b6t9tRGPqs"
   },
   "outputs": [],
   "source": [
    "predict_test = model.predict(test_x)"
   ]
  },
  {
   "cell_type": "code",
   "execution_count": 28,
   "metadata": {
    "colab": {
     "base_uri": "https://localhost:8080/"
    },
    "id": "dVMSeWtTGXnv",
    "outputId": "91d8dbb4-8ebc-45d2-d2b7-fb031f849c14"
   },
   "outputs": [
    {
     "name": "stdout",
     "output_type": "stream",
     "text": [
      "\n",
      "RMSE on test dataset :  1009.2517232209692\n"
     ]
    }
   ],
   "source": [
    "rmse_test = mean_squared_error(test_y,predict_test)**(0.5)\n",
    "print('\\nRMSE on test dataset : ', rmse_test)"
   ]
  },
  {
   "cell_type": "code",
   "execution_count": 29,
   "metadata": {
    "id": "zWB5r5W6Gc2G"
   },
   "outputs": [],
   "source": [
    "model_pca = PCA(n_components=12)"
   ]
  },
  {
   "cell_type": "code",
   "execution_count": 30,
   "metadata": {
    "colab": {
     "base_uri": "https://localhost:8080/"
    },
    "id": "uYUWeMalGdlb",
    "outputId": "eba0eb5d-16f7-475c-cfb1-a15df1738e5b"
   },
   "outputs": [
    {
     "name": "stdout",
     "output_type": "stream",
     "text": [
      "\n",
      "Training model with 12 dimensions.\n"
     ]
    }
   ],
   "source": [
    "new_train = model_pca.fit_transform(train_x)\n",
    "new_test  = model_pca.fit_transform(test_x)\n",
    "\n",
    "print('\\nTraining model with {} dimensions.'.format(new_train.shape[1]))"
   ]
  },
  {
   "cell_type": "code",
   "execution_count": 31,
   "metadata": {
    "colab": {
     "base_uri": "https://localhost:8080/"
    },
    "id": "oJIOyqAzGgCE",
    "outputId": "3365bf48-4f16-4655-cea0-3845e1bef6fe"
   },
   "outputs": [
    {
     "data": {
      "text/plain": [
       "LinearRegression(copy_X=True, fit_intercept=True, n_jobs=None, normalize=False)"
      ]
     },
     "execution_count": 31,
     "metadata": {},
     "output_type": "execute_result"
    }
   ],
   "source": [
    "model_new = LinearRegression()\n",
    "\n",
    "model_new.fit(new_train,train_y)"
   ]
  },
  {
   "cell_type": "code",
   "execution_count": 32,
   "metadata": {
    "id": "pP-QJ3r5GkUc"
   },
   "outputs": [],
   "source": [
    "predict_train_pca = model_new.predict(new_train)"
   ]
  },
  {
   "cell_type": "code",
   "execution_count": 33,
   "metadata": {
    "colab": {
     "base_uri": "https://localhost:8080/"
    },
    "id": "9e_luxinGmat",
    "outputId": "b5c83bcb-fcc8-4d54-dcb0-d3d7fe7d4cfb"
   },
   "outputs": [
    {
     "name": "stdout",
     "output_type": "stream",
     "text": [
      "\n",
      "RMSE on new train dataset :  1160.003812601536\n"
     ]
    }
   ],
   "source": [
    "rmse_train_pca = mean_squared_error(train_y,predict_train_pca)**(0.5)\n",
    "print('\\nRMSE on new train dataset : ', rmse_train_pca)"
   ]
  },
  {
   "cell_type": "code",
   "execution_count": 34,
   "metadata": {
    "id": "16Gh-vpmGoBD"
   },
   "outputs": [],
   "source": [
    "predict_test_pca = model_new.predict(new_test)"
   ]
  },
  {
   "cell_type": "code",
   "execution_count": 35,
   "metadata": {
    "colab": {
     "base_uri": "https://localhost:8080/"
    },
    "id": "YBw8GIMJGqEU",
    "outputId": "2e616df5-5c91-4901-a304-2e6d78f85529"
   },
   "outputs": [
    {
     "name": "stdout",
     "output_type": "stream",
     "text": [
      "\n",
      "RMSE on new test dataset :  1014.404762761449\n"
     ]
    }
   ],
   "source": [
    "rmse_test_pca = mean_squared_error(test_y,predict_test_pca)**(0.5)\n",
    "print('\\nRMSE on new test dataset : ', rmse_test_pca)"
   ]
  },
  {
   "cell_type": "code",
   "execution_count": 35,
   "metadata": {
    "id": "c8CclwSPGry0"
   },
   "outputs": [],
   "source": []
  }
 ],
 "metadata": {
  "colab": {
   "name": "AI/ML exp4",
   "provenance": []
  },
  "kernelspec": {
   "display_name": "Python 3 (ipykernel)",
   "language": "python",
   "name": "python3"
  },
  "language_info": {
   "name": "python"
  }
 },
 "nbformat": 4,
 "nbformat_minor": 1
}
