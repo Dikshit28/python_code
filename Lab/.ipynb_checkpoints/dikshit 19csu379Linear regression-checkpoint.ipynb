{
 "cells": [
  {
   "cell_type": "code",
   "execution_count": 1,
   "metadata": {},
   "outputs": [],
   "source": [
    "# Data\n",
    "\n",
    "x = [1,2,3,4,5]\n",
    "y = [3,5,7,9,11]"
   ]
  },
  {
   "cell_type": "code",
   "execution_count": 2,
   "metadata": {},
   "outputs": [],
   "source": [
    "# Calculating necessary values\n",
    "\n",
    "xy = [x[i]*y[i] for i in range(len(x))]\n",
    "x2 = [i*i for i in x]"
   ]
  },
  {
   "cell_type": "code",
   "execution_count": 3,
   "metadata": {},
   "outputs": [],
   "source": [
    "# y = ax + b\n",
    "# a -> slope\n",
    "# b -> intercept\n",
    "\n",
    "a = (sum(xy) - (sum(x)*sum(y)))/(sum(x2)-(sum(x))**2)\n",
    "b = (sum(y)/len(y)) - (a*sum(x)/len(x))"
   ]
  },
  {
   "cell_type": "code",
   "execution_count": 5,
   "metadata": {},
   "outputs": [
    {
     "name": "stdout",
     "output_type": "stream",
     "text": [
      "y = 2.35 * x + -0.06\n"
     ]
    }
   ],
   "source": [
    "print(\"y = {:.2f} * x + {:.2f}\".format(a,b,\".%2f\"))"
   ]
  },
  {
   "cell_type": "code",
   "execution_count": 10,
   "metadata": {},
   "outputs": [],
   "source": [
    "# r = 1 - SSE/SST\n",
    "\n",
    "y_ = [(a * i + b) for i in x]\n",
    "\n",
    "SSE = sum([(y[i] - y_[i])**2 for i in range(len(y))])\n",
    "SST = sum([(i - (sum(y)/len(y)))**2 for i in y])\n",
    "r = 1 - SSE/SST "
   ]
  },
  {
   "cell_type": "code",
   "execution_count": 11,
   "metadata": {},
   "outputs": [
    {
     "data": {
      "text/plain": [
       "0.9688581314878892"
      ]
     },
     "execution_count": 11,
     "metadata": {},
     "output_type": "execute_result"
    }
   ],
   "source": [
    "r"
   ]
  },
  {
   "cell_type": "code",
   "execution_count": 16,
   "metadata": {},
   "outputs": [
    {
     "name": "stdout",
     "output_type": "stream",
     "text": [
      "Enter the value of x: 5\n",
      "The predicted value of y is 11.71\n"
     ]
    }
   ],
   "source": [
    "# Data prediction\n",
    "\n",
    "x_new = float(input(\"Enter the value of x: \"))\n",
    "y_new = a*x_new + b\n",
    "print(\"The predicted value of y is {:.2f}\".format(y_new))"
   ]
  },
  {
   "cell_type": "code",
   "execution_count": null,
   "metadata": {},
   "outputs": [],
   "source": []
  }
 ],
 "metadata": {
  "kernelspec": {
   "display_name": "Python 3 (ipykernel)",
   "language": "python",
   "name": "python3"
  },
  "language_info": {
   "codemirror_mode": {
    "name": "ipython",
    "version": 3
   },
   "file_extension": ".py",
   "mimetype": "text/x-python",
   "name": "python",
   "nbconvert_exporter": "python",
   "pygments_lexer": "ipython3",
   "version": "3.9.1"
  }
 },
 "nbformat": 4,
 "nbformat_minor": 4
}
