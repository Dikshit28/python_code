{
 "cells": [
  {
   "cell_type": "code",
   "execution_count": 11,
   "metadata": {},
   "outputs": [],
   "source": [
    "from sys import maxsize\n",
    "from itertools import permutations"
   ]
  },
  {
   "cell_type": "code",
   "execution_count": 12,
   "metadata": {},
   "outputs": [],
   "source": [
    "V = len(distance_matrix)\n",
    "\n",
    "def travelling(graph, s):\n",
    "\n",
    "    vtex = []\n",
    "    for i in range(V):\n",
    "        if i != s:\n",
    "            vtex.append(i)\n",
    " \n",
    "    min_path = maxsize\n",
    "    nxt_perm=permutations(vtex)\n",
    "    for i in nxt_perm:\n",
    " \n",
    "        current_pathweight = 0\n",
    " \n",
    "        k = s\n",
    "        for j in i:\n",
    "            current_pathweight += graph[k][j]\n",
    "            k = j\n",
    "        current_pathweight += graph[k][s]\n",
    " \n",
    "        min_path = min(min_path, current_pathweight)\n",
    "         \n",
    "    return min_path\n"
   ]
  },
  {
   "cell_type": "code",
   "execution_count": 13,
   "metadata": {},
   "outputs": [
    {
     "name": "stdout",
     "output_type": "stream",
     "text": [
      "21\n"
     ]
    }
   ],
   "source": [
    "distance_matrix = [\n",
    "             [0, 2, 9, 10],\n",
    "             [1, 0, 6, 4],\n",
    "             [15, 7, 0, 8],\n",
    "             [6, 3, 12, 0]\n",
    "            ]\n",
    "s = 0\n",
    "print(travelling(distance_matrix, s))"
   ]
  },
  {
   "cell_type": "markdown",
   "metadata": {},
   "source": [
    "# O(n^2*2^n)"
   ]
  }
 ],
 "metadata": {
  "kernelspec": {
   "display_name": "Python 3",
   "language": "python",
   "name": "python3"
  },
  "language_info": {
   "codemirror_mode": {
    "name": "ipython",
    "version": 3
   },
   "file_extension": ".py",
   "mimetype": "text/x-python",
   "name": "python",
   "nbconvert_exporter": "python",
   "pygments_lexer": "ipython3",
   "version": "3.9.1"
  }
 },
 "nbformat": 4,
 "nbformat_minor": 4
}
