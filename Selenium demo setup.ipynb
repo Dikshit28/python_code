{
 "cells": [
  {
   "cell_type": "code",
   "execution_count": 2,
   "source": [
    "from selenium import webdriver\r\n",
    "from selenium.webdriver.common.keys import Keys\r\n",
    "import time\r\n",
    "import warnings\r\n",
    "warnings.filterwarnings('ignore')"
   ],
   "outputs": [],
   "metadata": {}
  },
  {
   "cell_type": "code",
   "execution_count": 3,
   "source": [
    "driver_path = \"C:/Program Files/BraveSoftware/Brave-Browser/Application/chromedriver.exe\"\r\n",
    "brave_path = \"C:/Program Files/BraveSoftware/Brave-Browser/Application/brave.exe\"\r\n",
    "\r\n",
    "option = webdriver.ChromeOptions()\r\n",
    "option.binary_location = brave_path\r\n",
    "# option.add_argument(\"--incognito\") OPTIONAL\r\n",
    "# option.add_argument(\"--headless\") OPTIONAL\r\n",
    "\r\n",
    "# Create new Instance of Chrome\r\n",
    "browser = webdriver.Chrome(executable_path=driver_path, chrome_options=option)\r\n",
    "\r\n",
    "#browser.get(\"https://www.google.es\")\r\n",
    "\r\n",
    "payload={\r\n",
    "        'tbUserName': '19CSU379',\r\n",
    "        'tbPassword': 'dikshit_12345'\r\n",
    "    }\r\n",
    "browser.get(\"http://erp.ncuindia.edu/Welcome_iie.aspx\")\r\n"
   ],
   "outputs": [],
   "metadata": {}
  },
  {
   "cell_type": "code",
   "execution_count": null,
   "source": [],
   "outputs": [],
   "metadata": {}
  }
 ],
 "metadata": {
  "kernelspec": {
   "display_name": "Python 3",
   "language": "python",
   "name": "python3"
  },
  "language_info": {
   "codemirror_mode": {
    "name": "ipython",
    "version": 3
   },
   "file_extension": ".py",
   "mimetype": "text/x-python",
   "name": "python",
   "nbconvert_exporter": "python",
   "pygments_lexer": "ipython3",
   "version": "3.9.1"
  }
 },
 "nbformat": 4,
 "nbformat_minor": 4
}