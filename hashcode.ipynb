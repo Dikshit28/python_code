{
 "cells": [
  {
   "cell_type": "markdown",
   "metadata": {},
   "source": [
    "3 3\n",
    "Anna 1\n",
    "C++ 2\n",
    "Bob 2\n",
    "HTML 5\n",
    "CSS 5\n",
    "Maria 1\n",
    "Python 3\n",
    "Logging 5 10 5 1\n",
    "C++ 3\n",
    "WebServer 7 10 7 2\n",
    "HTML 3\n",
    "C++ 2\n",
    "WebChat 10 20 20 2\n",
    "Python 3\n",
    "HTML 3\n"
   ]
  },
  {
   "cell_type": "code",
   "execution_count": 8,
   "metadata": {},
   "outputs": [
    {
     "name": "stdout",
     "output_type": "stream",
     "text": [
      "{'anna': {'c': 2}, 'bob': {'htm': 5, 'css': 5}, 'maria': {'python': 3}}\n",
      "{'log': [10, 5, 1, {'c': 2, 'html': 3, 'ptyhon': 3}], 'webserver': [10, 7, 2, {'c': 2, 'html': 3, 'ptyhon': 3}], 'webchat': [20, 20, 2, {'c': 2, 'html': 3, 'ptyhon': 3}]}\n"
     ]
    }
   ],
   "source": [
    "# A string.\n",
    "l1=input(\"contri and project: \")\n",
    "contri=int(l1.split()[0])\n",
    "contri_list={}\n",
    "\n",
    "project=int(l1.split()[1])\n",
    "project_list={}\n",
    "\n",
    "for i in range(contri):\n",
    "    l2=input(\"name and skill: \")\n",
    "    name=l2.split()[0]\n",
    "    skills=int(l2.split()[1])\n",
    "    contri_skill={}\n",
    "    for j in range(skills):\n",
    "        l3=input(\"skill: \")\n",
    "        contri_skill[l3.split()[0]]=int(l3.split()[1])\n",
    "    contri_list[name]=contri_skill\n",
    "for i in range(project):\n",
    "    l4=input(\"project and skill: \")\n",
    "    name=l4.split()[0]\n",
    "    days=int(l4.split()[1])\n",
    "    score=int(l4.split()[2])\n",
    "    best_before=int(l4.split()[3])\n",
    "    no_of_roles=int(l4.split()[4])\n",
    "    project_skill={}\n",
    "    for j in range(no_of_roles):\n",
    "        l5=input(\"role and skill: \")\n",
    "        project_skill[l5.split()[0]]=int(l5.split()[1])\n",
    "    project_list[name]=[days,score,best_before,no_of_roles,project_skill]\n",
    "print(contri_list)\n",
    "print(project_list)"
   ]
  }
 ],
 "metadata": {
  "interpreter": {
   "hash": "17d3c47e01c8d2d87d9e93381cd0429c120a0f22dbe405c98032296d31d00ceb"
  },
  "kernelspec": {
   "display_name": "Python 3.9.7 64-bit",
   "language": "python",
   "name": "python3"
  },
  "language_info": {
   "codemirror_mode": {
    "name": "ipython",
    "version": 3
   },
   "file_extension": ".py",
   "mimetype": "text/x-python",
   "name": "python",
   "nbconvert_exporter": "python",
   "pygments_lexer": "ipython3",
   "version": "3.9.7"
  },
  "orig_nbformat": 4
 },
 "nbformat": 4,
 "nbformat_minor": 2
}
