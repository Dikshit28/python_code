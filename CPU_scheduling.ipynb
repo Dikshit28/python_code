{
 "cells": [
  {
   "cell_type": "markdown",
   "metadata": {
    "id": "SwRoV65OPJjJ"
   },
   "source": [
    "## First Come First Serve"
   ]
  },
  {
   "cell_type": "code",
   "execution_count": 1,
   "metadata": {
    "id": "ZBkYQ2BGF4dW"
   },
   "outputs": [],
   "source": [
    "def fcfs(n,bt):\n",
    "    #waiting\n",
    "    wt=[0]\n",
    "    for i in range(1,n):\n",
    "        sums=0\n",
    "        for j in range(0,i):\n",
    "            sums+=bt[j]\n",
    "        wt.append(sums)\n",
    "    #Turnaround\n",
    "    tat=[]\n",
    "    for i in range(0,n):\n",
    "        tat.append(bt[i]+wt[i])\n",
    "\n",
    "    print( \"Processes    bt time \" +\" Waiting time \" +\" Turn around time\")\n",
    "    for i in range(n):\n",
    "        print(\" \" + str(i + 1) + \"\\t\\t\" +str(bt[i]) + \"\\t \" +str(wt[i]) + \"\\t\\t \" +str(tat[i]))\n",
    "    avg_wt=sum(wt)//len(wt)\n",
    "    avg_tat=sum(tat)//len(tat)\n",
    "    print(\"Average waiting time = \",avg_wt)\n",
    "    print(\"Average turn around time = \",avg_tat)"
   ]
  },
  {
   "cell_type": "code",
   "execution_count": 2,
   "metadata": {
    "colab": {
     "base_uri": "https://localhost:8080/",
     "height": 0
    },
    "id": "6Y37mjCQH76s",
    "outputId": "a3e04bb1-5d7c-40d4-f0fe-6aec2b5dae64"
   },
   "outputs": [
    {
     "name": "stdout",
     "output_type": "stream",
     "text": [
      "Processes    bt time  Waiting time  Turn around time\n",
      " 1\t\t33\t 0\t\t 33\n",
      " 2\t\t2\t 33\t\t 35\n",
      " 3\t\t1\t 35\t\t 36\n",
      "Average waiting time =  22\n",
      "Average turn around time =  34\n"
     ]
    }
   ],
   "source": [
    "#n=int(input(\"enter number of processes \"))\n",
    "#bt=input('Enter bt time with spaces ').split()\n",
    "#bt = list(map(int,bt))\n",
    "n=3\n",
    "bt=[33,2,1]\n",
    "fcfs(n,bt)"
   ]
  },
  {
   "cell_type": "markdown",
   "metadata": {
    "id": "xx1KaGjxPO__"
   },
   "source": [
    "## Shortest Job First \n",
    "\n",
    "\n",
    "> Non-Premptive\n",
    "\n"
   ]
  },
  {
   "cell_type": "code",
   "execution_count": 3,
   "metadata": {
    "id": "bk-T2DcxJaCp"
   },
   "outputs": [],
   "source": [
    "def arrangeArrival(n, array):\n",
    "    for i in range(0, n):\n",
    "        for j in range(i, n-i-1):\n",
    "            if array[1][j] > array[1][j+1]:\n",
    "                for k in range(0, 3):#Looping arr[0] PID, arr[1] Arrival Time and arr[2] Burst Time\n",
    "                    array[k][j], array[k][j+1] = array[k][j+1], array[k][j] #Sorting on Arrival time"
   ]
  },
  {
   "cell_type": "code",
   "execution_count": 4,
   "metadata": {
    "id": "BAIYjRfdN3zf"
   },
   "outputs": [],
   "source": [
    "def CompletionTime(n, array):\n",
    "\tvalue = 0\n",
    "\tarray[3][0] = array[1][0] + array[2][0] #Completion Time= arrival +burst\n",
    "\tarray[5][0] = array[3][0] - array[1][0] #Turnaround Time=completion - arrival\n",
    "\tarray[4][0] = array[5][0] - array[2][0] #Waiting time=turnaround-burst\n",
    "\tfor i in range(1, n):\n",
    "\t\ttemp = array[3][i-1]\n",
    "\t\tmini = array[2][i]\n",
    "\t\tfor j in range(i, n):\n",
    "\t\t\tif temp >= array[1][j] and mini >= array[2][j]:#Completion time of prev is greater than arrival time of this and burst time of this is grater than next\n",
    "\t\t\t\tmini = array[2][j]\n",
    "\t\t\t\tvalue = j\n",
    "\t\tarray[3][value] = temp + array[2][value]\n",
    "\t\tarray[5][value] = array[3][value] - array[1][value]\n",
    "\t\tarray[4][value] = array[5][value] - array[2][value]\n",
    "\t\tfor k in range(0, 6):\n",
    "\t\t\tarray[k][value], array[k][i] = array[k][i], array[k][value]"
   ]
  },
  {
   "cell_type": "code",
   "execution_count": 5,
   "metadata": {
    "colab": {
     "base_uri": "https://localhost:8080/",
     "height": 0
    },
    "id": "0FjNrIjuNhhs",
    "outputId": "c300b0e1-66cb-4add-e741-ff87ec9f7b7c"
   },
   "outputs": [
    {
     "name": "stdout",
     "output_type": "stream",
     "text": [
      "Process\t      Arrival\t      Burst\t    Completion\t       Waiting\t\t    Turnaround \n",
      "2 \t\t 0 \t\t 4 \t\t 4 \t\t 0 \t\t\t 4\n",
      "3 \t\t 4 \t\t 2 \t\t 6 \t\t 0 \t\t\t 2\n",
      "1 \t\t 2 \t\t 3 \t\t 9 \t\t 4 \t\t\t 7\n",
      "4 \t\t 5 \t\t 4 \t\t 13 \t\t 4 \t\t\t 8\n",
      "Average waiting time is  2.0\n",
      "Average Turnaround Time is  5.25\n"
     ]
    }
   ],
   "source": [
    "n = 4\n",
    "arr = [[int(i) for i in range(1, n+1)], #Process ID\n",
    "       [2, 0, 4, 5], #Arrival Times\n",
    "       [3, 4, 2, 4], #Burst Times\n",
    "       [0]*n,\n",
    "       [0]*n,\n",
    "       [0]*n]\n",
    "arrangeArrival(n, arr)\n",
    "CompletionTime(n, arr)\n",
    "print(\"Process\\t      Arrival\\t      Burst\\t    Completion\\t       Waiting\\t\\t    Turnaround \")\n",
    "waitingtime = 0\n",
    "turaroundtime = 0\n",
    "for i in range(0, n):\n",
    "    print(arr[0][i], \"\\t\\t\", arr[1][i], \"\\t\\t\", arr[2][i],\n",
    "        \"\\t\\t\", arr[3][i], \"\\t\\t\", arr[4][i], \"\\t\\t\\t\", arr[5][i])\n",
    "    waitingtime += arr[4][i]\n",
    "    turaroundtime += arr[5][i]\n",
    "print(\"Average waiting time is \", (waitingtime/n))\n",
    "print(\"Average Turnaround Time is \", (turaroundtime/n))"
   ]
  },
  {
   "cell_type": "markdown",
   "metadata": {
    "id": "2Cuc-TIa1PNH"
   },
   "source": [
    "> Premptive"
   ]
  },
  {
   "cell_type": "code",
   "execution_count": 6,
   "metadata": {
    "id": "eIMz3f9oPOwj"
   },
   "outputs": [],
   "source": [
    "\n",
    "def findWaitingTime(processes, n, wt):\n",
    "\trt = [0] * n\n",
    "\n",
    "\tfor i in range(n):\n",
    "\t\trt[i] = processes[i][1]\n",
    "\tcomplete = 0\n",
    "\tt = 0\n",
    "\tminm = 999999999\n",
    "\tshort = 0\n",
    "\tcheck = False\n",
    "\n",
    "\t# Process until all processes gets completed\n",
    "\twhile (complete != n):\n",
    "\t\t\n",
    "\t\t# Find process with minimum remaining time among the processes that arrives till the current time\n",
    "\t\tfor j in range(n):\n",
    "\t\t\tif ((processes[j][2] <= t) and (rt[j] < minm) and rt[j] > 0):\n",
    "\t\t\t\tminm = rt[j]\n",
    "\t\t\t\tshort = j\n",
    "\t\t\t\tcheck = True\n",
    "        #If None satisfy\n",
    "\t\tif (check == False):\n",
    "\t\t\tt += 1\n",
    "\t\t\tcontinue\n",
    "\t\trt[short] -= 1\n",
    "\n",
    "\t\t# Update minimum\n",
    "\t\tminm = rt[short]\n",
    "\t\tif (minm == 0):\n",
    "\t\t\tminm = 999999999\n",
    "\n",
    "\t\t# one process executed\n",
    "\t\tif (rt[short] == 0):\n",
    "\t\t\tcomplete += 1\n",
    "\t\t\tcheck = False\n",
    "\t\t\t# Find finish time of current process\n",
    "\t\t\tfint = t + 1\n",
    "\n",
    "\t\t\t# Calculate waiting time\n",
    "\t\t\twt[short] = (fint - proc[short][1] - proc[short][2])\n",
    "\n",
    "\t\t\tif (wt[short] < 0):\n",
    "\t\t\t\twt[short] = 0\n",
    "\t\t\n",
    "\t\t# Increment time\n",
    "\t\tt += 1\n",
    "\n",
    "#average waiting and turn-around\n",
    "def findavgTime(processes, n):\n",
    "\twt = [0] * n\n",
    "\ttat = [0] * n\n",
    "\n",
    "\tfindWaitingTime(processes, n, wt)\n",
    " \n",
    "    # Calculating turnaround time\n",
    "\tfor i in range(n):\n",
    "\t\ttat[i] = processes[i][1] + wt[i]\n",
    "\n",
    "\t# Display processes along with all details\n",
    "\tprint(\"Processes Burst Time\t Waiting\",\n",
    "                        \"Time\t Turn-Around Time\")\n",
    "\ttotal_wt = 0\n",
    "\ttotal_tat = 0\n",
    "\tfor i in range(n):\n",
    "\n",
    "\t\ttotal_wt = total_wt + wt[i]\n",
    "\t\ttotal_tat = total_tat + tat[i]\n",
    "\t\tprint(\" \", processes[i][0], \"\\t\\t\",processes[i][1], \"\\t\\t\",wt[i], \"\\t\\t\", tat[i])\n",
    "\n",
    "\tprint(\"\\nAverage waiting time = \",(total_wt /n) )\n",
    "\tprint(\"Average turn around time = \", total_tat / n)"
   ]
  },
  {
   "cell_type": "code",
   "execution_count": 7,
   "metadata": {
    "colab": {
     "base_uri": "https://localhost:8080/",
     "height": 0
    },
    "id": "KZQ6qSGhRNzQ",
    "outputId": "b6071192-2c38-4383-ef52-b100221ba282"
   },
   "outputs": [
    {
     "name": "stdout",
     "output_type": "stream",
     "text": [
      "Processes Burst Time\t Waiting Time\t Turn-Around Time\n",
      "  1 \t\t 6 \t\t 3 \t\t 9\n",
      "  2 \t\t 8 \t\t 16 \t\t 24\n",
      "  3 \t\t 7 \t\t 8 \t\t 15\n",
      "  4 \t\t 3 \t\t 0 \t\t 3\n",
      "\n",
      "Average waiting time =  6.75\n",
      "Average turn around time =  12.75\n"
     ]
    }
   ],
   "source": [
    "#[PID, Burst Time, Arrival Time]\n",
    "proc = [[1, 6, 1], [2, 8, 1],[3, 7, 2], [4, 3, 3]]\n",
    "n = 4\n",
    "findavgTime(proc, n)"
   ]
  }
 ],
 "metadata": {
  "colab": {
   "collapsed_sections": [],
   "name": "CPU scheduling",
   "provenance": []
  },
  "kernelspec": {
   "display_name": "Python 3 (ipykernel)",
   "language": "python",
   "name": "python3"
  },
  "language_info": {
   "codemirror_mode": {
    "name": "ipython",
    "version": 3
   },
   "file_extension": ".py",
   "mimetype": "text/x-python",
   "name": "python",
   "nbconvert_exporter": "python",
   "pygments_lexer": "ipython3",
   "version": "3.9.1"
  }
 },
 "nbformat": 4,
 "nbformat_minor": 1
}
