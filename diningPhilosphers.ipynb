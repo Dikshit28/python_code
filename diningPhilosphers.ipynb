{
 "cells": [
  {
   "cell_type": "markdown",
   "metadata": {},
   "source": [
    "# Dining Philosophers using Semaphores"
   ]
  },
  {
   "cell_type": "code",
   "execution_count": 1,
   "metadata": {},
   "outputs": [],
   "source": [
    "import threading\n",
    "import time"
   ]
  },
  {
   "cell_type": "code",
   "execution_count": 2,
   "metadata": {},
   "outputs": [],
   "source": [
    "class Philosopher(threading.Thread):\n",
    "    running = True  #used to check if everyone is finished eating\n",
    "\n",
    " #Since the subclass overrides the constructor, it must make sure to invoke the base class constructor (Thread.__init__()) before doing anything else to the thread.\n",
    "    def __init__(self, index, forkOnLeft, forkOnRight):\n",
    "        threading.Thread.__init__(self)\n",
    "        self.index = index\n",
    "        self.forkOnLeft = forkOnLeft\n",
    "        self.forkOnRight = forkOnRight\n",
    "\n",
    "    def run(self):\n",
    "        while(self.running):\n",
    "            # Philosopher is thinking (but really is sleeping).\n",
    "            time.sleep(30)\n",
    "            print('Philosopher %s is hungry.' % self.index)\n",
    "            self.dine()\n",
    "\n",
    "    def dine(self):\n",
    "        # if both the semaphores(forks) are free, then philosopher will eat\n",
    "        fork1, fork2 = self.forkOnLeft, self.forkOnRight\n",
    "        while self.running:\n",
    "            fork1.acquire() # wait operation on left fork\n",
    "            locked = fork2.acquire(False) \n",
    "            if locked: break #if right fork is not available leave left fork\n",
    "            fork1.release()\n",
    "            print('Philosopher %s swaps forks.' % self.index)\n",
    "            fork1, fork2 = fork2, fork1\n",
    "        else:\n",
    "            return\n",
    "        self.dining()\n",
    "        #release both the fork after dining\n",
    "        fork2.release()\n",
    "        fork1.release()\n",
    " \n",
    "    def dining(self):\t\t\t\n",
    "        print('Philosopher %s starts eating. '% self.index)\n",
    "        time.sleep(30)\n",
    "        print('Philosopher %s finishes eating and leaves to think.' % self.index)"
   ]
  },
  {
   "cell_type": "code",
   "execution_count": 4,
   "metadata": {},
   "outputs": [
    {
     "name": "stdout",
     "output_type": "stream",
     "text": [
      "Philosopher 3 finishes eating and leaves to think.\n",
      "Philosopher 4 is hungry.\n",
      "Philosopher 4 starts eating. \n",
      "Philosopher 1 is hungry.\n",
      "Philosopher 1 starts eating. \n",
      "Philosopher 2 is hungry.Philosopher 3 is hungry.Philosopher 0 is hungry.\n",
      "\n",
      "Philosopher 3 swaps forks.\n",
      "\n",
      "Philosopher 3 is hungry.\n",
      "Philosopher 3 starts eating. \n",
      "Philosopher 4 finishes eating and leaves to think.Philosopher 1 finishes eating and leaves to think.\n",
      "Philosopher 3 starts eating. \n",
      "Philosopher 0 starts eating. Philosopher 2 swaps forks.\n",
      "\n",
      "\n",
      "Philosopher 3 finishes eating and leaves to think.\n",
      "Philosopher 1 is hungry.Philosopher 0 finishes eating and leaves to think.Philosopher 4 is hungry.Philosopher 3 finishes eating and leaves to think.\n",
      "\n",
      "\n",
      "Philosopher 4 swaps forks.\n",
      "Philosopher 2 starts eating. \n",
      "\n",
      "Philosopher 4 starts eating. \n",
      "Philosopher 1 swaps forks.\n",
      "Philosopher 3 is hungry.\n",
      "Philosopher 3 starts eating. \n",
      "Now we're finishing.\n",
      "Philosopher 2 finishes eating and leaves to think.Philosopher 0 is hungry.Philosopher 3 is hungry.Philosopher 4 finishes eating and leaves to think.\n",
      "\n",
      "Philosopher 1 starts eating. \n",
      "\n",
      "\n",
      "Philosopher 3 finishes eating and leaves to think.\n",
      "Philosopher 1 finishes eating and leaves to think.\n"
     ]
    }
   ],
   "source": [
    "def main():\n",
    "    forks = [threading.Semaphore() for n in range(5)] #initialising array of semaphore i.e forks\n",
    "\n",
    "    #here (i+1)%5 is used to get right and left forks circularly between 1-5\n",
    "    philosophers= [Philosopher(i, forks[i%5], forks[(i+1)%5])for i in range(5)]\n",
    "\n",
    "    Philosopher.running = True\n",
    "    for p in philosophers: p.start()\n",
    "    time.sleep(120)\n",
    "    Philosopher.running = False\n",
    "    \n",
    " \n",
    "if __name__ == \"__main__\":\n",
    "    main()\n",
    "    print (\"Now we're finishing.\")"
   ]
  }
 ],
 "metadata": {
  "interpreter": {
   "hash": "17d3c47e01c8d2d87d9e93381cd0429c120a0f22dbe405c98032296d31d00ceb"
  },
  "kernelspec": {
   "display_name": "Python 3.9.7 64-bit",
   "language": "python",
   "name": "python3"
  },
  "language_info": {
   "codemirror_mode": {
    "name": "ipython",
    "version": 3
   },
   "file_extension": ".py",
   "mimetype": "text/x-python",
   "name": "python",
   "nbconvert_exporter": "python",
   "pygments_lexer": "ipython3",
   "version": "3.9.7"
  },
  "orig_nbformat": 4
 },
 "nbformat": 4,
 "nbformat_minor": 2
}
