{
 "cells": [
  {
   "cell_type": "markdown",
   "id": "897e1409",
   "metadata": {},
   "source": [
    "# FCFS DISK SCHEDULING"
   ]
  },
  {
   "cell_type": "code",
   "execution_count": 15,
   "id": "3d30f88e",
   "metadata": {},
   "outputs": [],
   "source": [
    "def fcfs(arr,head):\n",
    "    seek_count = 0;\n",
    "    distance, cur_track = 0, 0;\n",
    "    calc=[]\n",
    " \n",
    "    for i in range(len(arr)):\n",
    "        cur_track = arr[i];\n",
    "        # calculate absolute distance\n",
    "        distance = abs(cur_track - head);\n",
    "        calc.append(distance)\n",
    "        # increase the total count\n",
    "        seek_count += distance;\n",
    " \n",
    "        # accessed track is now new head\n",
    "        head = cur_track;\n",
    "    print('distance array : ',calc)\n",
    "    print(\"Total distance travelled = \",sum(calc))\n",
    "    # Seek sequence would be the same as request array sequence\n",
    "    print(\"Seek Sequence is\",arr)\n"
   ]
  },
  {
   "cell_type": "code",
   "execution_count": 16,
   "id": "c372f64f",
   "metadata": {},
   "outputs": [
    {
     "name": "stdout",
     "output_type": "stream",
     "text": [
      "distance array :  [126, 97, 45, 26, 32, 81, 30, 73]\n",
      "Total distance travelled =  510\n",
      "Seek Sequence is [176, 79, 34, 60, 92, 11, 41, 114]\n"
     ]
    }
   ],
   "source": [
    "# FCFS Disk scheduling algorithm\n",
    "if __name__ == '__main__':\n",
    "    arr = list(map(int, input(\"Enter disk sequence : \").split()))\n",
    "    k=int(input('Head : '))\n",
    "    fcfs(arr,k)"
   ]
  },
  {
   "cell_type": "markdown",
   "id": "1fea4511",
   "metadata": {},
   "source": [
    "arr=176 79 34 60 92 11 41 114\n",
    "\n",
    "head=50"
   ]
  },
  {
   "cell_type": "markdown",
   "id": "169d7efe",
   "metadata": {},
   "source": [
    "# SSTF DISK SCHEDULING"
   ]
  },
  {
   "cell_type": "code",
   "execution_count": 21,
   "id": "2d8cfa38",
   "metadata": {},
   "outputs": [],
   "source": [
    "def calculateDifference(queue, head, diff):\n",
    "    for i in range(len(diff)):\n",
    "        diff[i][0] = abs(queue[i] - head)\n",
    "     \n",
    "# find unaccessed track which is at minimum distance from head\n",
    "def findMin(diff):\n",
    " \n",
    "    index = -1\n",
    "    minimum = 999999999\n",
    " \n",
    "    for i in range(len(diff)):\n",
    "        if (not diff[i][1] and minimum > diff[i][0]):\n",
    "            minimum = diff[i][0]\n",
    "            index = i\n",
    "    return index\n",
    "\n",
    "def sstf(request,head):\n",
    "    if (len(request) == 0):\n",
    "            return\n",
    "         \n",
    "    l = len(request)\n",
    "    diff = [0] * l\n",
    "        \n",
    "    # initialize array\n",
    "    for i in range(l):\n",
    "        diff[i] = [0, 0]\n",
    "        \n",
    "    # count total number of seek operation    \n",
    "    seek_count = 0\n",
    "    calc=[]\n",
    "    # stores sequence in which disk\n",
    "    # access is done\n",
    "    seek_sequence = [0] * (l + 1)\n",
    "        \n",
    "    for i in range(l):\n",
    "        seek_sequence[i] = head\n",
    "        calculateDifference(request, head, diff)\n",
    "        index = findMin(diff)\n",
    "            \n",
    "        diff[index][1] = True\n",
    "            \n",
    "        # increase the total count\n",
    "        calc.append(diff[index][0])\n",
    "        seek_count += diff[index][0]\n",
    "            \n",
    "        # accessed track is now new head\n",
    "        head = request[index]\n",
    "    \n",
    "    # for last accessed track\n",
    "    seek_sequence[len(seek_sequence) - 1] = head\n",
    "        \n",
    "    print('distance array : ',calc)\n",
    "    print(\"Total distance travelled = \",sum(calc))\n",
    "    # Seek sequence would be the same as request array sequence\n",
    "    print(\"Seek Sequence is\",seek_sequence)"
   ]
  },
  {
   "cell_type": "code",
   "execution_count": 23,
   "id": "0bc12001",
   "metadata": {},
   "outputs": [
    {
     "name": "stdout",
     "output_type": "stream",
     "text": [
      "Request array :  [176, 79, 34, 60, 92, 11, 41, 114]\n",
      "distance array :  [9, 7, 23, 49, 19, 13, 22, 62]\n",
      "Total distance travelled =  204\n",
      "Seek Sequence is [50, 41, 34, 11, 60, 79, 92, 114, 176]\n"
     ]
    }
   ],
   "source": [
    "if __name__ == '__main__':\n",
    "    arr = list(map(int, input(\"Enter disk sequence : \").split()))\n",
    "    k=int(input('Head : '))\n",
    "    print('Request array : ',arr)\n",
    "    sstf(arr,k)"
   ]
  },
  {
   "cell_type": "markdown",
   "id": "db0333f4",
   "metadata": {},
   "source": [
    "# SCAN DISK SCHEDULING"
   ]
  },
  {
   "cell_type": "code",
   "execution_count": 35,
   "id": "600101a2",
   "metadata": {},
   "outputs": [],
   "source": [
    "def scan(request,head,direction):\n",
    "    seek_count = 0\n",
    "    distance, cur_track = 0, 0\n",
    "    left = []\n",
    "    right = []\n",
    "    seek_sequence = []\n",
    "    calc=[]\n",
    "    for i in range(len(request)):\n",
    "        cur_track = request[i]\n",
    "        if(cur_track < head):\n",
    "            left.append(cur_track)\n",
    "        else:\n",
    "            right.append(cur_track)\n",
    "    left.sort(reverse=True)\n",
    "    right.sort()\n",
    "    if(direction == 'left'):\n",
    "        for i in range(len(left)):\n",
    "            distance = abs(left[i] - head)\n",
    "            calc.append(distance)\n",
    "            seek_count += distance\n",
    "            seek_sequence.append(left[i])\n",
    "            head = left[i]\n",
    "        for i in range(len(right)):\n",
    "            distance = abs(right[i] - head)\n",
    "            seek_count += distance\n",
    "            calc.append(distance)\n",
    "            seek_sequence.append(right[i])\n",
    "            head = right[i]\n",
    "    else:\n",
    "        for i in range(len(right)):\n",
    "            distance = abs(right[i] - head)\n",
    "            seek_count += distance\n",
    "            calc.append(distance)\n",
    "            seek_sequence.append(right[i])\n",
    "            head = right[i]\n",
    "        for i in range(len(left)):\n",
    "            distance = abs(left[i] - head)\n",
    "            seek_count += distance\n",
    "            calc.append(distance)\n",
    "            seek_sequence.append(left[i])\n",
    "            head = left[i]\n",
    "    print('distance array : ',calc)\n",
    "    print(\"Total distance travelled = \",seek_count)\n",
    "    # Seek sequence would be the same as request array sequence\n",
    "    print(\"Seek Sequence is\",seek_sequence)"
   ]
  },
  {
   "cell_type": "code",
   "execution_count": 37,
   "id": "d3774eee",
   "metadata": {},
   "outputs": [
    {
     "name": "stdout",
     "output_type": "stream",
     "text": [
      "distance array :  [9, 7, 23, 49, 19, 13, 22, 62]\n",
      "Total distance travelled =  204\n",
      "Seek Sequence is [41, 34, 11, 60, 79, 92, 114, 176]\n",
      "\n",
      "\n",
      "distance array :  [10, 19, 13, 22, 62, 135, 7, 23]\n",
      "Total distance travelled =  291\n",
      "Seek Sequence is [60, 79, 92, 114, 176, 41, 34, 11]\n"
     ]
    }
   ],
   "source": [
    "if __name__ == '__main__':\n",
    "    arr=[176, 79, 34, 60, 92, 11, 41, 114]\n",
    "    head=50\n",
    "    scan(arr,head,'left')\n",
    "    print('\\n')\n",
    "    scan(arr,head,'right')"
   ]
  },
  {
   "cell_type": "markdown",
   "id": "84fdd88b",
   "metadata": {},
   "source": [
    "# C-SCAN DISK SCHEDULING"
   ]
  },
  {
   "cell_type": "code",
   "execution_count": 41,
   "id": "a0ca76cb",
   "metadata": {},
   "outputs": [],
   "source": [
    "def cscan(request,head):\n",
    "    seek_count = 0\n",
    "    distance, cur_track = 0, 0\n",
    "    left = []\n",
    "    right = []\n",
    "    seek_sequence = []\n",
    "    calc=[]\n",
    "    for i in range(len(request)):\n",
    "        cur_track = request[i]\n",
    "        if(cur_track < head):\n",
    "            left.append(cur_track)\n",
    "        else:\n",
    "            right.append(cur_track)\n",
    "    left.sort()\n",
    "    right.sort()\n",
    "    for i in range(len(right)):\n",
    "        distance = abs(right[i] - head)\n",
    "        seek_count += distance\n",
    "        calc.append(distance)\n",
    "        seek_sequence.append(right[i])\n",
    "        head = right[i]\n",
    "    for i in range(len(left)):\n",
    "        distance = abs(left[i] - head)\n",
    "        seek_count += distance\n",
    "        calc.append(distance)\n",
    "        seek_sequence.append(left[i])\n",
    "        head = left[i]\n",
    "    print('distance array : ',calc)\n",
    "    print(\"Total distance travelled = \",seek_count)\n",
    "    # Seek sequence would be the same as request array sequence\n",
    "    print(\"Seek Sequence is\",seek_sequence)"
   ]
  },
  {
   "cell_type": "code",
   "execution_count": 42,
   "id": "1b2613a2",
   "metadata": {},
   "outputs": [
    {
     "name": "stdout",
     "output_type": "stream",
     "text": [
      "distance array :  [10, 19, 13, 22, 62, 165, 23, 7]\n",
      "Total distance travelled =  321\n",
      "Seek Sequence is [60, 79, 92, 114, 176, 11, 34, 41]\n"
     ]
    }
   ],
   "source": [
    "if __name__ == '__main__':\n",
    "    arr=[176, 79, 34, 60, 92, 11, 41, 114]\n",
    "    head=50\n",
    "    cscan(arr,head)"
   ]
  },
  {
   "cell_type": "code",
   "execution_count": 1,
   "id": "9bb1eeac",
   "metadata": {},
   "outputs": [],
   "source": [
    "# LOOK disk scheduling algorithm\n",
    "def look(arr, head, direction):\n",
    "     \n",
    "    seek_count = 0\n",
    "    distance = 0\n",
    "    cur_track = 0\n",
    " \n",
    "    left = []\n",
    "    right = []\n",
    "  \n",
    "    seek_sequence = []\n",
    " \n",
    "    # Appending values which are\n",
    "    # currently at left and right\n",
    "    # direction from the head.\n",
    "    for i in range(len(arr)):\n",
    "        if (arr[i] < head):\n",
    "            left.append(arr[i])\n",
    "        if (arr[i] > head):\n",
    "            right.append(arr[i])\n",
    " \n",
    "    # Sorting left and right vectors\n",
    "    # for servicing tracks in the\n",
    "    # correct sequence.\n",
    "    left.sort()\n",
    "    right.sort()\n",
    " \n",
    "    # Run the while loop two times.\n",
    "    # one by one scanning right\n",
    "    # and left side of the head\n",
    "    run = 2\n",
    "    while (run):\n",
    "        if (direction == \"left\"):\n",
    "            for i in range(len(left) - 1, -1, -1):\n",
    "                cur_track = left[i]\n",
    " \n",
    "                # Appending current track to\n",
    "                # seek sequence\n",
    "                seek_sequence.append(cur_track)\n",
    " \n",
    "                # Calculate absolute distance\n",
    "                distance = abs(cur_track - head)\n",
    " \n",
    "                # Increase the total count\n",
    "                seek_count += distance\n",
    " \n",
    "                # Accessed track is now the new head\n",
    "                head = cur_track\n",
    " \n",
    "            # Reversing the direction\n",
    "            direction = \"right\"\n",
    "             \n",
    "        elif (direction == \"right\"):\n",
    "            for i in range(len(right)):\n",
    "                cur_track = right[i]\n",
    " \n",
    "                # Appending current track to\n",
    "                # seek sequence\n",
    "                seek_sequence.append(cur_track)\n",
    " \n",
    "                # Calculate absolute distance\n",
    "                distance = abs(cur_track - head)\n",
    "                 \n",
    "                # Increase the total count\n",
    "                seek_count += distance\n",
    " \n",
    "                # Accessed track is now new head\n",
    "                head = cur_track\n",
    " \n",
    "            # Reversing the direction\n",
    "            direction = \"left\"\n",
    "             \n",
    "        run -= 1\n",
    " \n",
    "    print(\"Total number of seek operations =\",\n",
    "          seek_count)\n",
    "    print(\"Seek Sequence is\")\n",
    " \n",
    "    for i in range(len(seek_sequence)):\n",
    "        print(seek_sequence[i])\n"
   ]
  },
  {
   "cell_type": "code",
   "execution_count": 2,
   "id": "cb6010ce",
   "metadata": {},
   "outputs": [
    {
     "name": "stdout",
     "output_type": "stream",
     "text": [
      "distance array :  [126, 97, 45, 26, 32, 81, 30, 73]\n",
      "Total distance travelled =  510\n",
      "Seek Sequence is [176, 79, 34, 60, 92, 11, 41, 114]\n"
     ]
    }
   ],
   "source": [
    "if __name__ == '__main__':\n",
    "    arr=[176, 79, 34, 60, 92, 11, 41, 114]\n",
    "    head=50\n",
    "    direction='right'\n",
    "    look(arr,head,direction)"
   ]
  }
 ],
 "metadata": {
  "interpreter": {
   "hash": "17d3c47e01c8d2d87d9e93381cd0429c120a0f22dbe405c98032296d31d00ceb"
  },
  "kernelspec": {
   "display_name": "Python 3.9.7 64-bit",
   "language": "python",
   "name": "python3"
  },
  "language_info": {
   "codemirror_mode": {
    "name": "ipython",
    "version": 3
   },
   "file_extension": ".py",
   "mimetype": "text/x-python",
   "name": "python",
   "nbconvert_exporter": "python",
   "pygments_lexer": "ipython3",
   "version": "3.9.7"
  }
 },
 "nbformat": 4,
 "nbformat_minor": 5
}
