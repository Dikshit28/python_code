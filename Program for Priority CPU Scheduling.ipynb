{
 "cells": [
  {
   "cell_type": "markdown",
   "id": "707b1167",
   "metadata": {},
   "source": [
    "## Program for Priority CPU Scheduling"
   ]
  },
  {
   "cell_type": "markdown",
   "id": "92c74a41",
   "metadata": {},
   "source": [
    "### Arrival time - 0"
   ]
  },
  {
   "cell_type": "code",
   "execution_count": 13,
   "id": "fd53088e",
   "metadata": {},
   "outputs": [],
   "source": [
    "def fcfs(n,pr):\n",
    "    #waiting\n",
    "    wt=[0]\n",
    "    for i in range(1,n):\n",
    "        sums=0\n",
    "        for j in range(0,i):\n",
    "            sums+=pr[j][1]\n",
    "        wt.append(sums)\n",
    "    #Turnaround\n",
    "    tat=[]\n",
    "    for i in range(0,n):\n",
    "        tat.append(pr[i][1]+wt[i])\n",
    "\n",
    "    print( \"Processes    bt time \" +\" Waiting time \" +\" Turn around time\")\n",
    "    for i in range(n):\n",
    "        print(\" \" + str(p[i][0]) + \"\\t\\t\" +str(pr[i][1]) + \"\\t \" +str(wt[i]) + \"\\t\\t \" +str(tat[i]))\n",
    "    avg_wt=sum(wt)//len(wt)\n",
    "    avg_tat=sum(tat)//len(tat)\n",
    "    print(\"Average waiting time = \",avg_wt)\n",
    "    print(\"Average turn around time = \",avg_tat)"
   ]
  },
  {
   "cell_type": "code",
   "execution_count": 14,
   "id": "575824ce",
   "metadata": {},
   "outputs": [],
   "source": [
    "def pri(n,pl):\n",
    "    pl = sorted(pl, key = lambda pl:pl[2],reverse = True);\n",
    "    fcfs(n,pl)"
   ]
  },
  {
   "cell_type": "code",
   "execution_count": 15,
   "id": "bf8b5129",
   "metadata": {},
   "outputs": [
    {
     "name": "stdout",
     "output_type": "stream",
     "text": [
      "Processes    bt time  Waiting time  Turn around time\n",
      " 1\t\t10\t 0\t\t 10\n",
      " 3\t\t8\t 10\t\t 18\n",
      " 2\t\t5\t 18\t\t 23\n",
      "Average waiting time =  9\n",
      "Average turn around time =  17\n"
     ]
    }
   ],
   "source": [
    "n=3\n",
    "proc = [[1, 10, 1],\n",
    "        [2, 5, 0],\n",
    "        [3, 8, 1]]\n",
    "pri(n,proc)"
   ]
  },
  {
   "cell_type": "code",
   "execution_count": null,
   "id": "ec29d47b",
   "metadata": {},
   "outputs": [],
   "source": []
  }
 ],
 "metadata": {
  "kernelspec": {
   "display_name": "Python 3 (ipykernel)",
   "language": "python",
   "name": "python3"
  },
  "language_info": {
   "codemirror_mode": {
    "name": "ipython",
    "version": 3
   },
   "file_extension": ".py",
   "mimetype": "text/x-python",
   "name": "python",
   "nbconvert_exporter": "python",
   "pygments_lexer": "ipython3",
   "version": "3.9.1"
  }
 },
 "nbformat": 4,
 "nbformat_minor": 5
}
