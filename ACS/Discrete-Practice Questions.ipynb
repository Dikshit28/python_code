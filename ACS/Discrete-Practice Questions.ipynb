{
 "cells": [
  {
   "cell_type": "markdown",
   "metadata": {},
   "source": [
    "# Discrete Probability Distributions: Practice Questions"
   ]
  },
  {
   "cell_type": "markdown",
   "metadata": {},
   "source": [
    "## Q1. College Graduates in a Random Sample \n",
    "Suppose you take a sample of 100 people at random with replacement from a population in which 20% of the people are college graduates. What is the chance that you get more than 10 college graduates in your sample?\n",
    "\n",
    "Hint: The sample is being drawn with replacement. So the draws are  n=100  independent trials, each of which results in a success (college graduate) with chance  p=0.2 .\n",
    "\n",
    "Let  X  be the number of college graduates in the sample. Then  X  has the binomial  (100,0.2)  distribution.\n",
    "\n",
    "We want  P(X>10) "
   ]
  },
  {
   "cell_type": "code",
   "execution_count": 1,
   "metadata": {},
   "outputs": [],
   "source": [
    "import numpy as np\n",
    "from math import comb\n",
    "import scipy.stats as stat\n",
    "import matplotlib.pyplot as plt\n",
    "%matplotlib inline\n",
    "\n",
    "def factorial(n):\n",
    "    if n<=1:\n",
    "        return 1\n",
    "    else:\n",
    "        return n*factorial(n-1)"
   ]
  },
  {
   "cell_type": "code",
   "execution_count": 2,
   "metadata": {},
   "outputs": [
    {
     "name": "stdout",
     "output_type": "stream",
     "text": [
      "2.0370359763344975e-10\n",
      "5.092589940836244e-09\n",
      "6.302080051784852e-08\n",
      "5.146698708957629e-07\n",
      "3.120186092305562e-06\n",
      "1.49768932430667e-05\n",
      "5.928353575380569e-05\n",
      "0.00019902329860206196\n",
      "0.0005784114615622424\n",
      "0.0014781626239923973\n",
      "ans= 0.9976664390137892\n"
     ]
    }
   ],
   "source": [
    "sample=100\n",
    "prob_grad=0.2\n",
    "numSuccess=10\n",
    "grad_sample=20\n",
    "ans=0\n",
    "for i in range(numSuccess):\n",
    "    theoretical_Prob = (prob_grad**i)*((1-prob_grad)**(sample-i))*factorial(sample)/(factorial(i)*factorial(sample-i))\n",
    "    print(theoretical_Prob)\n",
    "    ans+=theoretical_Prob\n",
    "print(\"ans=\",1-ans)"
   ]
  },
  {
   "cell_type": "code",
   "execution_count": 3,
   "metadata": {},
   "outputs": [
    {
     "data": {
      "text/plain": [
       "<StemContainer object of 3 artists>"
      ]
     },
     "execution_count": 3,
     "metadata": {},
     "output_type": "execute_result"
    },
    {
     "data": {
      "image/png": "[encoded data removed]",
      "text/plain": [
       "<Figure size 1440x720 with 1 Axes>"
      ]
     },
     "metadata": {
      "needs_background": "light"
     },
     "output_type": "display_data"
    }
   ],
   "source": [
    "values=np.arange(10,sample+1)\n",
    "binomial=stat.binom.pmf(values,sample,prob_grad)\n",
    "plt.figure(figsize=(20,10))\n",
    "plt.stem(values,binomial)"
   ]
  },
  {
   "cell_type": "markdown",
   "metadata": {},
   "source": [
    "## Q2. Two Sixes in Five Rolls \n",
    "Suppose a die is rolled five times. What is the chance of getting two sixes?\n",
    "\n",
    "Hint: A natural way to approach the question is to say that we have five independent trials, each of which can be a success (six) or failure (not a six). We want the chance of two successes. As always, it is good to start by listing some of the ways the event can happen."
   ]
  },
  {
   "cell_type": "code",
   "execution_count": 4,
   "metadata": {},
   "outputs": [
    {
     "name": "stdout",
     "output_type": "stream",
     "text": [
      "0.16666666666666666\n"
     ]
    }
   ],
   "source": [
    "trials=5\n",
    "success=1\n",
    "total=6\n",
    "no_of_successes=2\n",
    "p=success/total\n",
    "print(p)"
   ]
  },
  {
   "cell_type": "code",
   "execution_count": 5,
   "metadata": {},
   "outputs": [
    {
     "name": "stdout",
     "output_type": "stream",
     "text": [
      "0.1607510288065844\n",
      "Theoretical Probability: 0.1607510288065844\n"
     ]
    }
   ],
   "source": [
    "# probability obtained from the sampling\n",
    "n = trials\n",
    "k = no_of_successes\n",
    "theoretical_Prob = (p**k)*((1-p)**(n-k))*factorial(n)/(factorial(k)*factorial(n-k))\n",
    "sol=((factorial(5))/(factorial(2)*factorial(3)))*(((1/6)**2)*((5/6)**3))\n",
    "print(sol)\n",
    "print('Theoretical Probability:',theoretical_Prob)"
   ]
  },
  {
   "cell_type": "markdown",
   "metadata": {},
   "source": [
    "## Q3. The chance of getting two sixes in a 5 card poker hand\n",
    "\n",
    "Hint: If you are interested in the number of aces in a 5-card poker hand, then the population is the deck consisting of  N=52  cards of which  G=4  are good (aces) and the remaining  N−G=48  are bad. The hand is the simple random sample of size  n=5 , and  X  is the number of good elements in the sample."
   ]
  },
  {
   "cell_type": "code",
   "execution_count": 6,
   "metadata": {},
   "outputs": [
    {
     "name": "stdout",
     "output_type": "stream",
     "text": [
      "0.03992981808107859\n"
     ]
    }
   ],
   "source": [
    "population=52\n",
    "no_of_success_in_pop=4\n",
    "sample=5\n",
    "no_of_success_in_sample=2\n",
    "\n",
    "N = population\n",
    "n = sample\n",
    "A = no_of_success_in_pop\n",
    "x = no_of_success_in_sample\n",
    "def combi(n,r):\n",
    "    comb=factorial(n)/(factorial(r)*factorial(n-r))\n",
    "    return comb\n",
    "    \n",
    "prob=(comb(A,x)*comb(N-A,n-x))/comb(N,n)\n",
    "print(prob)\n",
    "#4C2*48C3/52C5"
   ]
  },
  {
   "cell_type": "markdown",
   "metadata": {},
   "source": [
    "## Q4. Sampling from a State \n",
    "A state has several million households, half of which have annual incomes over 50,000 dollars. In a simple random sample of 400 households taken from the state, what is the chance that more than 215 have incomes over 50,000 dollars?"
   ]
  },
  {
   "cell_type": "code",
   "execution_count": 7,
   "metadata": {},
   "outputs": [
    {
     "name": "stdout",
     "output_type": "stream",
     "text": [
      "8.370653979802688e+117\t8.370653979802688e+117\t8.370653979802688e+117\t8.370653979802688e+117\t8.370653979802688e+117\t8.370653979802688e+117\t8.370653979802688e+117\t8.370653979802688e+117\t8.370653979802688e+117\t8.370653979802688e+117\t8.370653979802688e+117\t8.370653979802688e+117\t8.370653979802688e+117\t8.370653979802688e+117\t8.370653979802688e+117\t8.370653979802688e+117\t8.370653979802688e+117\t8.370653979802688e+117\t8.370653979802688e+117\t8.370653979802688e+117\t8.370653979802688e+117\t8.370653979802688e+117\t8.370653979802688e+117\t8.370653979802688e+117\t8.370653979802688e+117\t8.370653979802688e+117\t8.370653979802688e+117\t8.370653979802688e+117\t8.370653979802688e+117\t8.370653979802688e+117\t8.370653979802688e+117\t8.370653979802688e+117\t8.370653979802688e+117\t8.370653979802688e+117\t8.370653979802688e+117\t8.370653979802688e+117\t8.370653979802688e+117\t8.370653979802688e+117\t8.370653979802688e+117\t8.370653979802688e+117\t8.370653979802688e+117\t8.370653979802688e+117\t8.370653979802688e+117\t8.370653979802688e+117\t8.370653979802688e+117\t8.370653979802688e+117\t8.370653979802688e+117\t8.370653979802688e+117\t8.370653979802688e+117\t8.370653979802688e+117\t8.370653979802688e+117\t8.370653979802688e+117\t8.370653979802688e+117\t8.370653979802688e+117\t8.370653979802688e+117\t8.370653979802688e+117\t8.370653979802688e+117\t8.370653979802688e+117\t8.370653979802688e+117\t8.370653979802688e+117\t8.370653979802688e+117\t8.370653979802688e+117\t8.370653979802688e+117\t8.370653979802688e+117\t8.370653979802688e+117\t8.370653979802688e+117\t8.370653979802688e+117\t8.370653979802688e+117\t8.370653979802688e+117\t8.370653979802688e+117\t8.370653979802688e+117\t8.370653979802688e+117\t8.370653979802688e+117\t8.370653979802688e+117\t8.370653979802688e+117\t8.370653979802688e+117\t8.370653979802688e+117\t8.370653979802688e+117\t8.370653979802688e+117\t8.370653979802688e+117\t8.370653979802688e+117\t8.370653979802688e+117\t8.370653979802688e+117\t8.370653979802688e+117\t8.370653979802688e+117\t8.370653979802688e+117\t8.370653979802688e+117\t8.370653979802688e+117\t8.370653979802688e+117\t8.370653979802688e+117\t8.370653979802688e+117\t8.370653979802688e+117\t8.370653979802688e+117\t8.370653979802688e+117\t8.370653979802688e+117\t8.370653979802688e+117\t8.370653979802688e+117\t8.370653979802688e+117\t8.370653979802688e+117\t8.370653979802688e+117\t8.370653979802688e+117\t8.370653979802688e+117\t8.370653979802688e+117\t8.370653979802688e+117\t8.370653979802688e+117\t8.370653979802688e+117\t8.370653979802688e+117\t8.370653979802688e+117\t8.370653979802688e+117\t8.370653979802688e+117\t8.370653979802688e+117\t8.370653979802688e+117\t8.370653979802688e+117\t8.370653979802688e+117\t8.370653979802688e+117\t8.370653979802688e+117\t8.370653979802688e+117\t8.370653979802688e+117\t8.370653979802688e+117\t8.370653979802688e+117\t8.370653979802688e+117\t8.370653979802688e+117\t8.370653979802688e+117\t8.370653979802688e+117\t8.370653979802688e+117\t8.370653979802688e+117\t8.370653979802688e+117\t8.370653979802688e+117\t8.370653979802688e+117\t8.370653979802688e+117\t8.370653979802688e+117\t8.370653979802688e+117\t8.370653979802688e+117\t8.370653979802688e+117\t8.370653979802688e+117\t8.370653979802688e+117\t8.370653979802688e+117\t8.370653979802688e+117\t8.370653979802688e+117\t8.370653979802688e+117\t8.370653979802688e+117\t8.370653979802688e+117\t8.370653979802688e+117\t8.370653979802688e+117\t8.370653979802688e+117\t8.370653979802688e+117\t8.370653979802688e+117\t8.370653979802688e+117\t8.370653979802688e+117\t8.370653979802688e+117\t8.370653979802688e+117\t8.370653979802688e+117\t8.370653979802688e+117\t8.370653979802688e+117\t8.370653979802688e+117\t8.370653979802688e+117\t8.370653979802688e+117\t8.370653979802688e+117\t8.370653979802688e+117\t8.370653979802688e+117\t8.370653979802688e+117\t8.370653979802688e+117\t8.370653979802688e+117\t8.370653979802688e+117\t8.370653979802688e+117\t8.370653979802688e+117\t8.370653979802688e+117\t8.370653979802688e+117\t8.370653979802688e+117\t8.370653979802688e+117\t8.370653979802688e+117\t8.370653979802688e+117\t8.370653979802688e+117\t8.370653979802688e+117\t8.370653979802688e+117\t8.370653979802688e+117\t8.370653979802688e+117\t8.370653979802688e+117\t8.370653979802688e+117\t8.370653979802688e+117\t8.370653979802688e+117\t8.370653979802688e+117\t8.370653979802688e+117\t8.370653979802688e+117\t8.370653979802688e+117\t8.370653979802688e+117\t\n",
      "\n",
      "\n",
      "ANS = 1.5569416402433e+120\n"
     ]
    }
   ],
   "source": [
    "p=0.5\n",
    "sample=400\n",
    "success=215#greater than 215\n",
    "n=sample\n",
    "x=215\n",
    "q=1-p\n",
    "ans=0\n",
    "for i in range(success,sample+1):\n",
    "    prob=comb(n,x)*p*q\n",
    "    print(round(prob,4),end=\"\\t\")\n",
    "    ans+=round(prob,4)\n",
    "print(\"\\n\\n\")\n",
    "print(\"ANS =\",round(ans,4))"
   ]
  },
  {
   "cell_type": "code",
   "execution_count": 8,
   "metadata": {},
   "outputs": [
    {
     "name": "stdout",
     "output_type": "stream",
     "text": [
      "[]\n",
      "0.0\n"
     ]
    }
   ],
   "source": [
    "k_val=np.arange(x,N+1)\n",
    "print(k_val)\n",
    "binom=stat.binom.pmf(k_val,N,p)\n",
    "print(np.sum(binom))"
   ]
  },
  {
   "cell_type": "markdown",
   "metadata": {},
   "source": [
    "## Q5. Defective Drives\n",
    "\n",
    "A manufacturing process produces large cases of USB flash drives. In each case, the number of defective drives has the Poisson (2.5) distribution, independent of all other cases.\n",
    "\n",
    "What is the chance that all of the next five cases contain more than one defective drive?"
   ]
  },
  {
   "cell_type": "code",
   "execution_count": 9,
   "metadata": {},
   "outputs": [
    {
     "name": "stdout",
     "output_type": "stream",
     "text": [
      "0\n",
      "0.0821\n",
      "1\n",
      "0.2052\n",
      "\n",
      "ANS = 0.7127\n",
      "ANS FOR 5 is = 0.18387970315770805\n"
     ]
    }
   ],
   "source": [
    "\n",
    "rate_lambda=2.5\n",
    "target_success=1\n",
    "ans = 0\n",
    "for i in range(target_success+1):\n",
    "    print(i)\n",
    "    calcProb = ((rate_lambda**i)*np.exp(-rate_lambda))/(factorial(i))\n",
    "    print(round(calcProb,4))\n",
    "    ans+=round(calcProb,4)\n",
    "\n",
    "print(\"\\nANS =\",1-ans)\n",
    "#Experiment is done 5 times \n",
    "print(\"ANS FOR 5 is =\",((1-ans)**5))"
   ]
  },
  {
   "cell_type": "markdown",
   "metadata": {},
   "source": [
    "## Sums of Independent Poisson Random Variables \n",
    "A useful property of the Poisson distribution is that if  X  and  Y  are random variables such that\n",
    "\n",
    "X  and  Y  are independent,\n",
    "X  has the Poisson  (μ)  distribution, and\n",
    "Y  has the Poisson  (λ)  distribution,\n",
    "then the sum  S=X+Y  has the Poisson  (μ+λ)  distribution."
   ]
  },
  {
   "cell_type": "markdown",
   "metadata": {},
   "source": [
    "## Q6. Ilegally parked cars\n",
    "An office building has three parking lots. For  i=1,2,3  let  Xi  be the number of illegaly parked cars in Lot  i , and let  Xi  have the Poisson distribution with parameter  i . Assume that  X1,X2,X3  are independent of each other.\n",
    "\n",
    "What is the chance that there are no more than 10 illegally parked cars in all three lots combined?"
   ]
  },
  {
   "cell_type": "code",
   "execution_count": 10,
   "metadata": {},
   "outputs": [
    {
     "name": "stdout",
     "output_type": "stream",
     "text": [
      "0\n",
      "0.0820849986238988\n",
      "1\n",
      "0.205212496559747\n",
      "2\n",
      "0.25651562069968376\n",
      "3\n",
      "0.21376301724973645\n",
      "4\n",
      "0.13360188578108528\n",
      "5\n",
      "0.06680094289054264\n",
      "6\n",
      "0.02783372620439277\n",
      "7\n",
      "0.009940616501568847\n",
      "8\n",
      "0.0031064426567402642\n",
      "9\n",
      "0.0008629007379834068\n",
      "\n",
      "ANS = 0.9997226479053791\n"
     ]
    }
   ],
   "source": [
    "X1=1\n",
    "X2=2\n",
    "X3=3\n",
    "rate_lamda=X1+X2+X3\n",
    "target=10\n",
    "ans=0\n",
    "for i in range(target):\n",
    "    print(i)\n",
    "    calcProb = ((rate_lambda**i)*np.exp(-rate_lambda))/(factorial(i))\n",
    "    print(calcProb)\n",
    "    ans+=calcProb\n",
    "\n",
    "print(\"\\nANS =\",ans)"
   ]
  },
  {
   "cell_type": "code",
   "execution_count": 11,
   "metadata": {},
   "outputs": [
    {
     "name": "stdout",
     "output_type": "stream",
     "text": [
      "0.957379076417462\n"
     ]
    }
   ],
   "source": [
    "print(stat.poisson.cdf(target,rate_lamda))"
   ]
  },
  {
   "cell_type": "code",
   "execution_count": null,
   "metadata": {},
   "outputs": [],
   "source": []
  }
 ],
 "metadata": {
  "kernelspec": {
   "display_name": "Python 3",
   "language": "python",
   "name": "python3"
  },
  "language_info": {
   "codemirror_mode": {
    "name": "ipython",
    "version": 3
   },
   "file_extension": ".py",
   "mimetype": "text/x-python",
   "name": "python",
   "nbconvert_exporter": "python",
   "pygments_lexer": "ipython3",
   "version": "3.9.1"
  }
 },
 "nbformat": 4,
 "nbformat_minor": 4
}
