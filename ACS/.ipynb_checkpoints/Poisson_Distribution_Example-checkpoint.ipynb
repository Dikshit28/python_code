{
 "cells": [
  {
   "cell_type": "code",
   "execution_count": 1,
   "metadata": {},
   "outputs": [],
   "source": [
    "%reset -f"
   ]
  },
  {
   "cell_type": "code",
   "execution_count": 2,
   "metadata": {},
   "outputs": [],
   "source": [
    "import matplotlib.pyplot as plt\n",
    "plt.style.use('seaborn')\n",
    "\n",
    "import numpy as np\n",
    "\n",
    "from collections import Counter\n",
    "\n",
    "from time import time"
   ]
  },
  {
   "cell_type": "code",
   "execution_count": 3,
   "metadata": {},
   "outputs": [],
   "source": [
    "# this function returns the factorial of an integer passed to it\n",
    "def factorial(n):\n",
    "    if n<=1:\n",
    "        return 1\n",
    "    else:\n",
    "        return n*factorial(n-1)"
   ]
  },
  {
   "cell_type": "markdown",
   "metadata": {},
   "source": [
    "<br><br>\n",
    "<font size=4>\n",
    "<b>Poisson Distribution:</b>\n",
    "<br>\n",
    "Probability distribution that describes the outcome of an independent event that occurs at a known rate ($\\lambda$ times over a specified time interval)\n",
    "<br><br>\n",
    "<i>\n",
    "<b>Example:</b>\n",
    "<br>\n",
    "Suppose a car-wash has an average of 2 cars come by every 3 minutes, what is the probability that no more than 4 cars will come by in the next 9 minutes ?\n",
    "</i>\n",
    "</font>"
   ]
  },
  {
   "cell_type": "markdown",
   "metadata": {},
   "source": [
    "## Poisson Distribution:\n",
    "#### Probability distribution that describes the outcome of an independent event that occurs at a known rate ( 𝜆  times over a specified time interval)\n",
    "####  \n",
    "## *Example:*\n",
    "#### *Suppose a car-wash has an average of 2 cars come by every 3 minutes, what is the probability that no more than 4 cars will come by in the next 9 minutes ?*"
   ]
  },
  {
   "cell_type": "code",
   "execution_count": 4,
   "metadata": {},
   "outputs": [
    {
     "name": "stdout",
     "output_type": "stream",
     "text": [
      "Duration: 0.01 seconds\n",
      "[9, 2, 9, 1, 10, 4, 3, 7, 5, 8]\n"
     ]
    }
   ],
   "source": [
    "# 2 cars every 3 minutes is the same rate as 6 cars every 9 minutes (540 seconds)\n",
    "# Think of each trial as equivalent to 540 distinct and independent events of which, on the average, 6 are successful\n",
    "\n",
    "startTime = time()\n",
    "\n",
    "# number of trials\n",
    "numSamp = 10\n",
    "\n",
    "# holds the result of each trial\n",
    "thisList = []\n",
    "\n",
    "sampSize = 540 # sample size for each trial (540 seconds)\n",
    "rate_lambda = 6 # succesful event occurence rate (6 cars every 540 seconds)\n",
    "sampRange = sampSize+1 # range of randints to sample from (i.e. [1,sampRange])\n",
    "\n",
    "target_success = 4 # number of successful events we're trying to estimate a probability for (<=4 cars in 9 minutes)\n",
    "\n",
    "# sample 540 random integers from 1 to 540\n",
    "# the probability of finding a value less_than_or_equal_to 6 is = \"6/540\"\n",
    "for i in range(numSamp):\n",
    "    aa = np.random.randint(1,sampRange,[sampSize,])\n",
    "    aa[aa>rate_lambda]=0 # disqualify all randints greater than 6...\n",
    "    aa[aa!=0] = 1 # and keep only those <= 6...\n",
    "    thisList.append(sum(aa)) # then append the number of successful outcomes for each trial to the list\n",
    "\n",
    "endTime = time()\n",
    "\n",
    "print('Duration:', round(endTime-startTime, 2), 'seconds')\n",
    "print(thisList)"
   ]
  },
  {
   "cell_type": "code",
   "execution_count": 5,
   "metadata": {},
   "outputs": [
    {
     "name": "stdout",
     "output_type": "stream",
     "text": [
      "Probability of having no more than 4 cars pass thru in 9 minutes...\n",
      "\n",
      "Sampled (10 samples): 0.4\n",
      "Theoretical: 0.2851\n"
     ]
    }
   ],
   "source": [
    "print('Probability of having no more than 4 cars pass thru in 9 minutes...\\n')\n",
    "\n",
    "bb = np.array(thisList) # convert the list to an array for easy manipulation by Numpy\n",
    "theProbability = 1.0*sum(bb<=4)/len(bb) # how many of those samples had an outcome <= 4 cars\n",
    "print('Sampled (' + str(numSamp) + ' samples):', round(theProbability,4))\n",
    "\n",
    "calcProb = 0\n",
    "for i in range(target_success+1):\n",
    "    calcProb += (rate_lambda**i)*np.exp(-rate_lambda)/(factorial(i))\n",
    "    \n",
    "print('Theoretical:', round(calcProb,4))"
   ]
  },
  {
   "cell_type": "code",
   "execution_count": 6,
   "metadata": {},
   "outputs": [
    {
     "data": {
      "image/png": "[encoded data removed]",
      "text/plain": [
       "<Figure size 1008x576 with 1 Axes>"
      ]
     },
     "metadata": {},
     "output_type": "display_data"
    }
   ],
   "source": [
    "xx = Counter(thisList)\n",
    "\n",
    "rangeLow = min(xx.keys())\n",
    "rangeHigh = max(xx.keys())\n",
    "\n",
    "qx = list(range(rangeLow, rangeHigh+1))\n",
    "qy = [xx[i]/numSamp if (i in xx.keys()) else 0 for i in qx]\n",
    "\n",
    "plt.figure(figsize=[14,8])\n",
    "plt.bar(qx,qy)\n",
    "plt.xticks(qx, fontsize=15)\n",
    "plt.yticks(fontsize=15)\n",
    "plt.xlabel('# Cars in 9 Minutes', fontsize=20)\n",
    "plt.ylabel('Probability', fontsize=20)\n",
    "plt.show()"
   ]
  },
  {
   "cell_type": "code",
   "execution_count": 7,
   "metadata": {},
   "outputs": [
    {
     "name": "stdout",
     "output_type": "stream",
     "text": [
      "Probability of 1 Cars in 9 minutes: 0.1\n",
      "Probability of 2 Cars in 9 minutes: 0.1\n",
      "Probability of 3 Cars in 9 minutes: 0.1\n",
      "Probability of 4 Cars in 9 minutes: 0.1\n",
      "Probability of 5 Cars in 9 minutes: 0.1\n",
      "Probability of 6 Cars in 9 minutes: 0\n",
      "Probability of 7 Cars in 9 minutes: 0.1\n",
      "Probability of 8 Cars in 9 minutes: 0.1\n",
      "Probability of 9 Cars in 9 minutes: 0.2\n",
      "Probability of 10 Cars in 9 minutes: 0.1\n"
     ]
    }
   ],
   "source": [
    "for i,j in zip(qx,qy):\n",
    "    print('Probability of ' + str(i) + ' Cars in 9 minutes:', round(j,6))"
   ]
  },
  {
   "cell_type": "code",
   "execution_count": null,
   "metadata": {},
   "outputs": [],
   "source": []
  }
 ],
 "metadata": {
  "kernelspec": {
   "display_name": "Python 3",
   "language": "python",
   "name": "python3"
  },
  "language_info": {
   "codemirror_mode": {
    "name": "ipython",
    "version": 3
   },
   "file_extension": ".py",
   "mimetype": "text/x-python",
   "name": "python",
   "nbconvert_exporter": "python",
   "pygments_lexer": "ipython3",
   "version": "3.9.1"
  }
 },
 "nbformat": 4,
 "nbformat_minor": 2
}
