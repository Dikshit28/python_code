{
 "cells": [
  {
   "cell_type": "code",
   "execution_count": 1,
   "metadata": {},
   "outputs": [],
   "source": [
    "import numpy as np\n",
    "from scipy import stats\n",
    "import scipy\n",
    "import warnings\n",
    "warnings.simplefilter('ignore', DeprecationWarning)"
   ]
  },
  {
   "cell_type": "markdown",
   "metadata": {},
   "source": [
    "# Practice Questions- Continuous Distributions"
   ]
  },
  {
   "cell_type": "markdown",
   "metadata": {},
   "source": [
    "## Q1. Measuring Current \n",
    "\n",
    "The current (in mA) measured in a piece of copper wire is known to follow a uniform distribution over the interval [0,25]. Write the formula for the probability density f(x) of the proabability density function of the random variable X representing the current. Calculate the mean and variance of the distribution. "
   ]
  },
  {
   "cell_type": "code",
   "execution_count": 2,
   "metadata": {},
   "outputs": [
    {
     "name": "stdout",
     "output_type": "stream",
     "text": [
      "Mean:  12.5\n",
      "Variance:  52.08333333333333\n",
      "PDF:  0.04\n",
      "CDF:  0.24\n"
     ]
    }
   ],
   "source": [
    "from scipy.stats import uniform\n",
    "\n",
    "a = 0\n",
    "b = 25\n",
    "\n",
    "print(\"Mean: \", uniform.mean(loc = a, scale = b))\n",
    "print(\"Variance: \", uniform.var(loc = a, scale = b))\n",
    "print(\"PDF: \", uniform.pdf(x=1, loc = a, scale = b))\n",
    "print(\"CDF: \", uniform.cdf(x=6, loc = a, scale = b))"
   ]
  },
  {
   "cell_type": "markdown",
   "metadata": {},
   "source": [
    "## Q2. Thickness of protective coating\n",
    "The thickness of a protective coating applied to a conductor designed to work in corrosive conditions follows a uniform distribution over the interval [20,40] microns. Find the mean, standard deviation and cumulative distribution function for the thickness of the protective coating. Also, find the probability that the coating is less than 35 microns thick.  "
   ]
  },
  {
   "cell_type": "code",
   "execution_count": 5,
   "metadata": {},
   "outputs": [
    {
     "name": "stdout",
     "output_type": "stream",
     "text": [
      "Mean:  30.0\n",
      "Variance:  33.33333333333333\n",
      "PDF:  0.0\n",
      "CDF:  0.0\n",
      "0.75\n"
     ]
    }
   ],
   "source": [
    "from scipy.stats import uniform\n",
    "\n",
    "a = 20\n",
    "b = 20\n",
    "#This corresponds to Uniform Distribution, uniform from 1 to (1+4=5)\n",
    "\n",
    "print(\"Mean: \", uniform.mean(loc = a, scale = b))\n",
    "print(\"Variance: \", uniform.var(loc = a, scale = b))\n",
    "print(\"PDF: \", uniform.pdf(x=1, loc = a, scale = b))\n",
    "print(\"CDF: \", uniform.cdf(x=6, loc = a, scale = b))\n",
    "val=35\n",
    "p=(val-a)/b\n",
    "print(p)"
   ]
  },
  {
   "cell_type": "markdown",
   "metadata": {},
   "source": [
    "## Q3. Test Scores\n",
    "\n",
    "For on-campus recruitment Ms. Z has sat for tests by Company A and Company B. For both tests her score is 50. It is known that for Company A, scores have a normal distribution with mean 40 and standard deviation 15 whereas for Company B, scores have a normal distribution with mean 45 and standard deviation 10. Relatively speaking in which test has Ms. Z done better?\n",
    "\n",
    "\n",
    "Hint: A higher score on Z scale is indicative of a better performance"
   ]
  },
  {
   "cell_type": "code",
   "execution_count": 7,
   "metadata": {},
   "outputs": [
    {
     "name": "stdout",
     "output_type": "stream",
     "text": [
      "47.333333333333336\n",
      "45.5\n",
      "better in A\n"
     ]
    }
   ],
   "source": [
    "def fun(val,mean,st_dev):\n",
    "    z=val-mean/st_dev\n",
    "    print(z)\n",
    "    return z\n",
    "\n",
    "z1=fun(50,40,15)\n",
    "z2=fun(50,45,10)\n",
    "\n",
    "if z1>z2:\n",
    "    print(\"better in A\")\n",
    "elif z1<z2:\n",
    "    print(\"better in B\")\n",
    "else:\n",
    "    print(\"same in both\")"
   ]
  },
  {
   "cell_type": "markdown",
   "metadata": {},
   "source": [
    "## Q4. Telecommunication Industry\n",
    "\n",
    "According to the Telecommunication Industry the average monthly cell phone bill is Rs. 850 with a standard deviation of Rs. 150.\n",
    "\n",
    "What is the probability that a randomly selected cell phone bill is more than Rs 1200?\n",
    "\n",
    "What is the probability that a randomly selected cell phone bill is between Rs 750 and Rs 1200?\n",
    "\n",
    "What is the probability that a randomly selected cell phone bill is no more than Rs 650?\n",
    "\n",
    "What is the amount above which lies top 15% of cell phone bills?\n",
    "\n",
    "What is the amount below which lies bottom 25% of cell phone bills?\n",
    "\n",
    "\n",
    "Hint: This is a problem of normal probability distribution. Though the distribution is not mentioned, in absence of any other information we assume normality in the population."
   ]
  },
  {
   "cell_type": "code",
   "execution_count": 15,
   "metadata": {},
   "outputs": [
    {
     "name": "stdout",
     "output_type": "stream",
     "text": [
      "probability that a randomly selected cell phone bill is more than Rs 1200  0.009815328628645315 \n",
      "probability that a randomly selected cell phone bill is between Rs 750 and Rs 1200  0.7376921338244318 \n",
      "probability that a randomly selected cell phone bill is no more than Rs 650  0.09121121972586788\n",
      "amount above which lies top 15% of cell phone bills  1005.4650084240685 \n",
      "amount below which lies bottom 25% of cell phone bills  748.8265374705877\n"
     ]
    }
   ],
   "source": [
    "from scipy.stats import norm\n",
    "loc = 850\n",
    "scale=150\n",
    "\n",
    "def calc(cdf):\n",
    "    return norm(loc = loc , scale = scale).cdf(cdf)\n",
    "\n",
    "p1200=calc(1200)\n",
    "p750=calc(750)\n",
    "p650=calc(650)\n",
    "\n",
    "print(\"probability that a randomly selected cell phone bill is more than Rs 1200 \",1-p1200,\n",
    "      \"\\nprobability that a randomly selected cell phone bill is between Rs 750 and Rs 1200 \",p1200-p750,\n",
    "      \"\\nprobability that a randomly selected cell phone bill is no more than Rs 650 \",p650)\n",
    "\n",
    "print(\"amount above which lies top 15% of cell phone bills \", norm(loc = loc , scale = scale).ppf(0.85),\n",
    "      \"\\namount below which lies bottom 25% of cell phone bills \",norm(loc = loc , scale = scale).ppf(0.25))"
   ]
  },
  {
   "cell_type": "markdown",
   "metadata": {},
   "source": [
    "## Q5. Elevator Capacities\n",
    "The capacity of an elevator is 8 people or 1384 pounds. The capacity will be exceeded if 8 people have weights with a mean greater than 173 pounds. Suppose the people have weights that are normally distributed with a mean of 180 lb and a standard deviation of 29lb. Find the probability that if a person is randomly selected, his weight will be greater than 173 pounds."
   ]
  },
  {
   "cell_type": "code",
   "execution_count": 11,
   "metadata": {},
   "outputs": [
    {
     "name": "stdout",
     "output_type": "stream",
     "text": [
      "0.5953694266524097\n"
     ]
    }
   ],
   "source": [
    "cap=8\n",
    "max_weight=1384\n",
    "loc=180\n",
    "scale=29\n",
    "print(1-calc(173))"
   ]
  },
  {
   "cell_type": "code",
   "execution_count": null,
   "metadata": {},
   "outputs": [],
   "source": []
  }
 ],
 "metadata": {
  "kernelspec": {
   "display_name": "Python 3",
   "language": "python",
   "name": "python3"
  },
  "language_info": {
   "codemirror_mode": {
    "name": "ipython",
    "version": 3
   },
   "file_extension": ".py",
   "mimetype": "text/x-python",
   "name": "python",
   "nbconvert_exporter": "python",
   "pygments_lexer": "ipython3",
   "version": "3.9.1"
  }
 },
 "nbformat": 4,
 "nbformat_minor": 4
}
