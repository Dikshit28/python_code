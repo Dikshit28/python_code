{
 "cells": [
  {
   "cell_type": "code",
   "execution_count": 1,
   "metadata": {},
   "outputs": [],
   "source": [
    "%reset -f"
   ]
  },
  {
   "cell_type": "code",
   "execution_count": 2,
   "metadata": {},
   "outputs": [],
   "source": [
    "import matplotlib.pyplot as plt\n",
    "plt.style.use('seaborn')\n",
    "\n",
    "import numpy as np\n",
    "\n",
    "from collections import Counter\n",
    "\n",
    "from time import time"
   ]
  },
  {
   "cell_type": "code",
   "execution_count": 3,
   "metadata": {},
   "outputs": [],
   "source": [
    "# this function returns the factorial of an integer passed to it\n",
    "def factorial(n):\n",
    "    if n<=1:\n",
    "        return 1\n",
    "    else:\n",
    "        return n*factorial(n-1)"
   ]
  },
  {
   "cell_type": "markdown",
   "metadata": {},
   "source": [
    "<font size=4>\n",
    "<b>Geometric Distribution:</b>\n",
    "<br>\n",
    "Definition 1: Probability distribution that describes the number <i><b>n</b></i> Bernoulli trials needed to get a successful outcome\n",
    "<br>\n",
    "Definition 2: Probability distribution that describes the number <i><b>n</b></i> Bernoulli trials that fail before the first successful outcome\n",
    "<br><br>\n",
    "<i>\n",
    "<b>Examples:</b>\n",
    "<br>\n",
    "Ex. 1: How many times will I need to roll a fair six-sided die to get a 5 ?\n",
    "<br>\n",
    "Ex. 2: How many times will I need to roll a fair six-sided die <u>before</u> I get a 5 ?\n",
    "</i>\n",
    "<br><br>\n",
    "Note that these two problems are slightly different.\n",
    "<br>\n",
    "The first suggest <i><u>\"I am successful on my n-th roll\"</u></i> while the second suggests <i><u>\"I am successful after my n-th failure\"</u></i>\n",
    "<br><br>\n",
    "I treat only the first definition in this notebook. The second definition is easy to implement following the same example\n",
    "<br><br>\n",
    "</font>"
   ]
  },
  {
   "cell_type": "markdown",
   "metadata": {},
   "source": [
    "## Geometric Distribution:\n",
    "#### Definition 1: Probability distribution that describes the number n Bernoulli trials needed to get a successful outcome\n",
    "#### Definition 2: Probability distribution that describes the number n Bernoulli trials that fail before the first successful outcome\n",
    "##  \n",
    "## *Examples:*\n",
    "#### *Ex. 1: How many times will I need to roll a fair six-sided die to get a 5 ?*\n",
    "#### *Ex. 2: How many times will I need to roll a fair six-sided die before I get a 5 ?*\n",
    "####  \n",
    "Note that these two problems are slightly different.\n",
    "The first suggest \"I am successful on my n-th roll\" while the second suggests \"I am successful after my n-th failure\"\n",
    "\n",
    "I treat only the first definition in this notebook. The second definition is easy to implement following the same example"
   ]
  },
  {
   "cell_type": "code",
   "execution_count": 4,
   "metadata": {},
   "outputs": [],
   "source": [
    "# number of trials to run (where each trial is run until a successful outcome)\n",
    "numSamples = 1000\n",
    "\n",
    "# the possible outcomes - the numbers on the die faces\n",
    "dieFaces = [1,2,3,4,5,6]\n",
    "\n",
    "# target number for successful outcome\n",
    "targetSuccess = 5\n",
    "\n",
    "# probability of success at each roll\n",
    "p = 1/len(dieFaces)"
   ]
  },
  {
   "cell_type": "code",
   "execution_count": 15,
   "metadata": {},
   "outputs": [],
   "source": [
    "# this function carries out one trial and returns the number of rolls it takes to get a successful outocome\n",
    "\n",
    "def run_sample(dfc=dieFaces, tgt=targetSuccess):\n",
    "    thisRoll = 0\n",
    "    cnt = 0\n",
    "    while thisRoll!=tgt:\n",
    "        cnt+=1\n",
    "        thisRoll = np.random.choice(dfc)\n",
    "    return cnt"
   ]
  },
  {
   "cell_type": "code",
   "execution_count": 17,
   "metadata": {},
   "outputs": [
    {
     "name": "stdout",
     "output_type": "stream",
     "text": [
      "Duration: 0.07 seconds\n",
      "[2, 1, 12, 3, 3, 5, 1, 1, 1, 5, 12, 5, 26, 5, 3, 1, 2, 2, 3, 5, 2, 2, 3, 1, 10, 2, 1, 8, 6, 6, 25, 3, 7, 6, 1, 8, 10, 5, 1, 21, 3, 5, 8, 1, 11, 7, 2, 9, 8, 2, 5, 6, 6, 5, 1, 5, 9, 2, 27, 3, 1, 1, 7, 9, 11, 3, 1, 17, 15, 1, 6, 7, 2, 1, 2, 3, 5, 3, 16, 4, 2, 2, 4, 1, 1, 4, 9, 7, 7, 2, 6, 4, 3, 8, 1, 5, 2, 8, 1, 2, 3, 9, 2, 10, 2, 4, 4, 8, 4, 2, 5, 10, 1, 2, 2, 2, 7, 10, 2, 2, 6, 1, 8, 9, 4, 1, 3, 9, 3, 1, 12, 8, 9, 9, 8, 6, 1, 2, 1, 1, 3, 3, 4, 1, 3, 4, 2, 3, 12, 3, 11, 1, 4, 2, 16, 8, 13, 3, 4, 3, 4, 2, 7, 6, 4, 2, 4, 11, 1, 3, 4, 4, 2, 4, 5, 9, 5, 1, 2, 20, 6, 3, 8, 7, 6, 1, 8, 1, 1, 8, 4, 7, 6, 1, 1, 1, 10, 1, 2, 13, 2, 10, 12, 5, 5, 3, 2, 8, 2, 14, 4, 15, 7, 13, 2, 4, 1, 8, 2, 5, 1, 1, 12, 14, 3, 12, 4, 8, 7, 1, 7, 7, 11, 3, 6, 7, 5, 2, 1, 10, 4, 6, 1, 2, 1, 8, 1, 1, 10, 20, 18, 4, 5, 3, 7, 11, 4, 1, 5, 15, 3, 5, 1, 17, 2, 3, 13, 2, 2, 3, 6, 2, 1, 2, 14, 1, 6, 1, 2, 7, 4, 12, 20, 2, 5, 9, 20, 11, 6, 3, 2, 10, 2, 1, 6, 9, 1, 4, 3, 14, 6, 2, 15, 11, 7, 15, 2, 5, 3, 2, 7, 7, 1, 2, 1, 8, 3, 11, 12, 10, 1, 3, 3, 1, 3, 2, 2, 3, 1, 14, 8, 6, 4, 8, 10, 2, 7, 25, 1, 1, 8, 1, 5, 1, 3, 3, 1, 3, 11, 5, 3, 2, 2, 18, 25, 2, 8, 34, 2, 2, 3, 3, 5, 2, 3, 15, 2, 7, 14, 2, 5, 2, 3, 4, 10, 3, 6, 1, 16, 1, 9, 9, 1, 4, 13, 1, 11, 2, 8, 6, 15, 3, 1, 8, 1, 3, 3, 8, 3, 5, 11, 1, 2, 6, 1, 3, 3, 8, 10, 8, 6, 25, 1, 11, 1, 1, 13, 3, 3, 2, 11, 3, 10, 3, 1, 11, 7, 3, 6, 1, 31, 16, 37, 7, 5, 5, 1, 1, 5, 12, 3, 4, 1, 13, 8, 3, 1, 2, 8, 2, 5, 3, 12, 3, 1, 35, 5, 3, 2, 8, 2, 4, 2, 10, 4, 13, 21, 1, 2, 2, 2, 6, 1, 6, 3, 4, 3, 2, 1, 2, 1, 12, 8, 5, 3, 4, 10, 3, 6, 7, 4, 2, 13, 10, 11, 3, 20, 8, 2, 7, 6, 3, 8, 5, 5, 1, 7, 2, 1, 5, 10, 1, 1, 3, 4, 1, 2, 8, 5, 1, 1, 4, 10, 1, 3, 6, 10, 6, 5, 5, 2, 3, 1, 4, 4, 15, 11, 10, 1, 2, 2, 4, 1, 5, 8, 4, 4, 4, 2, 2, 5, 5, 2, 11, 1, 6, 9, 1, 8, 5, 2, 3, 3, 1, 5, 5, 5, 1, 5, 7, 3, 4, 1, 5, 5, 4, 4, 1, 1, 1, 6, 14, 5, 5, 2, 4, 3, 1, 2, 4, 4, 2, 4, 10, 5, 6, 10, 1, 5, 2, 10, 5, 3, 7, 2, 26, 2, 4, 12, 9, 3, 6, 1, 2, 1, 1, 4, 6, 26, 3, 4, 2, 4, 1, 4, 3, 19, 16, 7, 8, 5, 8, 6, 16, 7, 5, 8, 6, 5, 7, 6, 1, 4, 1, 1, 5, 2, 8, 2, 2, 22, 10, 20, 6, 4, 1, 1, 1, 3, 15, 3, 3, 4, 1, 3, 13, 1, 8, 9, 5, 6, 10, 1, 10, 4, 6, 11, 6, 6, 1, 4, 9, 4, 2, 4, 6, 2, 2, 5, 5, 2, 6, 5, 4, 9, 8, 1, 2, 4, 4, 5, 2, 5, 7, 3, 9, 8, 3, 4, 5, 4, 14, 15, 13, 3, 2, 3, 2, 17, 2, 4, 1, 3, 8, 6, 2, 2, 9, 1, 3, 2, 5, 11, 1, 4, 1, 3, 2, 1, 2, 4, 2, 2, 10, 4, 2, 6, 3, 5, 3, 19, 1, 9, 3, 17, 7, 4, 15, 9, 6, 14, 17, 7, 7, 9, 3, 6, 2, 10, 9, 1, 1, 3, 2, 1, 9, 6, 7, 24, 12, 11, 4, 1, 6, 1, 7, 6, 3, 7, 5, 7, 1, 23, 7, 1, 2, 4, 8, 7, 16, 3, 1, 2, 11, 11, 1, 3, 1, 1, 4, 7, 1, 6, 7, 2, 7, 4, 27, 7, 1, 2, 5, 2, 5, 5, 5, 3, 1, 1, 12, 6, 4, 5, 7, 5, 4, 2, 1, 5, 1, 1, 7, 7, 4, 13, 3, 5, 3, 1, 3, 2, 5, 18, 10, 14, 9, 6, 2, 9, 2, 7, 6, 12, 9, 9, 2, 1, 1, 1, 2, 11, 2, 4, 3, 6, 6, 23, 2, 5, 1, 3, 7, 6, 25, 28, 2, 10, 3, 6, 4, 9, 5, 5, 3, 4, 2, 13, 1, 4, 5, 18, 3, 2, 9, 4, 11, 2, 1, 4, 4, 1, 23, 1, 8, 4, 9, 29, 9, 4, 2, 9, 2, 9, 7, 3, 7, 4, 10, 2, 17, 1, 9, 13, 7, 8, 5, 14, 3, 5, 4, 9, 7, 13, 4, 5, 10, 2, 2, 1, 3, 1, 1, 1, 1, 1, 7, 1, 13, 2, 4, 1, 2, 4, 2, 5, 2, 5, 16, 6, 10, 24, 4, 2, 5, 2, 3, 20, 10, 9, 14, 12, 1, 12, 7, 4, 4, 22, 20, 6, 6, 5, 10, 1, 8, 1, 5, 1, 1, 13, 4]\n"
     ]
    }
   ],
   "source": [
    "startTime = time()\n",
    "\n",
    "# this list holds the results (where each result is the number rolls it takes to get a successful outcome)\n",
    "result = []\n",
    "\n",
    "# run several trials and save the results\n",
    "for i in range(numSamples):\n",
    "    result.append(run_sample(dfc=dieFaces, tgt=targetSuccess))\n",
    "\n",
    "endTime = time()\n",
    "\n",
    "print('Duration:', round(endTime-startTime, 2), 'seconds')\n",
    "print(result)"
   ]
  },
  {
   "cell_type": "code",
   "execution_count": 19,
   "metadata": {},
   "outputs": [
    {
     "name": "stdout",
     "output_type": "stream",
     "text": [
      "Counter({1: 169, 2: 146, 3: 113, 4: 98, 5: 91, 6: 65, 7: 57, 8: 49, 9: 39, 10: 37, 11: 25, 12: 18, 13: 17, 14: 12, 15: 11, 16: 8, 20: 8, 17: 6, 25: 5, 18: 4, 26: 3, 23: 3, 21: 2, 27: 2, 19: 2, 22: 2, 24: 2, 34: 1, 31: 1, 37: 1, 35: 1, 28: 1, 29: 1})\n"
     ]
    }
   ],
   "source": [
    "r=Counter(result)\n",
    "print(r)"
   ]
  },
  {
   "cell_type": "code",
   "execution_count": 20,
   "metadata": {},
   "outputs": [
    {
     "name": "stdout",
     "output_type": "stream",
     "text": [
      "PROBABILITY OF SUCCESS ON THE 7-th ROLL:\n",
      "\tSampled Probability (in 1000 experiments): 0.057\n",
      "\tTheoretical Probability (from geometric PDF): 0.0558\n"
     ]
    }
   ],
   "source": [
    "n = 7 # what is the probability that we'll get a successful outcome on the n-th roll ?\n",
    "\n",
    "print('PROBABILITY OF SUCCESS ON THE ' + str(n) + '-th ROLL:')\n",
    "\n",
    "# probability obtained from the sampling\n",
    "rr = Counter(result)\n",
    "sampleProb = rr[n]/numSamples\n",
    "print('\\tSampled Probability (in ' + str(numSamples) + ' experiments):', round(sampleProb, 4))\n",
    "\n",
    "# calculate the theoretical probability (using the geometric PDF)\n",
    "theoretProb = ((1-p)**(n-1))*p\n",
    "print('\\tTheoretical Probability (from geometric PDF):', round(theoretProb, 4))"
   ]
  },
  {
   "cell_type": "code",
   "execution_count": 21,
   "metadata": {},
   "outputs": [
    {
     "data": {
      "image/png": "[encoded data removed]",
      "text/plain": [
       "<Figure size 1872x576 with 1 Axes>"
      ]
     },
     "metadata": {
      "needs_background": "light"
     },
     "output_type": "display_data"
    }
   ],
   "source": [
    "rangeLow = min(rr.keys())\n",
    "rangeHigh = max(rr.keys())\n",
    "\n",
    "px = list(range(rangeLow, rangeHigh+1))\n",
    "py = [rr[i] if (i in rr.keys()) else 0 for i in px]\n",
    "pz = [i/numSamples for i in py]\n",
    "\n",
    "# plot the distribution the probability of correct guesses\n",
    "plt.figure(figsize=[26,8])\n",
    "plt.bar(px, pz, color='C5')\n",
    "plt.xticks(px, fontsize=15, rotation=90)\n",
    "plt.yticks(fontsize=17)\n",
    "plt.xlabel('Number of Rolls', fontsize=22)\n",
    "plt.ylabel('Probability', fontsize=22)\n",
    "plt.title('Distribution of Probability of Rolls for Success', fontsize=30)\n",
    "\n",
    "plt.show()"
   ]
  },
  {
   "cell_type": "code",
   "execution_count": 22,
   "metadata": {},
   "outputs": [
    {
     "name": "stdout",
     "output_type": "stream",
     "text": [
      "Prob. of success on Roll #1: 0.169\n",
      "Prob. of success on Roll #2: 0.146\n",
      "Prob. of success on Roll #3: 0.113\n",
      "Prob. of success on Roll #4: 0.098\n",
      "Prob. of success on Roll #5: 0.091\n",
      "Prob. of success on Roll #6: 0.065\n",
      "Prob. of success on Roll #7: 0.057\n",
      "Prob. of success on Roll #8: 0.049\n",
      "Prob. of success on Roll #9: 0.039\n",
      "Prob. of success on Roll #10: 0.037\n",
      "Prob. of success on Roll #11: 0.025\n",
      "Prob. of success on Roll #12: 0.018\n"
     ]
    }
   ],
   "source": [
    "for i,j in list(zip(px,pz))[:12]: # print first few probabilities\n",
    "    print('Prob. of success on Roll #' + str(i) + ':', round(j,6))"
   ]
  },
  {
   "cell_type": "code",
   "execution_count": null,
   "metadata": {},
   "outputs": [],
   "source": []
  }
 ],
 "metadata": {
  "kernelspec": {
   "display_name": "Python 3",
   "language": "python",
   "name": "python3"
  },
  "language_info": {
   "codemirror_mode": {
    "name": "ipython",
    "version": 3
   },
   "file_extension": ".py",
   "mimetype": "text/x-python",
   "name": "python",
   "nbconvert_exporter": "python",
   "pygments_lexer": "ipython3",
   "version": "3.9.1"
  }
 },
 "nbformat": 4,
 "nbformat_minor": 2
}
