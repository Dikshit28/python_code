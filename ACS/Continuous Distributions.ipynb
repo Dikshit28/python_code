{
 "cells": [
  {
   "cell_type": "markdown",
   "metadata": {},
   "source": [
    "# Continuous Probability Distributions"
   ]
  },
  {
   "cell_type": "code",
   "execution_count": 1,
   "metadata": {},
   "outputs": [],
   "source": [
    "import numpy as np\n",
    "from scipy import stats\n",
    "import scipy\n",
    "import warnings\n",
    "warnings.simplefilter('ignore', DeprecationWarning)"
   ]
  },
  {
   "cell_type": "markdown",
   "metadata": {},
   "source": [
    "## The Uniform Distribution\n",
    "Definition of the Uniform Distribution\n",
    "Uniform distribution, $U(a,b)$:$$\n",
    "  f(x; a,b) = \\frac{1}{b-a} \\text{ , } a \\leq x \\leq b\n",
    "$$\n",
    "$E(x) = \\frac{a+b}{2}$\n",
    "$Var(x) = \\frac{(b-a)^2}{12}$\n",
    "\n",
    "\n",
    "In the standard form, the distribution is uniform on [0, 1]. Using the parameters loc and scale, one obtains the uniform distribution on [loc, loc + scale]."
   ]
  },
  {
   "cell_type": "code",
   "execution_count": 2,
   "metadata": {},
   "outputs": [
    {
     "name": "stdout",
     "output_type": "stream",
     "text": [
      "Mean:  3.0\n",
      "Variance:  1.3333333333333333\n",
      "PDF:  0.25\n",
      "CDF:  1.0\n"
     ]
    }
   ],
   "source": [
    "from scipy.stats import uniform\n",
    "\n",
    "# Parameters\n",
    "a = 1 # loc\n",
    "b = 4 # scale\n",
    "#This corresponds to Uniform Distribution, uniform from 1 to (1+4=5)\n",
    "\n",
    "print(\"Mean: \", uniform.mean(loc = a, scale = b))\n",
    "print(\"Variance: \", uniform.var(loc = a, scale = b))\n",
    "print(\"PDF: \", uniform.pdf(x=1, loc = a, scale = b))\n",
    "print(\"CDF: \", uniform.cdf(x=6, loc = a, scale = b))"
   ]
  },
  {
   "cell_type": "markdown",
   "metadata": {},
   "source": [
    "## Normal Distribution\n",
    "Probability Calculation Using the Normal Distribution\n",
    "Definition of the Normal Distribution"
   ]
  },
  {
   "cell_type": "markdown",
   "metadata": {},
   "source": [
    "Normal Distribution $N( \\mu, \\sigma)$:$$\n",
    "  f(x; \\mu, \\sigma) = \\frac{1}{\\sqrt{2 \\pi} \\sigma } e ^{- \\frac{(x - \\mu) ^2}{2 \\sigma ^2}}\n",
    "$$\n",
    "$\\mu$ is the mean and $\\sigma$ the standard deviation of the distribution, hence $\\sigma^2$ is its variance\n",
    "Symmetric about $\\mu$\n",
    "Also called the Gaussian distribution"
   ]
  },
  {
   "cell_type": "code",
   "execution_count": 3,
   "metadata": {},
   "outputs": [
    {
     "name": "stdout",
     "output_type": "stream",
     "text": [
      "Mean:  0.0\n",
      "Variance:  1.0\n",
      "Probability mass function:  0.17136859204780736\n",
      "Cumulative distribution function:  0.9031995154143897\n",
      "Survival function (1-cdf):  0.09680048458561036\n"
     ]
    }
   ],
   "source": [
    "from scipy.stats import norm\n",
    "\n",
    "# Parameters\n",
    "x = 1.3 # value to look for\n",
    "mu = 0 # mean\n",
    "sigma = 1 # standard deviation\n",
    "\n",
    "print(\"Mean: \", norm.mean(loc = mu, scale = sigma))\n",
    "print(\"Variance: \", norm.var(loc = mu, scale = sigma)) \n",
    "print(\"Probability mass function: \", norm.pdf(x, loc = mu, scale = sigma))\n",
    "print(\"Cumulative distribution function: \", norm.cdf(x, loc = mu, scale = sigma))\n",
    "print(\"Survival function (1-cdf): \", norm.sf(x, loc = mu, scale = sigma))"
   ]
  },
  {
   "cell_type": "markdown",
   "metadata": {},
   "source": [
    "## Chi-Square Distribution\n",
    "$X_i \\sim N(0,1)$ and $X = \\sum_{i =1}^ v X_i ^2$, and $X_i$ are independent. Then $X \\sim \\chi_\\nu^2$ where $\\nu$ is called the degreees of freedom of the distribution\n",
    "Probability distribution function:$$\n",
    "  f(x) = \\frac{ \\frac{1}{2} e ^ {-x/2} (\\frac{x}{2} ) ^ { \\frac{\\nu}{2} -1} } { \\Gamma( \\frac {\\nu}{2} )}\n",
    "$$$$\n",
    "  \\chi_{\\nu}^2 = Gam( \\frac{ \\nu}{2} , \\frac{1}{2} )\n",
    "$$\n",
    "\n",
    "$E(X) = \\nu$\n",
    "\n",
    "$Var(X) = 2 \\nu$\n",
    "Critical point: value of $X$ after which the distribution has a CDF equal to $\\alpha$$$\n",
    "  P(X \\geq \\chi_{ \\alpha, \\nu}^2 ) = \\alpha\n",
    "$$"
   ]
  },
  {
   "cell_type": "code",
   "execution_count": 4,
   "metadata": {},
   "outputs": [
    {
     "name": "stdout",
     "output_type": "stream",
     "text": [
      "Expectation:  8.0\n",
      "Variance:  16.0\n",
      "Probability distribution function:  0.10688150862486819\n",
      "Cumulative distribution function:  0.2424238668669339\n",
      "Survival function (1-cdf):  0.7575761331330662\n",
      "Percent point function (inverse of cdf):  3.737459881176144\n",
      "Critical value (inverse of (1-cdf)):  12.77032873743455\n"
     ]
    }
   ],
   "source": [
    "from scipy.stats import chi2\n",
    "\n",
    "# Parameters\n",
    "nu = 8 # degrees of freedom\n",
    "x = 5 # variable\n",
    "alpha = 0.12 # critical value\n",
    "\n",
    "print(\"Expectation: \", chi2.mean(nu))\n",
    "print(\"Variance: \", chi2.var(nu))\n",
    "print(\"Probability distribution function: \", chi2.pdf(x ,nu))\n",
    "print(\"Cumulative distribution function: \", chi2.cdf(x, nu))\n",
    "print(\"Survival function (1-cdf): \", chi2.sf(x, nu))\n",
    "print(\"Percent point function (inverse of cdf): \", chi2.ppf(alpha, nu))\n",
    "print(\"Critical value (inverse of (1-cdf)): \", chi2.ppf(1 - alpha, nu))"
   ]
  },
  {
   "cell_type": "markdown",
   "metadata": {},
   "source": [
    "## The t-Distribution\n",
    "Given $ Z \\sim N(0,1)$ and $W \\sim \\chi_{\\nu} ^2$ where $Z$ and $W$ are independent, then$$\n",
    "  T_{\\nu} = \\frac{Z} {\\sqrt{ W/ \\nu }} \\sim t_{\\nu}\n",
    "$$is a t-distribution with $\\nu$ degrees of freedom\n",
    "Since the t-distribution is symmetric, the following holds given the $\\alpha$ CDF:$$\n",
    "  1 - \\alpha = P \\left( \\mid X \\mid \\leq t_{\\frac{ \\alpha}{2}, \\nu} \\right) = P \\left( - t_{\\frac{ \\alpha}{2}, \\nu} \\leq X \\leq t_{\\frac{ \\alpha}{2}, \\nu} \\right)\n",
    "$$"
   ]
  },
  {
   "cell_type": "code",
   "execution_count": 5,
   "metadata": {},
   "outputs": [
    {
     "name": "stdout",
     "output_type": "stream",
     "text": [
      "Expectation:  0.0\n",
      "Variance:  1.0344827586206897\n",
      "Probability distribution function:  0.3972835557465738\n",
      "Cumulative distribution function:  0.5\n",
      "Survival function (1-cdf):  0.5\n",
      "Percent point function (inverse of cdf):  2.0002978210582616\n",
      "Inverse survival function (inverse of (1-cdf)):  -2.0002978210582616\n"
     ]
    }
   ],
   "source": [
    "from scipy.stats import t\n",
    "\n",
    "# Parameters\n",
    "nu = 60 # degrees of freedom\n",
    "x = 0 # variable\n",
    "alpha = 0.975 # critical value\n",
    "\n",
    "print(\"Expectation: \", t.mean(nu))\n",
    "print(\"Variance: \", t.var(nu))\n",
    "print(\"Probability distribution function: \", t.pdf(x ,nu))\n",
    "print(\"Cumulative distribution function: \", t.cdf(x, nu))\n",
    "print(\"Survival function (1-cdf): \", t.sf(x, nu))\n",
    "print(\"Percent point function (inverse of cdf): \", t.ppf(alpha, nu))\n",
    "print(\"Inverse survival function (inverse of (1-cdf)): \", t.isf(alpha, nu)) # Useful for finding the critical value"
   ]
  },
  {
   "cell_type": "markdown",
   "metadata": {},
   "source": [
    "## The F-Distribution\n",
    "$W_i \\sim \\chi_{\\nu_i}^2$ for $ i = 1,2$ and they are independent. Then$$\n",
    "  \\frac{W_1/  \\nu_1}{W_2 / \\nu_2} \\sim F_{\\nu_1 , \\nu_2}\n",
    "$$is an F-distribution with degrees of freedom $\\nu_1, \\nu_2$\n",
    "$F_{1 - \\alpha, \\nu_1, \\nu_2} = \\frac{1}{ F_{\\alpha, \\nu_1, \\nu_2}}$"
   ]
  },
  {
   "cell_type": "code",
   "execution_count": 6,
   "metadata": {},
   "outputs": [
    {
     "name": "stdout",
     "output_type": "stream",
     "text": [
      "Expectation:  1.125\n",
      "Variance:  0.2805572660098522\n",
      "Probability distribution function:  0.9294075640447474\n",
      "Cumulative distribution function:  0.48671282505106833\n",
      "Survival function (1-cdf):  0.5132871749489316\n",
      "Percent point function (inverse of cdf):  2.452651390584542\n",
      "Inverse survival function (inverse of (1-cdf)):  0.4442032125917732\n"
     ]
    }
   ],
   "source": [
    "from scipy.stats import f\n",
    "\n",
    "# Parameters\n",
    "nu1 = 29 # degree of freedom 1\n",
    "nu2 = 18 # degree of freedom 2\n",
    "x = 1 # variable\n",
    "alpha = 0.975 # critical value\n",
    "\n",
    "print(\"Expectation: \", f.mean(nu1, nu2))\n",
    "print(\"Variance: \", f.var(nu1, nu2))\n",
    "print(\"Probability distribution function: \", f.pdf(x ,nu1, nu2))\n",
    "print(\"Cumulative distribution function: \", f.cdf(x, nu1, nu2))\n",
    "print(\"Survival function (1-cdf): \", f.sf(x, nu1, nu2))\n",
    "print(\"Percent point function (inverse of cdf): \", f.ppf(alpha, nu1, nu2))\n",
    "print(\"Inverse survival function (inverse of (1-cdf)): \", f.isf(alpha, nu1, nu2)) # Useful for finding the critical value"
   ]
  }
 ],
 "metadata": {
  "kernelspec": {
   "display_name": "Python 3",
   "language": "python",
   "name": "python3"
  },
  "language_info": {
   "codemirror_mode": {
    "name": "ipython",
    "version": 3
   },
   "file_extension": ".py",
   "mimetype": "text/x-python",
   "name": "python",
   "nbconvert_exporter": "python",
   "pygments_lexer": "ipython3",
   "version": "3.9.1"
  }
 },
 "nbformat": 4,
 "nbformat_minor": 4
}
