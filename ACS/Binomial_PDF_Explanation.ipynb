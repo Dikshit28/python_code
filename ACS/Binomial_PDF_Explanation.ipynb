{
 "cells": [
  {
   "cell_type": "markdown",
   "metadata": {},
   "source": [
    "### Binomial Probablity Distribution Function"
   ]
  },
  {
   "cell_type": "markdown",
   "metadata": {},
   "source": [
    "##### This code will help you to understand the behavior of Binomial PDF . In this code we will take a example of tossing a coin and try to understand its behavior for a large sample and will also give answer to the most asked question  that  Why we always say that the probablity of getting HEAD or TAIL is 0.50.\n",
    "\n",
    "###### Lets assume that you tossed a Fair coin for values in Range (0, N) and You are intrested in calculating the number of times Head Came for every Value."
   ]
  },
  {
   "cell_type": "code",
   "execution_count": 1,
   "metadata": {},
   "outputs": [],
   "source": [
    "N=500\n",
    "p = 0.50"
   ]
  },
  {
   "cell_type": "code",
   "execution_count": 2,
   "metadata": {},
   "outputs": [],
   "source": [
    "import numpy as np"
   ]
  },
  {
   "cell_type": "code",
   "execution_count": 3,
   "metadata": {},
   "outputs": [],
   "source": [
    "k_values = np.arange(start=0,stop=(N+1))"
   ]
  },
  {
   "cell_type": "markdown",
   "metadata": {},
   "source": [
    "##### Above code will generate the values in range(0, N) for which we want calculate the Number of times Head occur."
   ]
  },
  {
   "cell_type": "code",
   "execution_count": 4,
   "metadata": {},
   "outputs": [
    {
     "name": "stdout",
     "output_type": "stream",
     "text": [
      "[  0   1   2   3   4   5   6   7   8   9  10  11  12  13  14  15  16  17\n",
      "  18  19  20  21  22  23  24  25  26  27  28  29  30  31  32  33  34  35\n",
      "  36  37  38  39  40  41  42  43  44  45  46  47  48  49  50  51  52  53\n",
      "  54  55  56  57  58  59  60  61  62  63  64  65  66  67  68  69  70  71\n",
      "  72  73  74  75  76  77  78  79  80  81  82  83  84  85  86  87  88  89\n",
      "  90  91  92  93  94  95  96  97  98  99 100 101 102 103 104 105 106 107\n",
      " 108 109 110 111 112 113 114 115 116 117 118 119 120 121 122 123 124 125\n",
      " 126 127 128 129 130 131 132 133 134 135 136 137 138 139 140 141 142 143\n",
      " 144 145 146 147 148 149 150 151 152 153 154 155 156 157 158 159 160 161\n",
      " 162 163 164 165 166 167 168 169 170 171 172 173 174 175 176 177 178 179\n",
      " 180 181 182 183 184 185 186 187 188 189 190 191 192 193 194 195 196 197\n",
      " 198 199 200 201 202 203 204 205 206 207 208 209 210 211 212 213 214 215\n",
      " 216 217 218 219 220 221 222 223 224 225 226 227 228 229 230 231 232 233\n",
      " 234 235 236 237 238 239 240 241 242 243 244 245 246 247 248 249 250 251\n",
      " 252 253 254 255 256 257 258 259 260 261 262 263 264 265 266 267 268 269\n",
      " 270 271 272 273 274 275 276 277 278 279 280 281 282 283 284 285 286 287\n",
      " 288 289 290 291 292 293 294 295 296 297 298 299 300 301 302 303 304 305\n",
      " 306 307 308 309 310 311 312 313 314 315 316 317 318 319 320 321 322 323\n",
      " 324 325 326 327 328 329 330 331 332 333 334 335 336 337 338 339 340 341\n",
      " 342 343 344 345 346 347 348 349 350 351 352 353 354 355 356 357 358 359\n",
      " 360 361 362 363 364 365 366 367 368 369 370 371 372 373 374 375 376 377\n",
      " 378 379 380 381 382 383 384 385 386 387 388 389 390 391 392 393 394 395\n",
      " 396 397 398 399 400 401 402 403 404 405 406 407 408 409 410 411 412 413\n",
      " 414 415 416 417 418 419 420 421 422 423 424 425 426 427 428 429 430 431\n",
      " 432 433 434 435 436 437 438 439 440 441 442 443 444 445 446 447 448 449\n",
      " 450 451 452 453 454 455 456 457 458 459 460 461 462 463 464 465 466 467\n",
      " 468 469 470 471 472 473 474 475 476 477 478 479 480 481 482 483 484 485\n",
      " 486 487 488 489 490 491 492 493 494 495 496 497 498 499 500]\n"
     ]
    }
   ],
   "source": [
    "print(k_values)"
   ]
  },
  {
   "cell_type": "code",
   "execution_count": 5,
   "metadata": {},
   "outputs": [],
   "source": [
    "import scipy.stats as s"
   ]
  },
  {
   "cell_type": "code",
   "execution_count": 6,
   "metadata": {},
   "outputs": [],
   "source": [
    "p_x_equals_k = s.binom.pmf(k_values,N,p)"
   ]
  },
  {
   "cell_type": "markdown",
   "metadata": {},
   "source": [
    "###  The function above is evaluating the value of Binomial PDF at different value of k:\n",
    "##### Basically it is calculating the probablity of coming k heads when coin is tossed N times and the mathametical formula for above function is\n",
    "\n",
    "$$ P(X=K)  =  {N \\choose K} p^N q^{N-k} $$\n",
    "\n",
    "###### As we Know that for a distribution to be binomial the Multiple events should be independent and there should be only Two desired outcome.\n",
    "$$ p+q = 1 $$\n",
    "\n",
    "__p = Natural parameter of Binomial Distribution and also the probablity of coming Desired Outcome.__\n",
    "\n",
    "__k = No. of times Desired outcome Comes or we can say No. of Success, in this case coming head is success.__\n",
    "\n",
    "\n",
    "\n"
   ]
  },
  {
   "cell_type": "code",
   "execution_count": 7,
   "metadata": {},
   "outputs": [
    {
     "name": "stdout",
     "output_type": "stream",
     "text": [
      "[3.05493636e-151 1.52746818e-148 3.81103311e-146 6.32631497e-144\n",
      " 7.86044635e-142 7.79756278e-140 6.43298929e-138 4.53985244e-136\n",
      " 2.79768407e-134 1.52940062e-132 7.50935706e-131 3.34507724e-129\n",
      " 1.36311897e-127 5.11693892e-126 1.77996375e-124 5.76708256e-123\n",
      " 1.74814690e-121 4.97707706e-120 1.33551568e-118 3.38799240e-117\n",
      " 8.14812173e-116 1.86242782e-114 4.05501331e-113 8.42737548e-112\n",
      " 1.67494088e-110 3.18908743e-109 5.82621742e-108 1.02282484e-106\n",
      " 1.72784338e-105 2.81221406e-104 4.41517607e-103 6.69397662e-102\n",
      " 9.81085949e-101 1.39135825e-099 1.91107149e-098 2.54445518e-097\n",
      " 3.28658794e-096 4.12155893e-095 5.02179417e-094 5.94889463e-093\n",
      " 6.85610106e-092 7.69221094e-091 8.40648767e-090 8.95388687e-089\n",
      " 9.29983250e-088 9.42383027e-087 9.32139733e-086 9.00407316e-085\n",
      " 8.49759405e-084 7.83859696e-083 7.07041446e-082 6.23860099e-081\n",
      " 5.38679201e-080 4.55336381e-079 3.76917338e-078 3.05645696e-077\n",
      " 2.42879169e-076 1.89190090e-075 1.44502086e-074 1.08254105e-073\n",
      " 7.95667670e-073 5.73924221e-072 4.06375376e-071 2.82527642e-070\n",
      " 1.92913406e-069 1.29400377e-068 8.52866120e-068 5.52453576e-067\n",
      " 3.51782939e-066 2.20246710e-065 1.35609045e-064 8.21294219e-064\n",
      " 4.89354472e-063 2.86909197e-062 1.65554361e-061 9.40348772e-061\n",
      " 5.25852932e-060 2.89560575e-059 1.57030927e-058 8.38823435e-058\n",
      " 4.41430833e-057 2.28890061e-056 1.16957239e-055 5.89013563e-055\n",
      " 2.92403162e-054 1.43105547e-053 6.90567467e-053 3.28614864e-052\n",
      " 1.54224930e-051 7.13940127e-051 3.26032658e-050 1.46893835e-049\n",
      " 6.53038897e-049 2.86494484e-048 1.24046016e-047 5.30133499e-047\n",
      " 2.23650070e-046 9.31491013e-046 3.83051917e-045 1.55542293e-044\n",
      " 6.23724596e-044 2.47019642e-043 9.66282718e-043 3.73379147e-042\n",
      " 1.42530309e-041 5.37542880e-041 2.00310790e-040 7.37593003e-040\n",
      " 2.68401898e-039 9.65261873e-039 3.43106720e-038 1.20551010e-037\n",
      " 4.18699490e-037 1.43765842e-036 4.88047202e-036 1.63814104e-035\n",
      " 5.43693363e-035 1.78442950e-034 5.79183473e-034 1.85922762e-033\n",
      " 5.90304770e-033 1.85384969e-032 5.75909043e-032 1.76986681e-031\n",
      " 5.38096604e-031 1.61859459e-030 4.81724579e-030 1.41862199e-029\n",
      " 4.13395314e-029 1.19211672e-028 3.40211771e-028 9.60903476e-028\n",
      " 2.68616199e-027 7.43238806e-027 2.03558688e-026 5.51870221e-026\n",
      " 1.48112228e-025 3.93524461e-025 1.03514043e-024 2.69583335e-024\n",
      " 6.95139885e-024 1.77482524e-023 4.48705817e-023 1.12333344e-022\n",
      " 2.78493083e-022 6.83748535e-022 1.66253925e-021 4.00366594e-021\n",
      " 9.54928430e-021 2.25593831e-020 5.27889564e-020 1.22358508e-019\n",
      " 2.80941575e-019 6.39004366e-019 1.43983451e-018 3.21408220e-018\n",
      " 7.10806641e-018 1.55743621e-017 3.38101657e-017 7.27237527e-017\n",
      " 1.54992498e-016 3.27313350e-016 6.84933491e-016 1.42029153e-015\n",
      " 2.91852590e-015 5.94318001e-015 1.19937669e-014 2.39875338e-014\n",
      " 4.75467187e-014 9.34053882e-014 1.81865785e-013 3.50969059e-013\n",
      " 6.71330352e-013 1.27281130e-012 2.39200745e-012 4.45596816e-012\n",
      " 8.22835030e-012 1.50620650e-011 2.73317246e-011 4.91665661e-011\n",
      " 8.76803761e-011 1.55015030e-010 2.71702167e-010 4.72138192e-010\n",
      " 8.13411994e-010 1.38939562e-009 2.35300872e-009 3.95104137e-009\n",
      " 6.57806356e-009 1.08590256e-008 1.77745103e-008 2.88486816e-008\n",
      " 4.64283469e-008 7.40929060e-008 1.17250114e-007 1.83992487e-007\n",
      " 2.86314839e-007 4.41825945e-007 6.76127582e-007 1.02608306e-006\n",
      " 1.54425501e-006 2.30485823e-006 3.41164658e-006 5.00822996e-006\n",
      " 7.29139361e-006 1.05280610e-005 1.50765922e-005 2.14131310e-005\n",
      " 3.01636894e-005 4.21425708e-005 5.83975624e-005 8.02620525e-005\n",
      " 1.09413836e-004 1.47939834e-004 1.98405292e-004 2.63925179e-004\n",
      " 3.48234611e-004 4.55754053e-004 5.91644023e-004 7.61842988e-004\n",
      " 9.73081272e-004 1.23286315e-003 1.54940909e-003 1.93155035e-003\n",
      " 2.38856896e-003 2.92997792e-003 3.56523862e-003 4.30341578e-003\n",
      " 5.15277416e-003 6.12032564e-003 7.21134021e-003 8.42883921e-003\n",
      " 9.77309374e-003 1.12411550e-002 1.28264461e-002 1.45184454e-002\n",
      " 1.63024917e-002 1.81597375e-002 2.00672730e-002 2.19984332e-002\n",
      " 2.39232961e-002 2.58093650e-002 2.76224196e-002 2.93275072e-002\n",
      " 3.08900384e-002 3.22769381e-002 3.34578016e-002 3.44059984e-002\n",
      " 3.50996678e-002 3.55225553e-002 3.56646456e-002 3.55225553e-002\n",
      " 3.50996678e-002 3.44059984e-002 3.34578016e-002 3.22769381e-002\n",
      " 3.08900384e-002 2.93275072e-002 2.76224196e-002 2.58093650e-002\n",
      " 2.39232961e-002 2.19984332e-002 2.00672730e-002 1.81597375e-002\n",
      " 1.63024917e-002 1.45184454e-002 1.28264461e-002 1.12411550e-002\n",
      " 9.77309374e-003 8.42883921e-003 7.21134021e-003 6.12032564e-003\n",
      " 5.15277416e-003 4.30341578e-003 3.56523862e-003 2.92997792e-003\n",
      " 2.38856896e-003 1.93155035e-003 1.54940909e-003 1.23286315e-003\n",
      " 9.73081272e-004 7.61842988e-004 5.91644023e-004 4.55754053e-004\n",
      " 3.48234611e-004 2.63925179e-004 1.98405292e-004 1.47939834e-004\n",
      " 1.09413836e-004 8.02620525e-005 5.83975624e-005 4.21425708e-005\n",
      " 3.01636894e-005 2.14131310e-005 1.50765922e-005 1.05280610e-005\n",
      " 7.29139361e-006 5.00822996e-006 3.41164658e-006 2.30485823e-006\n",
      " 1.54425501e-006 1.02608306e-006 6.76127582e-007 4.41825945e-007\n",
      " 2.86314839e-007 1.83992487e-007 1.17250114e-007 7.40929060e-008\n",
      " 4.64283469e-008 2.88486816e-008 1.77745103e-008 1.08590256e-008\n",
      " 6.57806356e-009 3.95104137e-009 2.35300872e-009 1.38939562e-009\n",
      " 8.13411994e-010 4.72138192e-010 2.71702167e-010 1.55015030e-010\n",
      " 8.76803761e-011 4.91665661e-011 2.73317246e-011 1.50620650e-011\n",
      " 8.22835030e-012 4.45596816e-012 2.39200745e-012 1.27281130e-012\n",
      " 6.71330352e-013 3.50969059e-013 1.81865785e-013 9.34053882e-014\n",
      " 4.75467187e-014 2.39875338e-014 1.19937669e-014 5.94318001e-015\n",
      " 2.91852590e-015 1.42029153e-015 6.84933491e-016 3.27313350e-016\n",
      " 1.54992498e-016 7.27237527e-017 3.38101657e-017 1.55743621e-017\n",
      " 7.10806641e-018 3.21408220e-018 1.43983451e-018 6.39004366e-019\n",
      " 2.80941575e-019 1.22358508e-019 5.27889564e-020 2.25593831e-020\n",
      " 9.54928430e-021 4.00366594e-021 1.66253925e-021 6.83748535e-022\n",
      " 2.78493083e-022 1.12333344e-022 4.48705817e-023 1.77482524e-023\n",
      " 6.95139885e-024 2.69583335e-024 1.03514043e-024 3.93524461e-025\n",
      " 1.48112228e-025 5.51870221e-026 2.03558688e-026 7.43238806e-027\n",
      " 2.68616199e-027 9.60903476e-028 3.40211771e-028 1.19211672e-028\n",
      " 4.13395314e-029 1.41862199e-029 4.81724579e-030 1.61859459e-030\n",
      " 5.38096604e-031 1.76986681e-031 5.75909043e-032 1.85384969e-032\n",
      " 5.90304770e-033 1.85922762e-033 5.79183473e-034 1.78442950e-034\n",
      " 5.43693363e-035 1.63814104e-035 4.88047202e-036 1.43765842e-036\n",
      " 4.18699490e-037 1.20551010e-037 3.43106720e-038 9.65261873e-039\n",
      " 2.68401898e-039 7.37593003e-040 2.00310790e-040 5.37542880e-041\n",
      " 1.42530309e-041 3.73379147e-042 9.66282718e-043 2.47019642e-043\n",
      " 6.23724596e-044 1.55542293e-044 3.83051917e-045 9.31491013e-046\n",
      " 2.23650070e-046 5.30133499e-047 1.24046016e-047 2.86494484e-048\n",
      " 6.53038897e-049 1.46893835e-049 3.26032658e-050 7.13940127e-051\n",
      " 1.54224930e-051 3.28614864e-052 6.90567467e-053 1.43105547e-053\n",
      " 2.92403162e-054 5.89013563e-055 1.16957239e-055 2.28890061e-056\n",
      " 4.41430833e-057 8.38823435e-058 1.57030927e-058 2.89560575e-059\n",
      " 5.25852932e-060 9.40348772e-061 1.65554361e-061 2.86909197e-062\n",
      " 4.89354472e-063 8.21294219e-064 1.35609045e-064 2.20246710e-065\n",
      " 3.51782939e-066 5.52453576e-067 8.52866120e-068 1.29400377e-068\n",
      " 1.92913406e-069 2.82527642e-070 4.06375376e-071 5.73924221e-072\n",
      " 7.95667670e-073 1.08254105e-073 1.44502086e-074 1.89190090e-075\n",
      " 2.42879169e-076 3.05645696e-077 3.76917338e-078 4.55336381e-079\n",
      " 5.38679201e-080 6.23860099e-081 7.07041446e-082 7.83859696e-083\n",
      " 8.49759405e-084 9.00407316e-085 9.32139733e-086 9.42383027e-087\n",
      " 9.29983250e-088 8.95388687e-089 8.40648767e-090 7.69221094e-091\n",
      " 6.85610106e-092 5.94889463e-093 5.02179417e-094 4.12155893e-095\n",
      " 3.28658794e-096 2.54445518e-097 1.91107149e-098 1.39135825e-099\n",
      " 9.81085949e-101 6.69397662e-102 4.41517607e-103 2.81221406e-104\n",
      " 1.72784338e-105 1.02282484e-106 5.82621742e-108 3.18908743e-109\n",
      " 1.67494088e-110 8.42737548e-112 4.05501331e-113 1.86242782e-114\n",
      " 8.14812173e-116 3.38799240e-117 1.33551568e-118 4.97707706e-120\n",
      " 1.74814690e-121 5.76708256e-123 1.77996375e-124 5.11693892e-126\n",
      " 1.36311897e-127 3.34507724e-129 7.50935706e-131 1.52940062e-132\n",
      " 2.79768407e-134 4.53985244e-136 6.43298929e-138 7.79756278e-140\n",
      " 7.86044635e-142 6.32631497e-144 3.81103311e-146 1.52746818e-148\n",
      " 3.05493636e-151]\n"
     ]
    }
   ],
   "source": [
    "print(p_x_equals_k)"
   ]
  },
  {
   "cell_type": "markdown",
   "metadata": {},
   "source": [
    "##### Above are the different values of probablity for every N values in range.\n",
    "\n",
    "__ Now we will plot the graph of this Binomial PDF using MATPLOT LIBRARY to better understand its behavior __\n"
   ]
  },
  {
   "cell_type": "code",
   "execution_count": 8,
   "metadata": {},
   "outputs": [],
   "source": [
    "import matplotlib.pyplot as plt"
   ]
  },
  {
   "cell_type": "code",
   "execution_count": 9,
   "metadata": {},
   "outputs": [
    {
     "data": {
      "text/plain": [
       "<StemContainer object of 3 artists>"
      ]
     },
     "execution_count": 9,
     "metadata": {},
     "output_type": "execute_result"
    },
    {
     "data": {
      "image/png": "[encoded data removed]",
      "text/plain": [
       "<Figure size 432x288 with 1 Axes>"
      ]
     },
     "metadata": {
      "needs_background": "light"
     },
     "output_type": "display_data"
    }
   ],
   "source": [
    "plt.stem(k_values,p_x_equals_k)"
   ]
  },
  {
   "cell_type": "markdown",
   "metadata": {},
   "source": [
    "__ In above graph we have taken k_values(Range of N) as the X-axis and thier Probablity as the Y-Axis __ "
   ]
  },
  {
   "cell_type": "code",
   "execution_count": 10,
   "metadata": {},
   "outputs": [],
   "source": [
    "total_probability = np.sum(p_x_equals_k)"
   ]
  },
  {
   "cell_type": "code",
   "execution_count": 11,
   "metadata": {},
   "outputs": [
    {
     "name": "stdout",
     "output_type": "stream",
     "text": [
      "0.9999999999998963\n"
     ]
    }
   ],
   "source": [
    "print(total_probability)"
   ]
  },
  {
   "cell_type": "markdown",
   "metadata": {},
   "source": [
    "#### Here you can see that the mean of this graph is approaching to 250 that means you can say that the out of 500 times 250 times head occur .\n",
    "\n"
   ]
  },
  {
   "cell_type": "code",
   "execution_count": null,
   "metadata": {},
   "outputs": [],
   "source": []
  },
  {
   "cell_type": "code",
   "execution_count": null,
   "metadata": {},
   "outputs": [],
   "source": []
  }
 ],
 "metadata": {
  "kernelspec": {
   "display_name": "Python 3",
   "language": "python",
   "name": "python3"
  },
  "language_info": {
   "codemirror_mode": {
    "name": "ipython",
    "version": 3
   },
   "file_extension": ".py",
   "mimetype": "text/x-python",
   "name": "python",
   "nbconvert_exporter": "python",
   "pygments_lexer": "ipython3",
   "version": "3.9.1"
  }
 },
 "nbformat": 4,
 "nbformat_minor": 2
}
