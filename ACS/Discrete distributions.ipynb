{
 "cells": [
  {
   "cell_type": "markdown",
   "metadata": {},
   "source": [
    "# Discrete Probability Distributions"
   ]
  },
  {
   "cell_type": "markdown",
   "metadata": {},
   "source": [
    "## Random Variables"
   ]
  },
  {
   "cell_type": "markdown",
   "metadata": {},
   "source": [
    "### Discrete Random Variable: Definition of a Random Variable"
   ]
  },
  {
   "cell_type": "markdown",
   "metadata": {},
   "source": [
    "A random variable is a variable whose possible values are numerical outcomes of a random phenomenon. There are two types of random variables, discrete and continuous.\n",
    "\n",
    "A discrete random variable is one which may take on only a countable number of distinct values and thus can be quantified. For example, you can define a random variable X to be the number which comes up when you roll a fair dice. X can take values : [1,2,3,4,5,6] and therefore is a discrete random variable."
   ]
  },
  {
   "cell_type": "markdown",
   "metadata": {},
   "source": [
    "Random variable $X$: mapping from sample space $S$ to a real line $R$\n",
    "Numerical value $X(w)$ mapped to each outcome $w$ of a particular experiment"
   ]
  },
  {
   "cell_type": "markdown",
   "metadata": {},
   "source": [
    "### Probability Mass Function"
   ]
  },
  {
   "cell_type": "markdown",
   "metadata": {},
   "source": [
    "Probability Mass Function (p.m.f.): set of probability values $p_i$ assigned to each value taken by the discrete random variable $x_i$\n",
    "$ 0 \\leq p_i \\leq 1 \\text{ and } \\sum_i p_i = 1$\n",
    "Probability: $P(X = x_i) = p_i$"
   ]
  },
  {
   "cell_type": "markdown",
   "metadata": {},
   "source": [
    "### Cumulative Distribution Function"
   ]
  },
  {
   "cell_type": "markdown",
   "metadata": {},
   "source": [
    "Cumulative Distribution Function (CDF): $F(x) = P(X \\leq x)$"
   ]
  },
  {
   "cell_type": "markdown",
   "metadata": {},
   "source": [
    "### Expectation of a Random Variable: Expectations of Discrete Random Variables"
   ]
  },
  {
   "cell_type": "markdown",
   "metadata": {},
   "source": [
    "Expectation of a discrete random variable $X$ with p.m.f. $p$:$$\n",
    "  E(X) = \\sum_i p_i x_i\n",
    "$$"
   ]
  },
  {
   "cell_type": "code",
   "execution_count": 1,
   "metadata": {},
   "outputs": [
    {
     "name": "stdout",
     "output_type": "stream",
     "text": [
      "Expected value:  23.0\n"
     ]
    }
   ],
   "source": [
    "from scipy.stats import rv_discrete\n",
    "\n",
    "x = [10, 20, 30]\n",
    "p = [0.2, 0.3, 0.5]\n",
    "distribution = rv_discrete(values=(x, p))\n",
    "print(\"Expected value: \", distribution.expect())"
   ]
  },
  {
   "cell_type": "markdown",
   "metadata": {},
   "source": [
    "### Variance of a Random Variable: Definition and Interpretation of Variance"
   ]
  },
  {
   "cell_type": "markdown",
   "metadata": {},
   "source": [
    "Variance ($ \\sigma ^2$): $Var(X) = E(X - E(X))^2 = E(X^2) - \\mu ^2$\n",
    "Positive quantity measuring the spread of the distribution about its mean value\n",
    "Standard Deviation($\\sigma$): $\\sqrt{Var(x)}$"
   ]
  },
  {
   "cell_type": "code",
   "execution_count": 2,
   "metadata": {},
   "outputs": [
    {
     "name": "stdout",
     "output_type": "stream",
     "text": [
      "Variance:  61.0\n",
      "Standard Deviation:  7.810249675906654\n"
     ]
    }
   ],
   "source": [
    "from scipy.stats import rv_discrete\n",
    "\n",
    "x = [10, 20, 30]\n",
    "p = [0.2, 0.3, 0.5]\n",
    "distribution = rv_discrete(values=(x, p))\n",
    "print(\"Variance: \", distribution.var())\n",
    "print(\"Standard Deviation: \", distribution.std())"
   ]
  },
  {
   "cell_type": "markdown",
   "metadata": {},
   "source": [
    "### The Binomial Distribution"
   ]
  },
  {
   "cell_type": "markdown",
   "metadata": {},
   "source": [
    "#### Bernoulli Random Variables"
   ]
  },
  {
   "cell_type": "markdown",
   "metadata": {},
   "source": [
    "Modeling of a process with two possible outcomes, labeled 0 and 1\n",
    "Random variable defined by the parameter $p$, $0 \\leq p \\leq 1$, which is the probability that the outcome is 1\n",
    "The Bernoulli distribution $Ber(p)$ is:$$\n",
    "  f(x;p) = p^x(1-p)^{1-x}, \\text{   } x= 0,1\n",
    "$$\n",
    "$E(X) = p$\n",
    "$Var(X) = p(1-p)$"
   ]
  },
  {
   "cell_type": "code",
   "execution_count": 3,
   "metadata": {},
   "outputs": [
    {
     "name": "stdout",
     "output_type": "stream",
     "text": [
      "Mean:  0.3\n",
      "Variance:  0.21\n"
     ]
    }
   ],
   "source": [
    "from scipy.stats import bernoulli\n",
    "n = 4 # number of trials\n",
    "p = 0.3 # probability of success\n",
    "print(\"Mean: \", bernoulli.mean(p))\n",
    "print(\"Variance: \", bernoulli.var(p))"
   ]
  },
  {
   "cell_type": "markdown",
   "metadata": {},
   "source": [
    "#### Definition of the Binomial Distribution"
   ]
  },
  {
   "cell_type": "markdown",
   "metadata": {},
   "source": [
    "Let's consider an experiment consisting of $n$ Bernoulli trials $X_1, \\cdots, X_n$ independent and with a constant probability $p$ of success\n",
    "Then the total number of successes $X = \\sum_{i=1}^m X_i$ is a random variable whose Binomial distribution with parameters $n$ (number of trials) and $p$ is:$$\n",
    "  X \\sim B(n,p)\n",
    "$$\n",
    "Probability mass function of a $B(n, p)$ random variable is:$$\n",
    "  f(x;n,p) = \\binom{n}{x}p^x(1-p)^{n-x}, \\text{   } x= 0,1, \\cdots, n\n",
    "$$\n",
    "$E(X) = np$\n",
    "$Var(X) = np(1-p)$"
   ]
  },
  {
   "cell_type": "code",
   "execution_count": 4,
   "metadata": {},
   "outputs": [
    {
     "name": "stdout",
     "output_type": "stream",
     "text": [
      "Mean:  2.0\n",
      "Variance:  1.6\n",
      "Probability mass function:  0.0007864320000000006\n",
      "Cumulative distribution function:  0.9999220736\n"
     ]
    }
   ],
   "source": [
    "from scipy.stats import binom\n",
    "\n",
    "# Parameters\n",
    "n = 10 # number of trials\n",
    "x = 7 # number of successes\n",
    "p = 0.2 # probability of success\n",
    "\n",
    "print(\"Mean: \", binom.mean(n, p))\n",
    "print(\"Variance: \", binom.var(n, p))\n",
    "print(\"Probability mass function: \", binom.pmf(x, n, p))\n",
    "print(\"Cumulative distribution function: \", binom.cdf(x,n,p))"
   ]
  },
  {
   "cell_type": "markdown",
   "metadata": {},
   "source": [
    "### The Geometric Distribution"
   ]
  },
  {
   "cell_type": "markdown",
   "metadata": {},
   "source": [
    "Number of $X$ of trials up to and including the first success in a sequence of independent Bernoulli trials with a constant success probability $p$ has a geometric distribution with parameter $p$\n",
    "Probability mass function:$$\n",
    "  P(X = x) = (1 - p)^{x-1}p, \\text{   } x=1,2, \\cdots.\n",
    "$$\n",
    "Cumulative distribution function:$$\n",
    "  P(X \\leq x) = 1 - (1-p)^x\n",
    "$$\n",
    "$E(X) = \\frac{1}{p}$\n",
    "$Var(X) = \\frac{1-p}{p^2}$"
   ]
  },
  {
   "cell_type": "code",
   "execution_count": 5,
   "metadata": {},
   "outputs": [
    {
     "name": "stdout",
     "output_type": "stream",
     "text": [
      "Mean:  4.3478260869565215\n",
      "Variance:  14.555765595463136\n",
      "Probability mass function:  0.08085199430000001\n",
      "Cumulative distribution function:  0.7293215843\n"
     ]
    }
   ],
   "source": [
    "from scipy.stats import geom\n",
    "x = 5 # number of trials up to and including the first success\n",
    "p = 0.23 # probability of success\n",
    "print(\"Mean: \", geom.mean(p))\n",
    "print(\"Variance: \", geom.var(p))\n",
    "print(\"Probability mass function: \", geom.pmf(x, p))\n",
    "print(\"Cumulative distribution function: \", geom.cdf(x, p))"
   ]
  },
  {
   "cell_type": "markdown",
   "metadata": {},
   "source": [
    "### Hypergeometric Distribution"
   ]
  },
  {
   "cell_type": "markdown",
   "metadata": {},
   "source": [
    "Definition of the Hypergeometric Distribution\n",
    "Consider a collection of $N$ items of which $r$ are of a certain kind\n",
    "Probability the item is of the special kind: $p = \\frac{r}{N}$\n",
    "If $n$ items are chosen at random without replacement, then the distribution of $X \\sim B(n,p)$\n",
    "Hypergeometric distribution: $n$ items chosen at random without replacement\n",
    "Probability mass function:$$\n",
    "  f(x; N, n, r) = \\frac{ \\binom{r}{x} \\binom{N-r}{n-x} }{ \\binom{N}{n} },\n",
    "$$$$\n",
    "  max \\{ 0, n-(N-r) \\} \\leq x \\leq min \\{ n, r \\}\n",
    "$$\n",
    "$E(X) = n\\frac{r}{N}$\n",
    "$Var(X) = \\frac{N-n}{N-1} n \\frac{r}{N}(1- \\frac{r}{N})$\n",
    "Comparison with $B(n,p)$ when $ p = \\frac{r}{N}$\n",
    "$E_B(X) = E_H(X) = np$\n",
    "$\\sigma_B ^2 (X) = npq \\geq \\sigma_H ^2(X) = \\frac{N-n}{N-1} npq$"
   ]
  },
  {
   "cell_type": "code",
   "execution_count": 6,
   "metadata": {},
   "outputs": [
    {
     "name": "stdout",
     "output_type": "stream",
     "text": [
      "Mean:  3.0\n",
      "Variance:  0.8571428571428571\n",
      "Probability mass function:  0.23976023976023988\n",
      "Cumulative distribution function:  0.2867132867132869\n"
     ]
    }
   ],
   "source": [
    "from scipy.stats import hypergeom\n",
    "\n",
    "x = 2 # number of rare elements picked\n",
    "N = 15 # total number of elements\n",
    "r = 9 # number of rare elements\n",
    "n = 5 # picked up elements\n",
    "\n",
    "print(\"Mean: \", hypergeom.mean(N, r, n))\n",
    "print(\"Variance: \", hypergeom.var(N, r, n))\n",
    "print(\"Probability mass function: \", hypergeom.pmf(x, N, r, n))\n",
    "print(\"Cumulative distribution function: \", hypergeom.cdf(x, N, r, n))"
   ]
  },
  {
   "cell_type": "markdown",
   "metadata": {},
   "source": [
    "### The Poisson Distribution"
   ]
  },
  {
   "cell_type": "markdown",
   "metadata": {},
   "source": [
    "Describes the number of \"events\" occurring within certain specified boundaries of space and time\n",
    "A random variable $X$ distributed as a Poisson random variable with parameter $\\lambda$ is written as:$$\n",
    "  X \\sim P(\\lambda)\n",
    "$$\n",
    "Probability mass function:$$\n",
    "  P(X = x) = \\frac{ e^{- \\lambda} \\lambda ^ {x}} {x!} \\text{   } x=0,1,2, \\cdots.\n",
    "$$\n",
    "$Eprint(\"Mean: \", multinomial.mean(x, p))(X) = Var(X) = \\lambda$"
   ]
  },
  {
   "cell_type": "code",
   "execution_count": 7,
   "metadata": {},
   "outputs": [
    {
     "name": "stdout",
     "output_type": "stream",
     "text": [
      "Mean:  0.6666666666666666\n",
      "Variance:  0.6666666666666666\n",
      "Probability mass function:  0.3422780793550613\n",
      "Cumulative distribution function:  0.8556951983876534\n"
     ]
    }
   ],
   "source": [
    "from scipy.stats import poisson\n",
    "\n",
    "# Parameters\n",
    "x = 1 # number of events\n",
    "Lambda = 2/3 # lambda parameter\n",
    "\n",
    "print(\"Mean: \", poisson.mean(Lambda))\n",
    "print(\"Variance: \", poisson.var(Lambda))\n",
    "print(\"Probability mass function: \", poisson.pmf(x, Lambda))\n",
    "print(\"Cumulative distribution function: \", poisson.cdf(x, Lambda))"
   ]
  }
 ],
 "metadata": {
  "kernelspec": {
   "display_name": "Python 3",
   "language": "python",
   "name": "python3"
  },
  "language_info": {
   "codemirror_mode": {
    "name": "ipython",
    "version": 3
   },
   "file_extension": ".py",
   "mimetype": "text/x-python",
   "name": "python",
   "nbconvert_exporter": "python",
   "pygments_lexer": "ipython3",
   "version": "3.9.1"
  }
 },
 "nbformat": 4,
 "nbformat_minor": 4
}
