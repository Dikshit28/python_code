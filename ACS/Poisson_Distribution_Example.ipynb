{
 "cells": [
  {
   "cell_type": "code",
   "execution_count": 1,
   "metadata": {},
   "outputs": [],
   "source": [
    "%reset -f"
   ]
  },
  {
   "cell_type": "code",
   "execution_count": 2,
   "metadata": {},
   "outputs": [],
   "source": [
    "import matplotlib.pyplot as plt\n",
    "plt.style.use('seaborn')\n",
    "\n",
    "import numpy as np\n",
    "\n",
    "from collections import Counter\n",
    "\n",
    "from time import time"
   ]
  },
  {
   "cell_type": "code",
   "execution_count": 3,
   "metadata": {},
   "outputs": [],
   "source": [
    "# this function returns the factorial of an integer passed to it\n",
    "def factorial(n):\n",
    "    if n<=1:\n",
    "        return 1\n",
    "    else:\n",
    "        return n*factorial(n-1)"
   ]
  },
  {
   "cell_type": "markdown",
   "metadata": {},
   "source": [
    "<br><br>\n",
    "<font size=4>\n",
    "<b>Poisson Distribution:</b>\n",
    "<br>\n",
    "Probability distribution that describes the outcome of an independent event that occurs at a known rate ($\\lambda$ times over a specified time interval)\n",
    "<br><br>\n",
    "<i>\n",
    "<b>Example:</b>\n",
    "<br>\n",
    "Suppose a car-wash has an average of 2 cars come by every 3 minutes, what is the probability that no more than 4 cars will come by in the next 9 minutes ?\n",
    "</i>\n",
    "</font>"
   ]
  },
  {
   "cell_type": "markdown",
   "metadata": {},
   "source": [
    "## Poisson Distribution:\n",
    "#### Probability distribution that describes the outcome of an independent event that occurs at a known rate ( 𝜆  times over a specified time interval)\n",
    "####  \n",
    "## *Example:*\n",
    "#### *Suppose a car-wash has an average of 2 cars come by every 3 minutes, what is the probability that no more than 4 cars will come by in the next 9 minutes ?*"
   ]
  },
  {
   "cell_type": "code",
   "execution_count": 4,
   "metadata": {},
   "outputs": [
    {
     "name": "stdout",
     "output_type": "stream",
     "text": [
      "Duration: 0.25 seconds\n",
      "[10, 9, 8, 5, 5, 6, 3, 5, 7, 4, 4, 11, 4, 5, 5, 6, 4, 3, 5, 0, 8, 4, 8, 4, 10, 3, 3, 2, 5, 9, 7, 3, 6, 8, 8, 9, 7, 5, 5, 6, 9, 4, 3, 4, 8, 8, 5, 4, 4, 4, 8, 9, 4, 9, 5, 3, 7, 9, 6, 5, 9, 10, 7, 5, 10, 3, 4, 10, 5, 6, 6, 6, 3, 9, 6, 7, 7, 6, 3, 7, 3, 6, 4, 7, 11, 8, 3, 10, 6, 6, 6, 4, 0, 4, 7, 4, 12, 9, 6, 8, 8, 6, 7, 4, 5, 7, 4, 5, 6, 8, 8, 11, 6, 7, 6, 4, 5, 10, 5, 7, 5, 6, 6, 2, 0, 6, 6, 8, 6, 5, 6, 2, 6, 5, 6, 8, 8, 8, 6, 5, 3, 5, 2, 0, 7, 10, 5, 5, 7, 7, 3, 7, 5, 5, 8, 11, 5, 8, 5, 7, 8, 3, 6, 9, 6, 8, 1, 2, 10, 9, 13, 6, 9, 2, 4, 7, 9, 9, 10, 7, 6, 8, 6, 11, 5, 8, 5, 7, 6, 7, 8, 3, 4, 3, 10, 2, 8, 8, 9, 6, 5, 6, 6, 8, 5, 3, 11, 5, 5, 7, 6, 4, 4, 4, 9, 3, 9, 6, 6, 4, 5, 6, 3, 4, 8, 6, 6, 7, 8, 4, 7, 6, 7, 8, 4, 10, 7, 6, 6, 5, 5, 4, 4, 3, 6, 3, 4, 4, 10, 3, 6, 7, 7, 5, 4, 8, 4, 3, 4, 5, 7, 4, 6, 5, 4, 7, 7, 5, 3, 13, 3, 6, 6, 7, 4, 2, 5, 6, 3, 4, 7, 2, 9, 5, 8, 6, 7, 6, 4, 6, 5, 7, 4, 7, 10, 8, 11, 6, 8, 4, 8, 6, 6, 5, 2, 8, 12, 5, 6, 10, 5, 3, 5, 5, 4, 8, 10, 4, 8, 9, 9, 5, 6, 7, 6, 6, 6, 3, 5, 7, 4, 3, 7, 9, 2, 9, 4, 3, 4, 7, 8, 6, 6, 2, 11, 11, 9, 6, 4, 8, 3, 2, 10, 4, 5, 9, 12, 8, 8, 12, 6, 9, 8, 6, 5, 5, 4, 7, 3, 5, 7, 5, 7, 4, 9, 5, 6, 6, 4, 9, 4, 3, 8, 6, 10, 5, 5, 6, 7, 4, 4, 6, 0, 5, 5, 7, 5, 4, 10, 8, 6, 1, 9, 11, 6, 7, 6, 6, 5, 6, 3, 6, 1, 7, 4, 5, 6, 6, 4, 7, 12, 11, 3, 9, 12, 7, 5, 4, 5, 4, 7, 4, 5, 5, 9, 6, 4, 4, 5, 8, 0, 10, 8, 11, 7, 7, 5, 7, 4, 5, 3, 6, 5, 4, 5, 6, 7, 7, 6, 2, 4, 10, 8, 8, 9, 5, 6, 7, 8, 5, 6, 5, 12, 4, 4, 5, 5, 4, 8, 3, 4, 3, 3, 4, 5, 9, 6, 4, 8, 0, 7, 5, 6, 9, 7, 4, 3, 4, 10, 8, 2, 6, 8, 3, 10, 4, 5, 5, 8, 4, 6, 12, 7, 8, 4, 2, 6, 7, 8, 1, 7, 13, 9, 6, 7, 10, 7, 12, 9, 6, 8, 4, 8, 4, 7, 3, 2, 5, 3, 6, 4, 8, 7, 5, 1, 3, 4, 6, 9, 3, 9, 1, 11, 4, 6, 5, 5, 7, 5, 8, 5, 5, 6, 7, 9, 7, 5, 5, 5, 5, 6, 6, 9, 6, 4, 5, 5, 6, 6, 5, 7, 7, 4, 7, 12, 8, 6, 6, 15, 3, 5, 4, 6, 7, 8, 5, 5, 8, 6, 5, 5, 7, 8, 10, 12, 8, 2, 3, 6, 8, 8, 2, 6, 6, 10, 5, 8, 10, 3, 6, 6, 6, 8, 3, 6, 5, 4, 4, 11, 10, 3, 9, 5, 9, 5, 4, 7, 8, 5, 8, 4, 13, 8, 12, 6, 8, 5, 6, 6, 6, 6, 5, 6, 8, 9, 3, 5, 5, 6, 4, 5, 12, 4, 3, 3, 1, 2, 9, 6, 7, 7, 6, 5, 4, 7, 8, 6, 3, 4, 5, 6, 5, 6, 2, 8, 6, 3, 5, 3, 8, 5, 5, 7, 7, 7, 5, 7, 4, 6, 5, 5, 14, 5, 8, 9, 4, 6, 12, 5, 7, 9, 6, 1, 2, 6, 7, 6, 6, 10, 7, 7, 10, 6, 7, 4, 12, 11, 8, 4, 8, 10, 3, 8, 5, 4, 3, 8, 6, 6, 9, 5, 7, 3, 5, 6, 5, 5, 8, 8, 9, 7, 8, 7, 9, 4, 4, 7, 8, 8, 1, 4, 9, 7, 5, 5, 2, 5, 4, 5, 10, 5, 6, 4, 4, 3, 14, 8, 4, 1, 5, 8, 13, 8, 4, 2, 9, 6, 5, 3, 7, 5, 7, 5, 6, 5, 7, 7, 5, 7, 14, 8, 7, 10, 6, 12, 8, 11, 7, 6, 4, 9, 6, 5, 5, 10, 3, 11, 4, 6, 6, 3, 5, 6, 8, 3, 7, 6, 9, 6, 3, 8, 6, 6, 6, 7, 6, 7, 2, 3, 10, 6, 8, 5, 5, 5, 9, 11, 12, 3, 4, 2, 3, 7, 8, 6, 7, 7, 8, 6, 8, 2, 10, 9, 3, 4, 6, 8, 3, 8, 5, 7, 7, 5, 7, 6, 9, 7, 5, 6, 4, 5, 6, 4, 6, 4, 5, 8, 8, 9, 3, 7, 4, 7, 4, 7, 11, 6, 4, 4, 9, 11, 5, 10, 8, 13, 4, 4, 4, 4, 1, 4, 7, 7, 5, 3, 10, 5, 9, 4, 4, 3, 7, 4, 2, 8, 3, 8, 1, 7, 6, 6, 7, 7, 8, 4, 7, 7, 3, 7, 8, 8, 5, 5, 7, 7, 5, 4, 4, 6, 5, 11, 7, 6, 6, 9, 7, 5, 7, 7, 8, 8, 12, 5, 7, 9, 4, 6, 6, 7, 7, 8, 1, 6, 7, 6, 6, 7, 9, 4, 4, 9, 4, 6, 9, 9, 6, 6, 6, 3, 4, 10, 8, 7, 7, 7, 8, 3, 7, 4, 5]\n"
     ]
    }
   ],
   "source": [
    "# 2 cars every 3 minutes is the same rate as 6 cars every 9 minutes (540 seconds)\n",
    "# Think of each trial as equivalent to 540 distinct and independent events of which, on the average, 6 are successful\n",
    "\n",
    "startTime = time()\n",
    "\n",
    "# number of trials\n",
    "numSamp = 1000\n",
    "\n",
    "# holds the result of each trial\n",
    "thisList = []\n",
    "\n",
    "sampSize = 540 # sample size for each trial (540 seconds)\n",
    "rate_lambda = 6 # succesful event occurence rate (6 cars every 540 seconds)\n",
    "sampRange = sampSize+1 # range of randints to sample from (i.e. [1,sampRange])\n",
    "\n",
    "target_success = 4 # number of successful events we're trying to estimate a probability for (<=4 cars in 9 minutes)\n",
    "\n",
    "# sample 540 random integers from 1 to 540\n",
    "# the probability of finding a value less_than_or_equal_to 6 is = \"6/540\"\n",
    "for i in range(numSamp):\n",
    "    aa = np.random.randint(1,sampRange,[sampSize,])\n",
    "    aa[aa>rate_lambda]=0 # disqualify all randints greater than 6...\n",
    "    aa[aa!=0] = 1 # and keep only those <= 6...\n",
    "    thisList.append(sum(aa)) # then append the number of successful outcomes for each trial to the list\n",
    "\n",
    "endTime = time()\n",
    "\n",
    "print('Duration:', round(endTime-startTime, 2), 'seconds')\n",
    "print(thisList)"
   ]
  },
  {
   "cell_type": "code",
   "execution_count": 5,
   "metadata": {},
   "outputs": [
    {
     "name": "stdout",
     "output_type": "stream",
     "text": [
      "Probability of having no more than 4 cars pass thru in 9 minutes...\n",
      "\n",
      "Sampled (1000 samples): 0.261\n",
      "Theoretical: 0.2851\n"
     ]
    }
   ],
   "source": [
    "print('Probability of having no more than 4 cars pass thru in 9 minutes...\\n')\n",
    "\n",
    "bb = np.array(thisList) # convert the list to an array for easy manipulation by Numpy\n",
    "theProbability = 1.0*sum(bb<=4)/len(bb) # how many of those samples had an outcome <= 4 cars\n",
    "print('Sampled (' + str(numSamp) + ' samples):', round(theProbability,4))\n",
    "\n",
    "calcProb = 0\n",
    "for i in range(target_success+1):\n",
    "    calcProb += (rate_lambda**i)*np.exp(-rate_lambda)/(factorial(i))\n",
    "    \n",
    "print('Theoretical:', round(calcProb,4))"
   ]
  },
  {
   "cell_type": "code",
   "execution_count": 6,
   "metadata": {},
   "outputs": [
    {
     "data": {
      "image/png": "[encoded data removed]",
      "text/plain": [
       "<Figure size 1008x576 with 1 Axes>"
      ]
     },
     "metadata": {},
     "output_type": "display_data"
    }
   ],
   "source": [
    "xx = Counter(thisList)\n",
    "\n",
    "rangeLow = min(xx.keys())\n",
    "rangeHigh = max(xx.keys())\n",
    "\n",
    "qx = list(range(rangeLow, rangeHigh+1))\n",
    "qy = [xx[i]/numSamp if (i in xx.keys()) else 0 for i in qx]\n",
    "\n",
    "plt.figure(figsize=[14,8])\n",
    "plt.bar(qx,qy)\n",
    "plt.xticks(qx, fontsize=15)\n",
    "plt.yticks(fontsize=15)\n",
    "plt.xlabel('# Cars in 9 Minutes', fontsize=20)\n",
    "plt.ylabel('Probability', fontsize=20)\n",
    "plt.show()"
   ]
  },
  {
   "cell_type": "code",
   "execution_count": 7,
   "metadata": {},
   "outputs": [
    {
     "name": "stdout",
     "output_type": "stream",
     "text": [
      "Probability of 0 Cars in 9 minutes: 0.007\n",
      "Probability of 1 Cars in 9 minutes: 0.013\n",
      "Probability of 2 Cars in 9 minutes: 0.028\n",
      "Probability of 3 Cars in 9 minutes: 0.078\n",
      "Probability of 4 Cars in 9 minutes: 0.135\n",
      "Probability of 5 Cars in 9 minutes: 0.16\n",
      "Probability of 6 Cars in 9 minutes: 0.175\n",
      "Probability of 7 Cars in 9 minutes: 0.137\n",
      "Probability of 8 Cars in 9 minutes: 0.114\n",
      "Probability of 9 Cars in 9 minutes: 0.065\n",
      "Probability of 10 Cars in 9 minutes: 0.039\n",
      "Probability of 11 Cars in 9 minutes: 0.021\n",
      "Probability of 12 Cars in 9 minutes: 0.018\n",
      "Probability of 13 Cars in 9 minutes: 0.006\n",
      "Probability of 14 Cars in 9 minutes: 0.003\n",
      "Probability of 15 Cars in 9 minutes: 0.001\n"
     ]
    }
   ],
   "source": [
    "for i,j in zip(qx,qy):\n",
    "    print('Probability of ' + str(i) + ' Cars in 9 minutes:', round(j,6))"
   ]
  },
  {
   "cell_type": "code",
   "execution_count": 8,
   "metadata": {},
   "outputs": [
    {
     "name": "stdout",
     "output_type": "stream",
     "text": [
      "[0, 1, 2, 3, 4, 5, 6, 7, 8, 9, 10, 11, 12, 13, 14, 15] [0.007, 0.013, 0.028, 0.078, 0.135, 0.16, 0.175, 0.137, 0.114, 0.065, 0.039, 0.021, 0.018, 0.006, 0.003, 0.001]\n"
     ]
    }
   ],
   "source": [
    "print(qx,qy)"
   ]
  },
  {
   "cell_type": "code",
   "execution_count": null,
   "metadata": {},
   "outputs": [],
   "source": []
  }
 ],
 "metadata": {
  "kernelspec": {
   "display_name": "Python 3",
   "language": "python",
   "name": "python3"
  },
  "language_info": {
   "codemirror_mode": {
    "name": "ipython",
    "version": 3
   },
   "file_extension": ".py",
   "mimetype": "text/x-python",
   "name": "python",
   "nbconvert_exporter": "python",
   "pygments_lexer": "ipython3",
   "version": "3.9.1"
  }
 },
 "nbformat": 4,
 "nbformat_minor": 2
}
