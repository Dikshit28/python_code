{
 "cells": [
  {
   "cell_type": "code",
   "execution_count": 11,
   "metadata": {},
   "outputs": [],
   "source": [
    "import csv"
   ]
  },
  {
   "cell_type": "code",
   "execution_count": 12,
   "metadata": {},
   "outputs": [],
   "source": [
    "persons=[{'name':'Lata', 'age':22, 'marks':45}, {'name':'Anil', 'age':21, 'marks':56}, {'name':'John', 'age':20, 'marks':60}]\n",
    "csvfile_write=open('persons.csv','w', newline='')\n",
    "fields=list(persons[0].keys())\n",
    "writer_obj=csv.DictWriter(csvfile_write, fieldnames=fields)\n",
    "writer_obj.writeheader()\n",
    "for person in persons:\n",
    "    writer_obj.writerow(person)\n",
    "csvfile.close()"
   ]
  },
  {
   "cell_type": "code",
   "execution_count": 13,
   "metadata": {},
   "outputs": [
    {
     "name": "stdout",
     "output_type": "stream",
     "text": [
      "['name', 'age', 'marks']\n"
     ]
    }
   ],
   "source": [
    "csvfile_read = open('persons.csv','r', newline='')\n",
    "reader_obj = csv.DictReader(csvfile_read)\n",
    "print(reader_obj.fieldnames)\n",
    "lst=[]"
   ]
  },
  {
   "cell_type": "code",
   "execution_count": 14,
   "metadata": {},
   "outputs": [
    {
     "name": "stdout",
     "output_type": "stream",
     "text": [
      "[{'name': 'John', 'age': '20', 'marks': '60'}, {'name': 'Anil', 'age': '21', 'marks': '56'}, {'name': 'Lata', 'age': '22', 'marks': '45'}]\n"
     ]
    }
   ],
   "source": [
    "for row in reader_obj:\n",
    "    lst.insert(0,row)\n",
    "print(lst)"
   ]
  },
  {
   "cell_type": "code",
   "execution_count": null,
   "metadata": {},
   "outputs": [],
   "source": []
  }
 ],
 "metadata": {
  "kernelspec": {
   "display_name": "Python 3",
   "language": "python",
   "name": "python3"
  },
  "language_info": {
   "codemirror_mode": {
    "name": "ipython",
    "version": 3
   },
   "file_extension": ".py",
   "mimetype": "text/x-python",
   "name": "python",
   "nbconvert_exporter": "python",
   "pygments_lexer": "ipython3",
   "version": "3.9.1"
  }
 },
 "nbformat": 4,
 "nbformat_minor": 4
}
