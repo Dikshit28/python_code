{
 "cells": [
  {
   "cell_type": "code",
   "execution_count": 1,
   "metadata": {},
   "outputs": [],
   "source": [
    "%reset -f"
   ]
  },
  {
   "cell_type": "code",
   "execution_count": 2,
   "metadata": {},
   "outputs": [],
   "source": [
    "import matplotlib.pyplot as plt\n",
    "plt.style.use('seaborn')\n",
    "\n",
    "import numpy as np\n",
    "\n",
    "from collections import Counter\n",
    "\n",
    "from time import time"
   ]
  },
  {
   "cell_type": "code",
   "execution_count": 3,
   "metadata": {},
   "outputs": [],
   "source": [
    "# this function returns the factorial of an integer passed to it\n",
    "def factorial(n):\n",
    "    if n<=1:\n",
    "        return 1\n",
    "    else:\n",
    "        return n*factorial(n-1)"
   ]
  },
  {
   "cell_type": "markdown",
   "metadata": {},
   "source": [
    "<font size=4>\n",
    "<b>Binomial Distribution:</b>\n",
    "<br>\n",
    "Probability distribution that describes the outcome of <i><b>n</b></i> <u>identical</u> Bernoulli trials each with a probability of success <i><b>p</b></i>\n",
    "<br><br>\n",
    "<i>\n",
    "<b>Example:</b>\n",
    "<br>\n",
    "Suppose I take a test of 10 multiple choice problems each with 5 answer options (and only one option is correct), what is the probability that I will get exactly 4 questions right just by guessing ?\n",
    "</i>\n",
    "</font>"
   ]
  },
  {
   "cell_type": "markdown",
   "metadata": {},
   "source": [
    "## Binomial Distribution:\n",
    "#### Probability distribution that describes the outcome of **n** *identical* Bernoulli trials each with a probability of success p\n",
    "\n",
    "## *Example:*\n",
    "#### *Suppose I take a test of 10 multiple choice problems each with 5 answer options (and only one option is correct), what is the probability that I will get exactly 4 questions right just by guessing ?*"
   ]
  },
  {
   "cell_type": "code",
   "execution_count": 4,
   "metadata": {},
   "outputs": [
    {
     "name": "stdout",
     "output_type": "stream",
     "text": [
      "0.2\n"
     ]
    }
   ],
   "source": [
    "# number of Binomial tests to run (where each test consists of \"n\" Bernoulli trials)\n",
    "numSamples = 1000000\n",
    "\n",
    "# number of Bernoulli trials \"n\" (i.e. the 10 problems)\n",
    "trials_per_sample = 10\n",
    "\n",
    "# target number of successful guesses\n",
    "numSuccesses = 4\n",
    "\n",
    "# probability of success at each guess\n",
    "numOptions = 5\n",
    "numCorrectAnswers = 1\n",
    "p = numCorrectAnswers/numOptions\n",
    "print(p)"
   ]
  },
  {
   "cell_type": "code",
   "execution_count": 5,
   "metadata": {},
   "outputs": [],
   "source": [
    "# this function returns the number of successes for each Binomial test\n",
    "def run_sample(trials_per_sample):\n",
    "    numSuccess = 0\n",
    "    theChoices = range(numOptions)\n",
    "    for i in range(trials_per_sample):\n",
    "        thisAnswer = np.random.choice(theChoices) # the correct answer to the current problem\n",
    "        thisGuess = np.random.choice(theChoices) # my guess for the current problem\n",
    "        if thisAnswer == thisGuess: # if my guess is correct...SUCCESS !!!\n",
    "            numSuccess += 1\n",
    "    return numSuccess"
   ]
  },
  {
   "cell_type": "code",
   "execution_count": null,
   "metadata": {},
   "outputs": [],
   "source": [
    "startTime = time()\n",
    "\n",
    "# this list holds the results (where each result is the number of successes in each Binomial test)\n",
    "result = []\n",
    "\n",
    "# run several Binomial tests and save the results\n",
    "for i in range(numSamples):\n",
    "    result.append(run_sample(trials_per_sample))\n",
    "\n",
    "endTime = time()\n",
    "\n",
    "print('Duration:', round(endTime-startTime, 2), 'seconds')"
   ]
  },
  {
   "cell_type": "code",
   "execution_count": null,
   "metadata": {},
   "outputs": [],
   "source": [
    "print('PROBABILITY OF ' + str(numSuccesses) + ' CORRECT GUESSES:')\n",
    "\n",
    "# probability obtained from the sampling\n",
    "n = trials_per_sample\n",
    "k = numSuccesses\n",
    "print('\\tSampled Probability (' + str(numSamples) + ' experiments):', round(sum([i==k for i in result])/numSamples, 4))\n",
    "\n",
    "# calculate the theoretical probability (using the binomial PDF)\n",
    "n = trials_per_sample\n",
    "k = numSuccesses\n",
    "theoretical_Prob = (p**k)*((1-p)**(n-k))*factorial(n)/(factorial(k)*factorial(n-k))\n",
    "print('\\tTheoretical Probability (from binomial PDF):', round(theoretical_Prob, 4))"
   ]
  },
  {
   "cell_type": "code",
   "execution_count": null,
   "metadata": {},
   "outputs": [],
   "source": [
    "rr = Counter(result)\n",
    "possibleSuccesses = range(11) # number of possible correct guesses (ranges from 0 for no-correct-guesses to 10 for all-correct-guesses)\n",
    "\n",
    "xx = [(i, rr[i]) for i in possibleSuccesses]\n",
    "\n",
    "px = [i[0] for i in xx]\n",
    "py = [i[1] for i in xx]\n",
    "pz = [i[1]/numSamples for i in xx]\n",
    "\n",
    "\n",
    "plt.figure(figsize=[22,8])\n",
    "\n",
    "# plot the distribution the number of correct guesses\n",
    "plt.subplot(1,2,1)\n",
    "plt.bar(px, py, color='C0')\n",
    "plt.xticks(px, fontsize=20)\n",
    "plt.yticks(fontsize=20)\n",
    "plt.xlabel('# Correct Guesses', fontsize=22)\n",
    "plt.title('Distribution of Number of Correct Guesses', fontsize=25)\n",
    "\n",
    "# plot the distribution the probability of correct guesses\n",
    "plt.subplot(1,2,2)\n",
    "plt.bar(px, pz, color='C3')\n",
    "plt.xticks(px, fontsize=20)\n",
    "plt.yticks(fontsize=20)\n",
    "plt.xlabel('# Correct Guesses', fontsize=22)\n",
    "plt.title('Distribution of Probability of Correct Guesses', fontsize=25)\n",
    "\n",
    "plt.show()"
   ]
  },
  {
   "cell_type": "code",
   "execution_count": null,
   "metadata": {},
   "outputs": [],
   "source": [
    "for i,j in zip(px,pz):\n",
    "    print('Probability of guessing ' + str(i) + ' answers right:', round(j,6))"
   ]
  },
  {
   "cell_type": "code",
   "execution_count": null,
   "metadata": {},
   "outputs": [],
   "source": []
  }
 ],
 "metadata": {
  "kernelspec": {
   "display_name": "Python 3",
   "language": "python",
   "name": "python3"
  },
  "language_info": {
   "codemirror_mode": {
    "name": "ipython",
    "version": 3
   },
   "file_extension": ".py",
   "mimetype": "text/x-python",
   "name": "python",
   "nbconvert_exporter": "python",
   "pygments_lexer": "ipython3",
   "version": "3.9.1"
  }
 },
 "nbformat": 4,
 "nbformat_minor": 2
}
