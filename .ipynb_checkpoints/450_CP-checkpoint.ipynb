{
 "cells": [
  {
   "cell_type": "markdown",
   "metadata": {
    "id": "TWDP1HJlSBP0"
   },
   "source": [
    "1 Write a program to reverse an array or string"
   ]
  },
  {
   "cell_type": "code",
   "execution_count": 1,
   "metadata": {
    "id": "3i2aDVZ4R4BN"
   },
   "outputs": [],
   "source": [
    "def fun(x):\n",
    "    for i in range((len(x))//2):\n",
    "        x[i],x[-1-i]=x[-1-i],x[i]\n",
    "    print(x)"
   ]
  },
  {
   "cell_type": "code",
   "execution_count": 2,
   "metadata": {
    "id": "g6U7yF0cTtX1"
   },
   "outputs": [],
   "source": [
    "def funrecursion(x,start,end):\n",
    "    if start>end:\n",
    "        print(x)\n",
    "        return\n",
    "    x[start],x[end]=x[end],x[start]\n",
    "    funrecursion(x,start+1,end-1)\n"
   ]
  },
  {
   "cell_type": "code",
   "execution_count": 3,
   "metadata": {
    "colab": {
     "base_uri": "https://localhost:8080/"
    },
    "id": "ujOK0MdNUwss",
    "outputId": "a9cfa754-e1e1-4756-d1bf-4786c81baa17"
   },
   "outputs": [
    {
     "name": "stdout",
     "output_type": "stream",
     "text": [
      "[5, 4, 3, 2, 1]\n"
     ]
    }
   ],
   "source": [
    "def funPy(x):\n",
    "    print(x[::-1])\n",
    "\n",
    "funPy([1,2,3,4,5])"
   ]
  },
  {
   "cell_type": "code",
   "execution_count": 4,
   "metadata": {
    "colab": {
     "base_uri": "https://localhost:8080/"
    },
    "id": "1toFYwJFUche",
    "outputId": "6a4e5372-bf88-45e0-be63-058720299b0d"
   },
   "outputs": [
    {
     "name": "stdout",
     "output_type": "stream",
     "text": [
      "[5, 4, 3, 2, 1]\n"
     ]
    }
   ],
   "source": [
    "funrecursion([1,2,3,4,5],0,4)"
   ]
  },
  {
   "cell_type": "code",
   "execution_count": 5,
   "metadata": {
    "colab": {
     "base_uri": "https://localhost:8080/"
    },
    "id": "pHIjnfrATKsG",
    "outputId": "36b0d280-ec54-42db-efe3-9afb5c69234a"
   },
   "outputs": [
    {
     "name": "stdout",
     "output_type": "stream",
     "text": [
      "[5, 4, 3, 2, 1]\n"
     ]
    }
   ],
   "source": [
    "fun([1,2,3,4,5])"
   ]
  },
  {
   "cell_type": "markdown",
   "metadata": {
    "id": "xTbY4RzfUtps"
   },
   "source": [
    "2 Maximum and minimum of an array using minimum number of comparisons"
   ]
  },
  {
   "cell_type": "code",
   "execution_count": 6,
   "metadata": {
    "id": "aag9Ih53qysk"
   },
   "outputs": [],
   "source": [
    "def compare(x,low,high):\n",
    "    if len(x)==1:\n",
    "        return x[0],x[0]\n",
    "    if len(x)==2:\n",
    "        if x[0]>x[1]:\n",
    "            return x[1],x[0]\n",
    "        else:\n",
    "            return x[0],x[1]\n",
    "    print(x,low,high)\n",
    "    minL,maxL=compare(x[low:high//2],low,high//2)\n",
    "    minR,maxR=compare(x[(high//2)+1:high],(high//2)+1,high)\n",
    "    return min(minL,minR),max(maxL,maxR)"
   ]
  },
  {
   "cell_type": "code",
   "execution_count": 7,
   "metadata": {
    "colab": {
     "base_uri": "https://localhost:8080/"
    },
    "id": "xVpEI5mgalYK",
    "outputId": "b431a7a0-bd88-425a-a19a-0021c5770d9c"
   },
   "outputs": [
    {
     "name": "stdout",
     "output_type": "stream",
     "text": [
      "[7, 10, 4, 3, 20, 15] 0 5\n",
      "min = 3 max = 20\n"
     ]
    }
   ],
   "source": [
    "arr=[7, 10, 4, 3, 20, 15]\n",
    "low=0\n",
    "high=len(arr)-1\n",
    "mins,maxs=compare(arr,low,high)\n",
    "print(\"min =\",mins,\"max =\",maxs)"
   ]
  },
  {
   "cell_type": "markdown",
   "metadata": {
    "id": "PRQ-q72LrH8F"
   },
   "source": [
    "4 Given an array of size N containing only 0s, 1s, and 2s; sort the array in ascending order."
   ]
  },
  {
   "cell_type": "code",
   "execution_count": 8,
   "metadata": {
    "id": "5bXaBPTVq9O2"
   },
   "outputs": [],
   "source": [
    "def mysort012(arr):\n",
    "        zero,one,two=[],[],[]\n",
    "        for i in arr:\n",
    "            if i==0:\n",
    "                zero.append(0)\n",
    "            elif i==1:\n",
    "                one.append(1)\n",
    "            else:\n",
    "                two.append(2)\n",
    "        arr=zero+one+two\n",
    "        print(arr)"
   ]
  },
  {
   "cell_type": "code",
   "execution_count": 9,
   "metadata": {
    "colab": {
     "base_uri": "https://localhost:8080/"
    },
    "id": "hM8_GKFvshXp",
    "outputId": "0584cf1d-4c73-429e-bfa7-0a936040ca5a"
   },
   "outputs": [
    {
     "name": "stdout",
     "output_type": "stream",
     "text": [
      "[0, 0, 0, 0, 0, 0, 0, 1, 1, 1, 1, 1, 1, 1, 2, 2, 2, 2, 2, 2, 2]\n"
     ]
    }
   ],
   "source": [
    "mysort012([1,2,1,0,2,0,2,0,1,2,0,1,1,0,2,1,2,0,1,2,0])"
   ]
  },
  {
   "cell_type": "code",
   "execution_count": 10,
   "metadata": {
    "id": "rU4jlEjqwc8x"
   },
   "outputs": [],
   "source": [
    "def sort012(arr,n):\n",
    "        low=0\n",
    "        high=n-1\n",
    "        mid=0\n",
    "        while mid<=high:\n",
    "            if arr[mid]==0:\n",
    "                arr[mid] , arr[low] = arr[low] , arr[mid]\n",
    "                mid+=1\n",
    "                low+=1\n",
    "            \n",
    "            elif arr[mid]==1:\n",
    "                mid+=1\n",
    "            \n",
    "            else:\n",
    "                arr[mid] , arr[high] = arr[high] , arr[mid]\n",
    "                high-=1"
   ]
  },
  {
   "cell_type": "code",
   "execution_count": 11,
   "metadata": {
    "id": "qeF1ZJ9jydtX"
   },
   "outputs": [],
   "source": [
    "arr=[1,2,0,2,0,1,0,2]\n",
    "n=len(arr)\n",
    "sort012(arr,n)"
   ]
  },
  {
   "cell_type": "markdown",
   "metadata": {
    "id": "Pd6h9uiFoNfi"
   },
   "source": [
    "3 Given an array arr[] and a number K where K is smaller than size of array, the task is to find the Kth smallest element in the given array. It is given that all array elements are distinct."
   ]
  },
  {
   "cell_type": "code",
   "execution_count": 12,
   "metadata": {
    "id": "f8sxCfPqzEFp"
   },
   "outputs": [],
   "source": [
    "def kth(arr, l, r, k):\n",
    "    print(arr,l,r,k)\n",
    "    if k<1 or k>r:\n",
    "        return None,None\n",
    "    if k==1:\n",
    "        print('arr=',arr)\n",
    "        return compK(arr,l,r)\n",
    "    \n",
    "    minL,maxL=compK(arr,l,r)\n",
    "    arr=[x for x in arr if x!=minL and x!=maxL]\n",
    "    print(minL,maxL,arr)\n",
    "    kth(arr,l,r-2,k-1)\n",
    "    return minL,maxL"
   ]
  },
  {
   "cell_type": "code",
   "execution_count": 13,
   "metadata": {
    "id": "RA6F2CFPyQzI"
   },
   "outputs": [],
   "source": [
    "def compK(x,low,high):\n",
    "    if len(x)==1:\n",
    "        return x[0],x[0]\n",
    "    if len(x)==2:\n",
    "        if x[0]>x[1]:\n",
    "            return x[1],x[0]\n",
    "        else:\n",
    "            return x[0],x[1]\n",
    "    print(\"x=\",x)\n",
    "    minL,maxL=compK(x[low:high//2],low,high//2)\n",
    "    minR,maxR=compK(x[(high//2)+1:high],(high//2)+1,high)\n",
    "    return min(minL,minR),max(maxL,maxR)"
   ]
  },
  {
   "cell_type": "code",
   "execution_count": 14,
   "metadata": {
    "colab": {
     "base_uri": "https://localhost:8080/"
    },
    "id": "OpOKlUFdtGQg",
    "outputId": "3ba837fe-d9c5-4316-eba0-eb45ce01a644"
   },
   "outputs": [
    {
     "name": "stdout",
     "output_type": "stream",
     "text": [
      "[7, 10, 4, 15] 0 3 2\n",
      "4 7 [10, 15]\n",
      "[10, 15] 0 1 1\n",
      "arr= [10, 15]\n",
      "4 7\n"
     ]
    }
   ],
   "source": [
    "arr=[7, 10, 4, 15]\n",
    "k=2\n",
    "l=0\n",
    "r=len(arr)-1\n",
    "minL,maxL=kth(arr,l,r,k)\n",
    "print(minL,maxL)"
   ]
  },
  {
   "cell_type": "code",
   "execution_count": null,
   "metadata": {
    "id": "CVWgBGMey_I7"
   },
   "outputs": [],
   "source": []
  }
 ],
 "metadata": {
  "colab": {
   "collapsed_sections": [],
   "name": "450 CP",
   "provenance": []
  },
  "kernelspec": {
   "display_name": "Python 3",
   "language": "python",
   "name": "python3"
  },
  "language_info": {
   "codemirror_mode": {
    "name": "ipython",
    "version": 3
   },
   "file_extension": ".py",
   "mimetype": "text/x-python",
   "name": "python",
   "nbconvert_exporter": "python",
   "pygments_lexer": "ipython3",
   "version": "3.9.1"
  }
 },
 "nbformat": 4,
 "nbformat_minor": 1
}
