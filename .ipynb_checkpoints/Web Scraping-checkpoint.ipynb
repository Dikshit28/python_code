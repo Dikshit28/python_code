{
 "cells": [
  {
   "cell_type": "markdown",
   "metadata": {},
   "source": [
    "# What is Web Scrapping\n",
    "The internet is full of huge amount of data which can be used for different purposes. To collect this data we need to know how to scrape data from a website.\n",
    "\n",
    "Web scraping is the process of extracting and collecting data from websites and storing it on a local machine or in a database.\n",
    "\n",
    "In this section, we will use beautifulsoup and requests package to scrape data. The package version we are using is beautifulsoup 4.\n",
    "\n",
    "To start scraping websites you need requests, beautifoulSoup4 and website."
   ]
  },
  {
   "cell_type": "markdown",
   "metadata": {},
   "source": [
    "pip install requests\n",
    "pip install beautifulsoup4"
   ]
  },
  {
   "cell_type": "markdown",
   "metadata": {},
   "source": [
    "## Importing"
   ]
  },
  {
   "cell_type": "code",
   "execution_count": 1,
   "metadata": {},
   "outputs": [],
   "source": [
    "import requests\n",
    "from bs4 import BeautifulSoup"
   ]
  },
  {
   "cell_type": "markdown",
   "metadata": {},
   "source": [
    "## Example"
   ]
  },
  {
   "cell_type": "code",
   "execution_count": 22,
   "metadata": {},
   "outputs": [
    {
     "name": "stdout",
     "output_type": "stream",
     "text": [
      "200\n"
     ]
    }
   ],
   "source": [
    "url = 'http://g2pc1.bu.edu/~qzpeng/manual/MySQL%20Commands.htm'\n",
    "\n",
    "# Lets use the requests get method to fetch the data from url\n",
    "\n",
    "response = requests.get(url)\n",
    "\n",
    "\n",
    "# lets check the status\n",
    "status = response.status_code\n",
    "print(status) # 200 means the fetching was successful\n"
   ]
  },
  {
   "cell_type": "code",
   "execution_count": 23,
   "metadata": {},
   "outputs": [
    {
     "name": "stdout",
     "output_type": "stream",
     "text": [
      "<!DOCTYPE HTML PUBLIC \"-//W3C//DTD HTML 4.0 Transitional//EN\">\r\n",
      "<!-- saved from url=(0055)http://www.pantz.org/database/mysql/mysqlcommands.shtml -->\r\n",
      "<HTML><HEAD><TITLE>MySQL Commands</TITLE>\r\n",
      "<META http-equiv=Content-Type content=\"text/html; charset=iso-8859-1\">\r\n",
      "<META content=\"MSHTML 6.00.2900.2963\" name=GENERATOR></HEAD>\r\n",
      "<BODY><!-- start menu -->\r\n",
      "<CENTER>\r\n",
      "<TABLE cellSpacing=0 cellPadding=6 bgColor=#aaaaaa border=1>\r\n",
      "  <TBODY>\r\n",
      "  <TR>\r\n",
      "    <TD><A href=\"http://www.pantz.org/index.shtml\">Main Menu</A></TD>\r\n",
      "    <TD><A href=\"http://www.pantz.org/blog\">Blog</A></TD>\r\n",
      "    <TD><A \r\n",
      "href=\"http://www.pantz.org/about.shtml\">About</A></TD></TR></TBODY></TABLE></CENTER>\r\n",
      "<P></P><!-- end menu -->\r\n",
      "<CENTER>\r\n",
      "<TABLE>\r\n",
      "  <TBODY>\r\n",
      "  <TR>\r\n",
      "    <TD><PRE>  __  __       ____   ___  _\r\n",
      " |  \\/  |_   _/ ___| / _ \\| |\r\n",
      " | |\\/| | | | \\___ \\| | | | |\r\n",
      " | |  | | |_| |___) | |_| | |___\r\n",
      " |_|  |_|\\__, |____/ \\__\\_\\_____|\r\n",
      "         |___/\r\n",
      " </PRE></TD></TR></TBODY></TABLE></CENTER><BR>\r\n",
      "<TABLE border=1>\r\n",
      "  <TBODY>\r\n",
      "  <TR>\r\n",
      "    <TD align=middle bgColor=#aaaaaa colSpan=2><FONT size=3><B>Handy MySQL \r\n",
      "      Commands</B></FONT> </TD></TR>\r\n",
      "  <TR>\r\n",
      "    <TD><B>Description</B></TD>\r\n",
      "    <TD><B>Command</B></TD></TR>\r\n",
      "  <TR>\r\n",
      "    <TD>To login (from unix shell) use -h only if needed.</TD>\r\n",
      "    <TD>[mysql dir]/bin/mysql -h hostname -u root -p</TD></TR>\r\n",
      "  <TR>\r\n",
      "    <TD>Create a database on the sql server.</TD>\r\n",
      "    <TD>create database [databasename];</TD></TR>\r\n",
      "  <TR>\r\n",
      "    <TD>List all databases on the sql server.</TD>\r\n",
      "    <TD>show databases;</TD></TR>\r\n",
      "  <TR>\r\n",
      "    <TD>Switch to a database.</TD>\r\n",
      "    <TD>use [db name];</TD></TR>\r\n",
      "  <TR>\r\n",
      "    <TD>To see all the tables in the db.</TD>\r\n",
      "    <TD>show tables;</TD></TR>\r\n",
      "  <TR>\r\n",
      "    <TD>To see database's field formats.</TD>\r\n",
      "    <TD>describe [table name];</TD></TR>\r\n",
      "  <TR>\r\n",
      "    <TD>To delete a db.</TD>\r\n",
      "    <TD>drop database [database name];</TD></TR>\r\n",
      "  <TR>\r\n",
      "    <TD>To delete a table.</TD>\r\n",
      "    <TD>drop table [table name];</TD></TR>\r\n",
      "  <TR>\r\n",
      "    <TD>Show all data in a table.</TD>\r\n",
      "    <TD>SELECT * FROM [table name];</TD></TR>\r\n",
      "  <TR>\r\n",
      "    <TD>Returns the columns and column information pertaining to the \r\n",
      "      designated table.</TD>\r\n",
      "    <TD>show columns from [table name];\r\n",
      "    <TD>\r\n",
      "  <TR>\r\n",
      "  <TR>\r\n",
      "    <TD>Show certain selected rows with the value \"whatever\".</TD>\r\n",
      "    <TD>SELECT * FROM [table name] WHERE [field name] = \"whatever\";\r\n",
      "    <TD>\r\n",
      "  <TR>\r\n",
      "  <TR>\r\n",
      "    <TD>Show all records containing the name \"Bob\" AND the phone number \r\n",
      "      '3444444'.</TD>\r\n",
      "    <TD>SELECT * FROM [table name] WHERE name = \"Bob\" AND phone_number = \r\n",
      "      '3444444';\r\n",
      "    <TD>\r\n",
      "  <TR>\r\n",
      "  <TR>\r\n",
      "    <TD>Show all records not containing the name \"Bob\" AND the phone number \r\n",
      "      '3444444' order by the phone_number field.</TD>\r\n",
      "    <TD>SELECT * FROM [table name] WHERE name != \"Bob\" AND phone_number = \r\n",
      "      '3444444' order by phone_number;\r\n",
      "    <TD>\r\n",
      "  <TR>\r\n",
      "  <TR>\r\n",
      "    <TD>Show all records starting with the letters 'bob' AND the phone number \r\n",
      "      '3444444'.</TD>\r\n",
      "    <TD>SELECT * FROM [table name] WHERE name like \"Bob%\" AND phone_number = \r\n",
      "      '3444444';\r\n",
      "    <TD>\r\n",
      "  <TR>\r\n",
      "  <TR>\r\n",
      "    <TD>Use a regular expression to find records. Use \"REGEXP BINARY\" to force \r\n",
      "      case-sensitivity. This finds any record beginning with a. </TD>\r\n",
      "    <TD>SELECT * FROM [table name] WHERE rec RLIKE \"^a$\";\r\n",
      "    <TD>\r\n",
      "  <TR>\r\n",
      "  <TR>\r\n",
      "    <TD>Show unique records.</TD>\r\n",
      "    <TD>SELECT DISTINCT [column name] FROM [table name];</TD></TR>\r\n",
      "  <TR>\r\n",
      "    <TD>Show selected records sorted in an ascending (asc) or descending \r\n",
      "      (desc).</TD>\r\n",
      "    <TD>SELECT [col1],[col2] FROM [table name] ORDER BY [col2] DESC;</TD></TR>\r\n",
      "  <TR>\r\n",
      "    <TD>Count rows.</TD>\r\n",
      "    <TD>SELECT COUNT(*) FROM [table name];\r\n",
      "    <TD>\r\n",
      "  <TR>\r\n",
      "  <TR>\r\n",
      "    <TD>Join tables on common columns.</TD>\r\n",
      "    <TD>select lookup.illustrationid, lookup.personid,person.birthday from \r\n",
      "      lookup<BR>left join person on lookup.personid=person.personid=statement to \r\n",
      "      join birthday in person table with primary illustration id;</TD></TR>\r\n",
      "  <TR>\r\n",
      "    <TD>Switch to the mysql db. Create a new user.\r\n",
      "    <TD>INSERT INTO [table name] (Host,User,Password) \r\n",
      "      VALUES('%','user',PASSWORD('password'));</TD></TR>\r\n",
      "  <TR>\r\n",
      "    <TD>Change a users password.(from unix shell).</TD>\r\n",
      "    <TD>[mysql dir]/bin/mysqladmin -u root -h hostname.blah.org -p password \r\n",
      "      'new-password'</TD></TR>\r\n",
      "  <TR>\r\n",
      "    <TD>Change a users password.(from MySQL prompt).</TD>\r\n",
      "    <TD>SET PASSWORD FOR 'user'@'hostname' = PASSWORD('passwordhere');</TD></TR>\r\n",
      "  <TR>\r\n",
      "    <TD>Switch to mysql db.Give user privilages for a db.</TD>\r\n",
      "    <TD>INSERT INTO [table name] \r\n",
      "      (Host,Db,User,Select_priv,Insert_priv,Update_priv,Delete_priv,Create_priv,Drop_priv) \r\n",
      "      VALUES ('%','db','user','Y','Y','Y','Y','Y','N');</TD></TR>\r\n",
      "  <TR>\r\n",
      "    <TD>To update info already in a table.</TD>\r\n",
      "    <TD>UPDATE [table name] SET Select_priv = 'Y',Insert_priv = \r\n",
      "      'Y',Update_priv = 'Y' where [field name] = 'user';</TD></TR>\r\n",
      "  <TR>\r\n",
      "    <TD>Delete a row(s) from a table.</TD>\r\n",
      "    <TD>DELETE from [table name] where [field name] = 'whatever';</TD></TR>\r\n",
      "  <TR>\r\n",
      "    <TD>Update database permissions/privilages.</TD>\r\n",
      "    <TD>FLUSH PRIVILEGES;</TD></TR>\r\n",
      "  <TR>\r\n",
      "    <TD>Delete a column.</TD>\r\n",
      "    <TD>alter table [table name] drop column [column name];</TD></TR>\r\n",
      "  <TR>\r\n",
      "    <TD>Add a new column to db.</TD>\r\n",
      "    <TD>alter table [table name] add column [new column name] varchar \r\n",
      "  (20);</TD></TR>\r\n",
      "  <TR>\r\n",
      "    <TD>Change column name.</TD>\r\n",
      "    <TD>alter table [table name] change [old column name] [new column name] \r\n",
      "      varchar (50);</TD></TR>\r\n",
      "  <TR>\r\n",
      "    <TD>Make a unique column so you get no dupes.</TD>\r\n",
      "    <TD>alter table [table name] add unique ([column name]);</TD></TR>\r\n",
      "  <TR>\r\n",
      "    <TD>Make a column bigger.</TD>\r\n",
      "    <TD>alter table [table name] modify [column name] VARCHAR(3);</TD></TR>\r\n",
      "  <TR>\r\n",
      "    <TD>Delete unique from table.</TD>\r\n",
      "    <TD>alter table [table name] drop index [colmn name];</TD></TR>\r\n",
      "  <TR>\r\n",
      "    <TD>Load a CSV file into a table.</TD>\r\n",
      "    <TD>LOAD DATA INFILE '/tmp/filename.csv' replace INTO TABLE [table name] \r\n",
      "      FIELDS TERMINATED BY ',' LINES TERMINATED BY '\\n' \r\n",
      "    (field1,field2,field3);</TD></TR>\r\n",
      "  <TR>\r\n",
      "    <TD>Dump all databases for backup. Backup file is sql commands to recreate \r\n",
      "      all db's.</TD>\r\n",
      "    <TD>[mysql dir]/bin/mysqldump -u root -ppassword --opt \r\n",
      "      &gt;/tmp/alldatabases.sql</TD></TR>\r\n",
      "  <TR>\r\n",
      "    <TD>Dump one database for backup.</TD>\r\n",
      "    <TD>[mysql dir]/bin/mysqldump -u username -ppassword --databases \r\n",
      "      databasename &gt;/tmp/databasename.sql</TD></TR>\r\n",
      "  <TR>\r\n",
      "    <TD>Dump a table from a database.</TD>\r\n",
      "    <TD>[mysql dir]/bin/mysqldump -c -u username -ppassword databasename \r\n",
      "      tablename &gt; /tmp/databasename.tablename.sql</TD></TR>\r\n",
      "  <TR>\r\n",
      "    <TD>Restore database (or database table) from backup.</TD>\r\n",
      "    <TD>[mysql dir]/bin/mysql -u username -ppassword databasename &lt; \r\n",
      "      /tmp/databasename.sql </TD></TR>\r\n",
      "  <TR>\r\n",
      "    <TD>Create Table Example 1.</TD>\r\n",
      "    <TD>CREATE TABLE [table name] (firstname VARCHAR(20), middleinitial \r\n",
      "      VARCHAR(3), lastname VARCHAR(35),suffix VARCHAR(3),<BR>officeid \r\n",
      "      VARCHAR(10),userid VARCHAR(15),username VARCHAR(8),email VARCHAR(35),phone \r\n",
      "      VARCHAR(25), groups <BR>VARCHAR(15),datestamp DATE,timestamp time,pgpemail \r\n",
      "      VARCHAR(255)); </TD></TR>\r\n",
      "  <TR>\r\n",
      "    <TD>Create Table Example 2.</TD>\r\n",
      "    <TD>create table [table name] (personid int(50) not null auto_increment \r\n",
      "      primary key,firstname varchar(35),middlename varchar(50),lastname \r\n",
      "      varchar(50) default 'bato'); </TD></TR></TBODY></TABLE></BODY></HTML>\r\n",
      "\n"
     ]
    }
   ],
   "source": [
    "print(response.text)"
   ]
  },
  {
   "cell_type": "code",
   "execution_count": 57,
   "metadata": {},
   "outputs": [
    {
     "name": "stdout",
     "output_type": "stream",
     "text": [
      "To login (from unix shell) use -h only if needed. : [mysql dir]/bin/mysql -h hostname -u root -p\n",
      "\n",
      "Create a database on the sql server. : create database [databasename];\n",
      "\n",
      "List all databases on the sql server. : show databases;\n",
      "\n",
      "Switch to a database. : use [db name];\n",
      "\n",
      "To see all the tables in the db. : show tables;\n",
      "\n"
     ]
    }
   ],
   "source": [
    "html_soup = BeautifulSoup(response.text, 'html.parser')\n",
    "table=html_soup.findAll('td')\n",
    "d={}\n",
    "for i in range(7,17,2):\n",
    "    d[table[i].text]=table[i+1].text\n",
    "    print(table[i].text,\":\",table[i+1].text)\n",
    "    print()\n"
   ]
  },
  {
   "cell_type": "code",
   "execution_count": 60,
   "metadata": {},
   "outputs": [
    {
     "name": "stdout",
     "output_type": "stream",
     "text": [
      "To login (from unix shell) use -h only if needed. : [mysql dir]/bin/mysql -h hostname -u root -p\n",
      "\n",
      "Create a database on the sql server. : create database [databasename];\n",
      "\n",
      "List all databases on the sql server. : show databases;\n",
      "\n",
      "Switch to a database. : use [db name];\n",
      "\n",
      "To see all the tables in the db. : show tables;\n",
      "\n"
     ]
    }
   ],
   "source": [
    "for key,value in d.items():\n",
    "    print(key,\":\",value)\n",
    "    print()"
   ]
  },
  {
   "cell_type": "code",
   "execution_count": 9,
   "metadata": {},
   "outputs": [
    {
     "name": "stdout",
     "output_type": "stream",
     "text": [
      "Confirmed Cases : 103969901 \n",
      "Deaths : 2248872 \n",
      "Recovered : 75817103\n"
     ]
    }
   ],
   "source": [
    "r=requests.get('https://coronavirus-19-api.herokuapp.com/all')\n",
    "data = r.json()\n",
    "text = f'Confirmed Cases : {data[\"cases\"]} \\nDeaths : {data[\"deaths\"]} \\nRecovered : {data[\"recovered\"]}'\n",
    "print(text)"
   ]
  },
  {
   "cell_type": "code",
   "execution_count": 13,
   "metadata": {},
   "outputs": [
    {
     "name": "stdout",
     "output_type": "stream",
     "text": [
      "{'name': 'Adele Oberbrunner Sr.', 'address': '51163 Aurelia Park\\nLangbury, MD 75304', 'latitude': -21.261353, 'longitude': 96.519225, 'maiden_name': 'Frami', 'birth_data': '1991-10-26', 'phone_h': '1-178-257-0782x31391', 'phone_w': '+19(5)3278017882', 'email_u': 'jaclyn.zulauf', 'email_d': 'quickhondaparts.com', 'username': 'mheathcote', 'password': 'v]A?Pm(*R0;', 'domain': 'lebsack.com', 'useragent': 'Opera/8.39 (X11; Linux x86_64; en-US) Presto/2.10.203 Version/12.00', 'ipv4': '163.142.181.16', 'macaddress': 'A5:8D:65:A3:AE:AE', 'plasticcard': '5308120206915542', 'cardexpir': '04/21', 'bonus': 25, 'company': 'Auer, Blick and Skiles', 'color': 'olive', 'uuid': '2405914e-d48d-3ecb-aa64-11e8eb003ce7', 'height': 188, 'weight': 46.1, 'blood': 'O+', 'eye': 'Blue', 'hair': 'Wavy, Black', 'pict': '3female', 'url': 'https://api.namefake.com/english-united-states/female/ccbca64731457524a442ee65783857dd', 'sport': 'Cycling BMX', 'ipv4_url': '//myip-address.com/ip-lookup/163.142.181.16', 'email_url': '//emailfake.com/quickhondaparts.com/jaclyn.zulauf', 'domain_url': '//myip-address.com/ip-lookup/lebsack.com'}\n"
     ]
    }
   ],
   "source": [
    "r=requests.get('https://api.namefake.com/english-united-states/female/')\n",
    "data = r.json()\n",
    "print(data)"
   ]
  },
  {
   "cell_type": "code",
   "execution_count": 20,
   "metadata": {},
   "outputs": [
    {
     "name": "stdout",
     "output_type": "stream",
     "text": [
      "My name is : Adele Oberbrunner Sr.\n",
      "Maiden name is : Frami \n",
      "Address is : 51163 Aurelia Park\n",
      "Langbury, MD 75304\n",
      "Email ID is : quickhondaparts.com\n",
      "UserName is : mheathcote\n",
      "Password is : v]A?Pm(*R0;\n"
     ]
    }
   ],
   "source": [
    "text=f'''My name is : {data[\"name\"]}\\nMaiden name is : {data['maiden_name']} \\nAddress is : {data['address']}\\nEmail ID is : {data['email_d']}\\nUserName is : {data[\"username\"]}\\nPassword is : {data[\"password\"]}'''\n",
    "\n",
    "print(text)"
   ]
  },
  {
   "cell_type": "code",
   "execution_count": null,
   "metadata": {},
   "outputs": [],
   "source": []
  }
 ],
 "metadata": {
  "kernelspec": {
   "display_name": "Python 3",
   "language": "python",
   "name": "python3"
  },
  "language_info": {
   "codemirror_mode": {
    "name": "ipython",
    "version": 3
   },
   "file_extension": ".py",
   "mimetype": "text/x-python",
   "name": "python",
   "nbconvert_exporter": "python",
   "pygments_lexer": "ipython3",
   "version": "3.9.1"
  }
 },
 "nbformat": 4,
 "nbformat_minor": 4
}
